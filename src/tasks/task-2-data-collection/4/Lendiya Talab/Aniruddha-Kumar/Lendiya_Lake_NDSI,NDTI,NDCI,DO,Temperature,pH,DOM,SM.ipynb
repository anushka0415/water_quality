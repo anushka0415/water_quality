{
  "nbformat": 4,
  "nbformat_minor": 0,
  "metadata": {
    "colab": {
      "provenance": []
    },
    "kernelspec": {
      "name": "python3",
      "display_name": "Python 3"
    },
    "language_info": {
      "name": "python"
    },
    "accelerator": "GPU",
    "gpuClass": "standard"
  },
  "cells": [
    {
      "cell_type": "code",
      "source": [
        " !pip install geemap"
      ],
      "metadata": {
        "id": "UogFxHUz-h1x",
        "colab": {
          "base_uri": "https://localhost:8080/"
        },
        "outputId": "7ecb1c92-c96d-402a-a5de-321b1e77744c"
      },
      "execution_count": null,
      "outputs": [
        {
          "output_type": "stream",
          "name": "stdout",
          "text": [
            "Looking in indexes: https://pypi.org/simple, https://us-python.pkg.dev/colab-wheels/public/simple/\n",
            "Collecting geemap\n",
            "  Downloading geemap-0.20.1-py2.py3-none-any.whl (2.1 MB)\n",
            "\u001b[2K     \u001b[90m━━━━━━━━━━━━━━━━━━━━━━━━━━━━━━━━━━━━━━━━\u001b[0m \u001b[32m2.1/2.1 MB\u001b[0m \u001b[31m68.9 MB/s\u001b[0m eta \u001b[36m0:00:00\u001b[0m\n",
            "\u001b[?25hCollecting scooby\n",
            "  Downloading scooby-0.7.1-py3-none-any.whl (16 kB)\n",
            "Collecting pycrs\n",
            "  Downloading PyCRS-1.0.2.tar.gz (36 kB)\n",
            "  Preparing metadata (setup.py) ... \u001b[?25l\u001b[?25hdone\n",
            "Requirement already satisfied: ipywidgets<8.0.0 in /usr/local/lib/python3.8/dist-packages (from geemap) (7.7.1)\n",
            "Requirement already satisfied: pillow in /usr/local/lib/python3.8/dist-packages (from geemap) (8.4.0)\n",
            "Collecting python-box\n",
            "  Downloading python_box-7.0.1-cp38-cp38-manylinux_2_5_x86_64.manylinux1_x86_64.manylinux_2_12_x86_64.manylinux2010_x86_64.whl (3.6 MB)\n",
            "\u001b[2K     \u001b[90m━━━━━━━━━━━━━━━━━━━━━━━━━━━━━━━━━━━━━━━━\u001b[0m \u001b[32m3.6/3.6 MB\u001b[0m \u001b[31m64.0 MB/s\u001b[0m eta \u001b[36m0:00:00\u001b[0m\n",
            "\u001b[?25hCollecting xyzservices\n",
            "  Downloading xyzservices-2023.2.0-py3-none-any.whl (55 kB)\n",
            "\u001b[2K     \u001b[90m━━━━━━━━━━━━━━━━━━━━━━━━━━━━━━━━━━━━━━━━\u001b[0m \u001b[32m55.4/55.4 KB\u001b[0m \u001b[31m1.9 MB/s\u001b[0m eta \u001b[36m0:00:00\u001b[0m\n",
            "\u001b[?25hCollecting pyperclip\n",
            "  Downloading pyperclip-1.8.2.tar.gz (20 kB)\n",
            "  Preparing metadata (setup.py) ... \u001b[?25l\u001b[?25hdone\n",
            "Collecting whiteboxgui>=0.6.0\n",
            "  Downloading whiteboxgui-2.2.0-py2.py3-none-any.whl (99 kB)\n",
            "\u001b[2K     \u001b[90m━━━━━━━━━━━━━━━━━━━━━━━━━━━━━━━━━━━━━━━━\u001b[0m \u001b[32m99.6/99.6 KB\u001b[0m \u001b[31m14.5 MB/s\u001b[0m eta \u001b[36m0:00:00\u001b[0m\n",
            "\u001b[?25hCollecting geeadd>=0.5.1\n",
            "  Downloading geeadd-0.5.6-py3-none-any.whl (30 kB)\n",
            "Requirement already satisfied: matplotlib in /usr/local/lib/python3.8/dist-packages (from geemap) (3.5.3)\n",
            "Collecting eerepr>=0.0.4\n",
            "  Downloading eerepr-0.0.4-py3-none-any.whl (9.7 kB)\n",
            "Collecting ipyevents\n",
            "  Downloading ipyevents-2.0.1-py2.py3-none-any.whl (130 kB)\n",
            "\u001b[2K     \u001b[90m━━━━━━━━━━━━━━━━━━━━━━━━━━━━━━━━━━━━━━\u001b[0m \u001b[32m130.5/130.5 KB\u001b[0m \u001b[31m19.1 MB/s\u001b[0m eta \u001b[36m0:00:00\u001b[0m\n",
            "\u001b[?25hCollecting geojson\n",
            "  Downloading geojson-3.0.1-py3-none-any.whl (15 kB)\n",
            "Collecting ipyfilechooser>=0.6.0\n",
            "  Downloading ipyfilechooser-0.6.0-py3-none-any.whl (11 kB)\n",
            "Collecting pyshp>=2.1.3\n",
            "  Downloading pyshp-2.3.1-py2.py3-none-any.whl (46 kB)\n",
            "\u001b[2K     \u001b[90m━━━━━━━━━━━━━━━━━━━━━━━━━━━━━━━━━━━━━━━━\u001b[0m \u001b[32m46.5/46.5 KB\u001b[0m \u001b[31m5.6 MB/s\u001b[0m eta \u001b[36m0:00:00\u001b[0m\n",
            "\u001b[?25hRequirement already satisfied: numpy in /usr/local/lib/python3.8/dist-packages (from geemap) (1.22.4)\n",
            "Collecting ffmpeg-python\n",
            "  Downloading ffmpeg_python-0.2.0-py3-none-any.whl (25 kB)\n",
            "Collecting sankee>=0.1.0\n",
            "  Downloading sankee-0.2.1.tar.gz (29 kB)\n",
            "  Preparing metadata (setup.py) ... \u001b[?25l\u001b[?25hdone\n",
            "Requirement already satisfied: pandas in /usr/local/lib/python3.8/dist-packages (from geemap) (1.3.5)\n",
            "Requirement already satisfied: earthengine-api>=0.1.304 in /usr/local/lib/python3.8/dist-packages (from geemap) (0.1.343)\n",
            "Collecting colour\n",
            "  Downloading colour-0.1.5-py2.py3-none-any.whl (23 kB)\n",
            "Requirement already satisfied: folium>=0.11.0 in /usr/local/lib/python3.8/dist-packages (from geemap) (0.12.1.post1)\n",
            "Requirement already satisfied: gdown in /usr/local/lib/python3.8/dist-packages (from geemap) (4.4.0)\n",
            "Collecting ipytree\n",
            "  Downloading ipytree-0.2.2-py2.py3-none-any.whl (1.3 MB)\n",
            "\u001b[2K     \u001b[90m━━━━━━━━━━━━━━━━━━━━━━━━━━━━━━━━━━━━━━━━\u001b[0m \u001b[32m1.3/1.3 MB\u001b[0m \u001b[31m61.2 MB/s\u001b[0m eta \u001b[36m0:00:00\u001b[0m\n",
            "\u001b[?25hCollecting bqplot\n",
            "  Downloading bqplot-0.12.36-py2.py3-none-any.whl (1.2 MB)\n",
            "\u001b[2K     \u001b[90m━━━━━━━━━━━━━━━━━━━━━━━━━━━━━━━━━━━━━━━━\u001b[0m \u001b[32m1.2/1.2 MB\u001b[0m \u001b[31m34.3 MB/s\u001b[0m eta \u001b[36m0:00:00\u001b[0m\n",
            "\u001b[?25hCollecting ipyleaflet>=0.17.0\n",
            "  Downloading ipyleaflet-0.17.2-py3-none-any.whl (3.7 MB)\n",
            "\u001b[2K     \u001b[90m━━━━━━━━━━━━━━━━━━━━━━━━━━━━━━━━━━━━━━━━\u001b[0m \u001b[32m3.7/3.7 MB\u001b[0m \u001b[31m28.7 MB/s\u001b[0m eta \u001b[36m0:00:00\u001b[0m\n",
            "\u001b[?25hCollecting geocoder\n",
            "  Downloading geocoder-1.38.1-py2.py3-none-any.whl (98 kB)\n",
            "\u001b[2K     \u001b[90m━━━━━━━━━━━━━━━━━━━━━━━━━━━━━━━━━━━━━━━━\u001b[0m \u001b[32m98.6/98.6 KB\u001b[0m \u001b[31m11.6 MB/s\u001b[0m eta \u001b[36m0:00:00\u001b[0m\n",
            "\u001b[?25hCollecting ee-extra>=0.0.10\n",
            "  Downloading ee_extra-0.0.15.tar.gz (224 kB)\n",
            "\u001b[2K     \u001b[90m━━━━━━━━━━━━━━━━━━━━━━━━━━━━━━━━━━━━━━\u001b[0m \u001b[32m224.7/224.7 KB\u001b[0m \u001b[31m11.9 MB/s\u001b[0m eta \u001b[36m0:00:00\u001b[0m\n",
            "\u001b[?25h  Preparing metadata (setup.py) ... \u001b[?25l\u001b[?25hdone\n",
            "Requirement already satisfied: google-cloud-storage in /usr/local/lib/python3.8/dist-packages (from earthengine-api>=0.1.304->geemap) (2.7.0)\n",
            "Requirement already satisfied: google-auth-httplib2>=0.0.3 in /usr/local/lib/python3.8/dist-packages (from earthengine-api>=0.1.304->geemap) (0.1.0)\n",
            "Requirement already satisfied: google-auth>=1.4.1 in /usr/local/lib/python3.8/dist-packages (from earthengine-api>=0.1.304->geemap) (2.16.2)\n",
            "Requirement already satisfied: httplib2<1dev,>=0.9.2 in /usr/local/lib/python3.8/dist-packages (from earthengine-api>=0.1.304->geemap) (0.17.4)\n",
            "Requirement already satisfied: requests in /usr/local/lib/python3.8/dist-packages (from earthengine-api>=0.1.304->geemap) (2.25.1)\n",
            "Requirement already satisfied: google-api-python-client>=1.12.1 in /usr/local/lib/python3.8/dist-packages (from earthengine-api>=0.1.304->geemap) (2.70.0)\n",
            "Requirement already satisfied: branca>=0.3.0 in /usr/local/lib/python3.8/dist-packages (from folium>=0.11.0->geemap) (0.6.0)\n",
            "Requirement already satisfied: jinja2>=2.9 in /usr/local/lib/python3.8/dist-packages (from folium>=0.11.0->geemap) (3.1.2)\n",
            "Collecting beautifulsoup4>=4.9.0\n",
            "  Downloading beautifulsoup4-4.11.2-py3-none-any.whl (129 kB)\n",
            "\u001b[2K     \u001b[90m━━━━━━━━━━━━━━━━━━━━━━━━━━━━━━━━━━━━━━\u001b[0m \u001b[32m129.4/129.4 KB\u001b[0m \u001b[31m15.5 MB/s\u001b[0m eta \u001b[36m0:00:00\u001b[0m\n",
            "\u001b[?25hCollecting logzero>=1.5.0\n",
            "  Downloading logzero-1.7.0-py2.py3-none-any.whl (16 kB)\n",
            "Collecting traittypes<3,>=0.2.1\n",
            "  Downloading traittypes-0.2.1-py2.py3-none-any.whl (8.6 kB)\n",
            "Requirement already satisfied: traitlets>=4.3.1 in /usr/local/lib/python3.8/dist-packages (from ipywidgets<8.0.0->geemap) (5.7.1)\n",
            "Requirement already satisfied: ipython>=4.0.0 in /usr/local/lib/python3.8/dist-packages (from ipywidgets<8.0.0->geemap) (7.9.0)\n",
            "Requirement already satisfied: ipykernel>=4.5.1 in /usr/local/lib/python3.8/dist-packages (from ipywidgets<8.0.0->geemap) (5.3.4)\n",
            "Requirement already satisfied: jupyterlab-widgets>=1.0.0 in /usr/local/lib/python3.8/dist-packages (from ipywidgets<8.0.0->geemap) (3.0.5)\n",
            "Requirement already satisfied: widgetsnbextension~=3.6.0 in /usr/local/lib/python3.8/dist-packages (from ipywidgets<8.0.0->geemap) (3.6.2)\n",
            "Requirement already satisfied: ipython-genutils~=0.2.0 in /usr/local/lib/python3.8/dist-packages (from ipywidgets<8.0.0->geemap) (0.2.0)\n",
            "Requirement already satisfied: plotly>=5.2.2 in /usr/local/lib/python3.8/dist-packages (from sankee>=0.1.0->geemap) (5.5.0)\n",
            "Collecting whitebox\n",
            "  Downloading whitebox-2.2.0-py2.py3-none-any.whl (79 kB)\n",
            "\u001b[2K     \u001b[90m━━━━━━━━━━━━━━━━━━━━━━━━━━━━━━━━━━━━━━━━\u001b[0m \u001b[32m79.9/79.9 KB\u001b[0m \u001b[31m5.1 MB/s\u001b[0m eta \u001b[36m0:00:00\u001b[0m\n",
            "\u001b[?25hRequirement already satisfied: python-dateutil>=2.7.3 in /usr/local/lib/python3.8/dist-packages (from pandas->geemap) (2.8.2)\n",
            "Requirement already satisfied: pytz>=2017.3 in /usr/local/lib/python3.8/dist-packages (from pandas->geemap) (2022.7.1)\n",
            "Requirement already satisfied: future in /usr/local/lib/python3.8/dist-packages (from ffmpeg-python->geemap) (0.16.0)\n",
            "Requirement already satisfied: filelock in /usr/local/lib/python3.8/dist-packages (from gdown->geemap) (3.9.0)\n",
            "Requirement already satisfied: six in /usr/local/lib/python3.8/dist-packages (from gdown->geemap) (1.15.0)\n",
            "Requirement already satisfied: tqdm in /usr/local/lib/python3.8/dist-packages (from gdown->geemap) (4.64.1)\n",
            "Requirement already satisfied: click in /usr/local/lib/python3.8/dist-packages (from geocoder->geemap) (8.1.3)\n",
            "Collecting ratelim\n",
            "  Downloading ratelim-0.1.6-py2.py3-none-any.whl (4.0 kB)\n",
            "Requirement already satisfied: kiwisolver>=1.0.1 in /usr/local/lib/python3.8/dist-packages (from matplotlib->geemap) (1.4.4)\n",
            "Requirement already satisfied: fonttools>=4.22.0 in /usr/local/lib/python3.8/dist-packages (from matplotlib->geemap) (4.38.0)\n",
            "Requirement already satisfied: pyparsing>=2.2.1 in /usr/local/lib/python3.8/dist-packages (from matplotlib->geemap) (3.0.9)\n",
            "Requirement already satisfied: cycler>=0.10 in /usr/local/lib/python3.8/dist-packages (from matplotlib->geemap) (0.11.0)\n",
            "Requirement already satisfied: packaging>=20.0 in /usr/local/lib/python3.8/dist-packages (from matplotlib->geemap) (23.0)\n",
            "Collecting soupsieve>1.2\n",
            "  Downloading soupsieve-2.4-py3-none-any.whl (37 kB)\n",
            "Requirement already satisfied: uritemplate<5,>=3.0.1 in /usr/local/lib/python3.8/dist-packages (from google-api-python-client>=1.12.1->earthengine-api>=0.1.304->geemap) (4.1.1)\n",
            "Requirement already satisfied: google-api-core!=2.0.*,!=2.1.*,!=2.2.*,!=2.3.0,<3.0.0dev,>=1.31.5 in /usr/local/lib/python3.8/dist-packages (from google-api-python-client>=1.12.1->earthengine-api>=0.1.304->geemap) (2.11.0)\n",
            "Requirement already satisfied: rsa<5,>=3.1.4 in /usr/local/lib/python3.8/dist-packages (from google-auth>=1.4.1->earthengine-api>=0.1.304->geemap) (4.9)\n",
            "Requirement already satisfied: pyasn1-modules>=0.2.1 in /usr/local/lib/python3.8/dist-packages (from google-auth>=1.4.1->earthengine-api>=0.1.304->geemap) (0.2.8)\n",
            "Requirement already satisfied: cachetools<6.0,>=2.0.0 in /usr/local/lib/python3.8/dist-packages (from google-auth>=1.4.1->earthengine-api>=0.1.304->geemap) (5.3.0)\n",
            "Requirement already satisfied: jupyter-client in /usr/local/lib/python3.8/dist-packages (from ipykernel>=4.5.1->ipywidgets<8.0.0->geemap) (6.1.12)\n",
            "Requirement already satisfied: tornado>=4.2 in /usr/local/lib/python3.8/dist-packages (from ipykernel>=4.5.1->ipywidgets<8.0.0->geemap) (6.2)\n",
            "Collecting jedi>=0.10\n",
            "  Downloading jedi-0.18.2-py2.py3-none-any.whl (1.6 MB)\n",
            "\u001b[2K     \u001b[90m━━━━━━━━━━━━━━━━━━━━━━━━━━━━━━━━━━━━━━━━\u001b[0m \u001b[32m1.6/1.6 MB\u001b[0m \u001b[31m91.6 MB/s\u001b[0m eta \u001b[36m0:00:00\u001b[0m\n",
            "\u001b[?25hRequirement already satisfied: pexpect in /usr/local/lib/python3.8/dist-packages (from ipython>=4.0.0->ipywidgets<8.0.0->geemap) (4.8.0)\n",
            "Requirement already satisfied: pickleshare in /usr/local/lib/python3.8/dist-packages (from ipython>=4.0.0->ipywidgets<8.0.0->geemap) (0.7.5)\n",
            "Requirement already satisfied: pygments in /usr/local/lib/python3.8/dist-packages (from ipython>=4.0.0->ipywidgets<8.0.0->geemap) (2.6.1)\n",
            "Requirement already satisfied: decorator in /usr/local/lib/python3.8/dist-packages (from ipython>=4.0.0->ipywidgets<8.0.0->geemap) (4.4.2)\n",
            "Requirement already satisfied: setuptools>=18.5 in /usr/local/lib/python3.8/dist-packages (from ipython>=4.0.0->ipywidgets<8.0.0->geemap) (57.4.0)\n",
            "Requirement already satisfied: backcall in /usr/local/lib/python3.8/dist-packages (from ipython>=4.0.0->ipywidgets<8.0.0->geemap) (0.2.0)\n",
            "Requirement already satisfied: prompt-toolkit<2.1.0,>=2.0.0 in /usr/local/lib/python3.8/dist-packages (from ipython>=4.0.0->ipywidgets<8.0.0->geemap) (2.0.10)\n",
            "Requirement already satisfied: MarkupSafe>=2.0 in /usr/local/lib/python3.8/dist-packages (from jinja2>=2.9->folium>=0.11.0->geemap) (2.1.2)\n",
            "Requirement already satisfied: tenacity>=6.2.0 in /usr/local/lib/python3.8/dist-packages (from plotly>=5.2.2->sankee>=0.1.0->geemap) (8.2.2)\n",
            "Requirement already satisfied: urllib3<1.27,>=1.21.1 in /usr/local/lib/python3.8/dist-packages (from requests->earthengine-api>=0.1.304->geemap) (1.26.14)\n",
            "Requirement already satisfied: certifi>=2017.4.17 in /usr/local/lib/python3.8/dist-packages (from requests->earthengine-api>=0.1.304->geemap) (2022.12.7)\n",
            "Requirement already satisfied: chardet<5,>=3.0.2 in /usr/local/lib/python3.8/dist-packages (from requests->earthengine-api>=0.1.304->geemap) (4.0.0)\n",
            "Requirement already satisfied: idna<3,>=2.5 in /usr/local/lib/python3.8/dist-packages (from requests->earthengine-api>=0.1.304->geemap) (2.10)\n",
            "Requirement already satisfied: notebook>=4.4.1 in /usr/local/lib/python3.8/dist-packages (from widgetsnbextension~=3.6.0->ipywidgets<8.0.0->geemap) (6.3.0)\n",
            "Requirement already satisfied: google-resumable-media>=2.3.2 in /usr/local/lib/python3.8/dist-packages (from google-cloud-storage->earthengine-api>=0.1.304->geemap) (2.4.1)\n",
            "Requirement already satisfied: google-cloud-core<3.0dev,>=2.3.0 in /usr/local/lib/python3.8/dist-packages (from google-cloud-storage->earthengine-api>=0.1.304->geemap) (2.3.2)\n",
            "Requirement already satisfied: PySocks!=1.5.7,>=1.5.6 in /usr/local/lib/python3.8/dist-packages (from requests->earthengine-api>=0.1.304->geemap) (1.7.1)\n",
            "Requirement already satisfied: googleapis-common-protos<2.0dev,>=1.56.2 in /usr/local/lib/python3.8/dist-packages (from google-api-core!=2.0.*,!=2.1.*,!=2.2.*,!=2.3.0,<3.0.0dev,>=1.31.5->google-api-python-client>=1.12.1->earthengine-api>=0.1.304->geemap) (1.58.0)\n",
            "Requirement already satisfied: protobuf!=3.20.0,!=3.20.1,!=4.21.0,!=4.21.1,!=4.21.2,!=4.21.3,!=4.21.4,!=4.21.5,<5.0.0dev,>=3.19.5 in /usr/local/lib/python3.8/dist-packages (from google-api-core!=2.0.*,!=2.1.*,!=2.2.*,!=2.3.0,<3.0.0dev,>=1.31.5->google-api-python-client>=1.12.1->earthengine-api>=0.1.304->geemap) (3.19.6)\n",
            "Requirement already satisfied: google-crc32c<2.0dev,>=1.0 in /usr/local/lib/python3.8/dist-packages (from google-resumable-media>=2.3.2->google-cloud-storage->earthengine-api>=0.1.304->geemap) (1.5.0)\n",
            "Requirement already satisfied: parso<0.9.0,>=0.8.0 in /usr/local/lib/python3.8/dist-packages (from jedi>=0.10->ipython>=4.0.0->ipywidgets<8.0.0->geemap) (0.8.3)\n",
            "Requirement already satisfied: jupyter-core>=4.6.1 in /usr/local/lib/python3.8/dist-packages (from notebook>=4.4.1->widgetsnbextension~=3.6.0->ipywidgets<8.0.0->geemap) (5.2.0)\n",
            "Requirement already satisfied: prometheus-client in /usr/local/lib/python3.8/dist-packages (from notebook>=4.4.1->widgetsnbextension~=3.6.0->ipywidgets<8.0.0->geemap) (0.16.0)\n",
            "Requirement already satisfied: nbconvert in /usr/local/lib/python3.8/dist-packages (from notebook>=4.4.1->widgetsnbextension~=3.6.0->ipywidgets<8.0.0->geemap) (6.5.4)\n",
            "Requirement already satisfied: pyzmq>=17 in /usr/local/lib/python3.8/dist-packages (from notebook>=4.4.1->widgetsnbextension~=3.6.0->ipywidgets<8.0.0->geemap) (23.2.1)\n",
            "Requirement already satisfied: argon2-cffi in /usr/local/lib/python3.8/dist-packages (from notebook>=4.4.1->widgetsnbextension~=3.6.0->ipywidgets<8.0.0->geemap) (21.3.0)\n",
            "Requirement already satisfied: terminado>=0.8.3 in /usr/local/lib/python3.8/dist-packages (from notebook>=4.4.1->widgetsnbextension~=3.6.0->ipywidgets<8.0.0->geemap) (0.13.3)\n",
            "Requirement already satisfied: nbformat in /usr/local/lib/python3.8/dist-packages (from notebook>=4.4.1->widgetsnbextension~=3.6.0->ipywidgets<8.0.0->geemap) (5.7.3)\n",
            "Requirement already satisfied: Send2Trash>=1.5.0 in /usr/local/lib/python3.8/dist-packages (from notebook>=4.4.1->widgetsnbextension~=3.6.0->ipywidgets<8.0.0->geemap) (1.8.0)\n",
            "Requirement already satisfied: wcwidth in /usr/local/lib/python3.8/dist-packages (from prompt-toolkit<2.1.0,>=2.0.0->ipython>=4.0.0->ipywidgets<8.0.0->geemap) (0.2.6)\n",
            "Requirement already satisfied: pyasn1<0.5.0,>=0.4.6 in /usr/local/lib/python3.8/dist-packages (from pyasn1-modules>=0.2.1->google-auth>=1.4.1->earthengine-api>=0.1.304->geemap) (0.4.8)\n",
            "Requirement already satisfied: ptyprocess>=0.5 in /usr/local/lib/python3.8/dist-packages (from pexpect->ipython>=4.0.0->ipywidgets<8.0.0->geemap) (0.7.0)\n",
            "Requirement already satisfied: platformdirs>=2.5 in /usr/local/lib/python3.8/dist-packages (from jupyter-core>=4.6.1->notebook>=4.4.1->widgetsnbextension~=3.6.0->ipywidgets<8.0.0->geemap) (3.0.0)\n",
            "Requirement already satisfied: argon2-cffi-bindings in /usr/local/lib/python3.8/dist-packages (from argon2-cffi->notebook>=4.4.1->widgetsnbextension~=3.6.0->ipywidgets<8.0.0->geemap) (21.2.0)\n",
            "Requirement already satisfied: entrypoints>=0.2.2 in /usr/local/lib/python3.8/dist-packages (from nbconvert->notebook>=4.4.1->widgetsnbextension~=3.6.0->ipywidgets<8.0.0->geemap) (0.4)\n",
            "Requirement already satisfied: bleach in /usr/local/lib/python3.8/dist-packages (from nbconvert->notebook>=4.4.1->widgetsnbextension~=3.6.0->ipywidgets<8.0.0->geemap) (6.0.0)\n",
            "Requirement already satisfied: mistune<2,>=0.8.1 in /usr/local/lib/python3.8/dist-packages (from nbconvert->notebook>=4.4.1->widgetsnbextension~=3.6.0->ipywidgets<8.0.0->geemap) (0.8.4)\n",
            "Requirement already satisfied: nbclient>=0.5.0 in /usr/local/lib/python3.8/dist-packages (from nbconvert->notebook>=4.4.1->widgetsnbextension~=3.6.0->ipywidgets<8.0.0->geemap) (0.7.2)\n",
            "Requirement already satisfied: tinycss2 in /usr/local/lib/python3.8/dist-packages (from nbconvert->notebook>=4.4.1->widgetsnbextension~=3.6.0->ipywidgets<8.0.0->geemap) (1.2.1)\n",
            "Requirement already satisfied: jupyterlab-pygments in /usr/local/lib/python3.8/dist-packages (from nbconvert->notebook>=4.4.1->widgetsnbextension~=3.6.0->ipywidgets<8.0.0->geemap) (0.2.2)\n",
            "Requirement already satisfied: defusedxml in /usr/local/lib/python3.8/dist-packages (from nbconvert->notebook>=4.4.1->widgetsnbextension~=3.6.0->ipywidgets<8.0.0->geemap) (0.7.1)\n",
            "Requirement already satisfied: pandocfilters>=1.4.1 in /usr/local/lib/python3.8/dist-packages (from nbconvert->notebook>=4.4.1->widgetsnbextension~=3.6.0->ipywidgets<8.0.0->geemap) (1.5.0)\n",
            "Requirement already satisfied: lxml in /usr/local/lib/python3.8/dist-packages (from nbconvert->notebook>=4.4.1->widgetsnbextension~=3.6.0->ipywidgets<8.0.0->geemap) (4.9.2)\n",
            "Requirement already satisfied: jsonschema>=2.6 in /usr/local/lib/python3.8/dist-packages (from nbformat->notebook>=4.4.1->widgetsnbextension~=3.6.0->ipywidgets<8.0.0->geemap) (4.3.3)\n",
            "Requirement already satisfied: fastjsonschema in /usr/local/lib/python3.8/dist-packages (from nbformat->notebook>=4.4.1->widgetsnbextension~=3.6.0->ipywidgets<8.0.0->geemap) (2.16.3)\n",
            "Requirement already satisfied: pyrsistent!=0.17.0,!=0.17.1,!=0.17.2,>=0.14.0 in /usr/local/lib/python3.8/dist-packages (from jsonschema>=2.6->nbformat->notebook>=4.4.1->widgetsnbextension~=3.6.0->ipywidgets<8.0.0->geemap) (0.19.3)\n",
            "Requirement already satisfied: attrs>=17.4.0 in /usr/local/lib/python3.8/dist-packages (from jsonschema>=2.6->nbformat->notebook>=4.4.1->widgetsnbextension~=3.6.0->ipywidgets<8.0.0->geemap) (22.2.0)\n",
            "Requirement already satisfied: importlib-resources>=1.4.0 in /usr/local/lib/python3.8/dist-packages (from jsonschema>=2.6->nbformat->notebook>=4.4.1->widgetsnbextension~=3.6.0->ipywidgets<8.0.0->geemap) (5.12.0)\n",
            "Requirement already satisfied: cffi>=1.0.1 in /usr/local/lib/python3.8/dist-packages (from argon2-cffi-bindings->argon2-cffi->notebook>=4.4.1->widgetsnbextension~=3.6.0->ipywidgets<8.0.0->geemap) (1.15.1)\n",
            "Requirement already satisfied: webencodings in /usr/local/lib/python3.8/dist-packages (from bleach->nbconvert->notebook>=4.4.1->widgetsnbextension~=3.6.0->ipywidgets<8.0.0->geemap) (0.5.1)\n",
            "Requirement already satisfied: pycparser in /usr/local/lib/python3.8/dist-packages (from cffi>=1.0.1->argon2-cffi-bindings->argon2-cffi->notebook>=4.4.1->widgetsnbextension~=3.6.0->ipywidgets<8.0.0->geemap) (2.21)\n",
            "Requirement already satisfied: zipp>=3.1.0 in /usr/local/lib/python3.8/dist-packages (from importlib-resources>=1.4.0->jsonschema>=2.6->nbformat->notebook>=4.4.1->widgetsnbextension~=3.6.0->ipywidgets<8.0.0->geemap) (3.15.0)\n",
            "Building wheels for collected packages: ee-extra, sankee, pycrs, pyperclip\n",
            "  Building wheel for ee-extra (setup.py) ... \u001b[?25l\u001b[?25hdone\n",
            "  Created wheel for ee-extra: filename=ee_extra-0.0.15-py3-none-any.whl size=236772 sha256=29a894615a34b37b991543648e3508e54d936bbc172a585fdd40bde52e2ca4f3\n",
            "  Stored in directory: /root/.cache/pip/wheels/ad/62/c2/83b116851b529a65410d8d6f771cfbacb4636b5287d55e1c21\n",
            "  Building wheel for sankee (setup.py) ... \u001b[?25l\u001b[?25hdone\n",
            "  Created wheel for sankee: filename=sankee-0.2.1-py3-none-any.whl size=29338 sha256=e3c1a8819c72312ef2f40c7da79ee5b9ce147bcafa9ecbdfc6fe638267735f8f\n",
            "  Stored in directory: /root/.cache/pip/wheels/94/c1/84/f42275344bce6ecb3b4f3fe74609f63143d5fe2150a908b7ab\n",
            "  Building wheel for pycrs (setup.py) ... \u001b[?25l\u001b[?25hdone\n",
            "  Created wheel for pycrs: filename=PyCRS-1.0.2-py3-none-any.whl size=32703 sha256=ab3b8ac26d8a0821d7ce258b33a360cdc29c80964eccc8d1288964c366ee0490\n",
            "  Stored in directory: /root/.cache/pip/wheels/c1/e9/f3/19ecf82bebc5cdaba5c2a83f673f7b9b09c26fbc9b57534a2e\n",
            "  Building wheel for pyperclip (setup.py) ... \u001b[?25l\u001b[?25hdone\n",
            "  Created wheel for pyperclip: filename=pyperclip-1.8.2-py3-none-any.whl size=11136 sha256=46cc81e16ad7f67033ece13f5d8f21e108ead650dac45f55faa40f5dd302cdae\n",
            "  Stored in directory: /root/.cache/pip/wheels/7f/1a/65/84ff8c386bec21fca6d220ea1f5498a0367883a78dd5ba6122\n",
            "Successfully built ee-extra sankee pycrs pyperclip\n",
            "Installing collected packages: pyperclip, pycrs, logzero, colour, xyzservices, whitebox, traittypes, soupsieve, scooby, ratelim, python-box, pyshp, jedi, geojson, ffmpeg-python, geocoder, beautifulsoup4, geeadd, eerepr, ee-extra, sankee, ipytree, ipyleaflet, ipyfilechooser, ipyevents, bqplot, whiteboxgui, geemap\n",
            "  Attempting uninstall: beautifulsoup4\n",
            "    Found existing installation: beautifulsoup4 4.6.3\n",
            "    Uninstalling beautifulsoup4-4.6.3:\n",
            "      Successfully uninstalled beautifulsoup4-4.6.3\n",
            "Successfully installed beautifulsoup4-4.11.2 bqplot-0.12.36 colour-0.1.5 ee-extra-0.0.15 eerepr-0.0.4 ffmpeg-python-0.2.0 geeadd-0.5.6 geemap-0.20.1 geocoder-1.38.1 geojson-3.0.1 ipyevents-2.0.1 ipyfilechooser-0.6.0 ipyleaflet-0.17.2 ipytree-0.2.2 jedi-0.18.2 logzero-1.7.0 pycrs-1.0.2 pyperclip-1.8.2 pyshp-2.3.1 python-box-7.0.1 ratelim-0.1.6 sankee-0.2.1 scooby-0.7.1 soupsieve-2.4 traittypes-0.2.1 whitebox-2.2.0 whiteboxgui-2.2.0 xyzservices-2023.2.0\n"
          ]
        }
      ]
    },
    {
      "cell_type": "code",
      "source": [
        "!pip install geehydro"
      ],
      "metadata": {
        "id": "rYYQvyGZ_bwq",
        "colab": {
          "base_uri": "https://localhost:8080/"
        },
        "outputId": "73742f97-537e-425e-ea87-7468343132d5"
      },
      "execution_count": null,
      "outputs": [
        {
          "output_type": "stream",
          "name": "stdout",
          "text": [
            "Looking in indexes: https://pypi.org/simple, https://us-python.pkg.dev/colab-wheels/public/simple/\n",
            "Collecting geehydro\n",
            "  Downloading geehydro-0.2.0.tar.gz (15 kB)\n",
            "  Preparing metadata (setup.py) ... \u001b[?25l\u001b[?25hdone\n",
            "Requirement already satisfied: earthengine-api in /usr/local/lib/python3.8/dist-packages (from geehydro) (0.1.343)\n",
            "Requirement already satisfied: folium in /usr/local/lib/python3.8/dist-packages (from geehydro) (0.12.1.post1)\n",
            "Requirement already satisfied: click in /usr/local/lib/python3.8/dist-packages (from geehydro) (8.1.3)\n",
            "Requirement already satisfied: google-cloud-storage in /usr/local/lib/python3.8/dist-packages (from earthengine-api->geehydro) (2.7.0)\n",
            "Requirement already satisfied: httplib2<1dev,>=0.9.2 in /usr/local/lib/python3.8/dist-packages (from earthengine-api->geehydro) (0.17.4)\n",
            "Requirement already satisfied: requests in /usr/local/lib/python3.8/dist-packages (from earthengine-api->geehydro) (2.25.1)\n",
            "Requirement already satisfied: google-auth>=1.4.1 in /usr/local/lib/python3.8/dist-packages (from earthengine-api->geehydro) (2.16.2)\n",
            "Requirement already satisfied: google-auth-httplib2>=0.0.3 in /usr/local/lib/python3.8/dist-packages (from earthengine-api->geehydro) (0.1.0)\n",
            "Requirement already satisfied: google-api-python-client>=1.12.1 in /usr/local/lib/python3.8/dist-packages (from earthengine-api->geehydro) (2.70.0)\n",
            "Requirement already satisfied: numpy in /usr/local/lib/python3.8/dist-packages (from folium->geehydro) (1.22.4)\n",
            "Requirement already satisfied: branca>=0.3.0 in /usr/local/lib/python3.8/dist-packages (from folium->geehydro) (0.6.0)\n",
            "Requirement already satisfied: jinja2>=2.9 in /usr/local/lib/python3.8/dist-packages (from folium->geehydro) (3.1.2)\n",
            "Requirement already satisfied: google-api-core!=2.0.*,!=2.1.*,!=2.2.*,!=2.3.0,<3.0.0dev,>=1.31.5 in /usr/local/lib/python3.8/dist-packages (from google-api-python-client>=1.12.1->earthengine-api->geehydro) (2.11.0)\n",
            "Requirement already satisfied: uritemplate<5,>=3.0.1 in /usr/local/lib/python3.8/dist-packages (from google-api-python-client>=1.12.1->earthengine-api->geehydro) (4.1.1)\n",
            "Requirement already satisfied: rsa<5,>=3.1.4 in /usr/local/lib/python3.8/dist-packages (from google-auth>=1.4.1->earthengine-api->geehydro) (4.9)\n",
            "Requirement already satisfied: six>=1.9.0 in /usr/local/lib/python3.8/dist-packages (from google-auth>=1.4.1->earthengine-api->geehydro) (1.15.0)\n",
            "Requirement already satisfied: pyasn1-modules>=0.2.1 in /usr/local/lib/python3.8/dist-packages (from google-auth>=1.4.1->earthengine-api->geehydro) (0.2.8)\n",
            "Requirement already satisfied: cachetools<6.0,>=2.0.0 in /usr/local/lib/python3.8/dist-packages (from google-auth>=1.4.1->earthengine-api->geehydro) (5.3.0)\n",
            "Requirement already satisfied: MarkupSafe>=2.0 in /usr/local/lib/python3.8/dist-packages (from jinja2>=2.9->folium->geehydro) (2.1.2)\n",
            "Requirement already satisfied: google-resumable-media>=2.3.2 in /usr/local/lib/python3.8/dist-packages (from google-cloud-storage->earthengine-api->geehydro) (2.4.1)\n",
            "Requirement already satisfied: google-cloud-core<3.0dev,>=2.3.0 in /usr/local/lib/python3.8/dist-packages (from google-cloud-storage->earthengine-api->geehydro) (2.3.2)\n",
            "Requirement already satisfied: urllib3<1.27,>=1.21.1 in /usr/local/lib/python3.8/dist-packages (from requests->earthengine-api->geehydro) (1.26.14)\n",
            "Requirement already satisfied: chardet<5,>=3.0.2 in /usr/local/lib/python3.8/dist-packages (from requests->earthengine-api->geehydro) (4.0.0)\n",
            "Requirement already satisfied: certifi>=2017.4.17 in /usr/local/lib/python3.8/dist-packages (from requests->earthengine-api->geehydro) (2022.12.7)\n",
            "Requirement already satisfied: idna<3,>=2.5 in /usr/local/lib/python3.8/dist-packages (from requests->earthengine-api->geehydro) (2.10)\n",
            "Requirement already satisfied: protobuf!=3.20.0,!=3.20.1,!=4.21.0,!=4.21.1,!=4.21.2,!=4.21.3,!=4.21.4,!=4.21.5,<5.0.0dev,>=3.19.5 in /usr/local/lib/python3.8/dist-packages (from google-api-core!=2.0.*,!=2.1.*,!=2.2.*,!=2.3.0,<3.0.0dev,>=1.31.5->google-api-python-client>=1.12.1->earthengine-api->geehydro) (3.19.6)\n",
            "Requirement already satisfied: googleapis-common-protos<2.0dev,>=1.56.2 in /usr/local/lib/python3.8/dist-packages (from google-api-core!=2.0.*,!=2.1.*,!=2.2.*,!=2.3.0,<3.0.0dev,>=1.31.5->google-api-python-client>=1.12.1->earthengine-api->geehydro) (1.58.0)\n",
            "Requirement already satisfied: google-crc32c<2.0dev,>=1.0 in /usr/local/lib/python3.8/dist-packages (from google-resumable-media>=2.3.2->google-cloud-storage->earthengine-api->geehydro) (1.5.0)\n",
            "Requirement already satisfied: pyasn1<0.5.0,>=0.4.6 in /usr/local/lib/python3.8/dist-packages (from pyasn1-modules>=0.2.1->google-auth>=1.4.1->earthengine-api->geehydro) (0.4.8)\n",
            "Building wheels for collected packages: geehydro\n",
            "  Building wheel for geehydro (setup.py) ... \u001b[?25l\u001b[?25hdone\n",
            "  Created wheel for geehydro: filename=geehydro-0.2.0-py2.py3-none-any.whl size=10140 sha256=83971c42180a73d62f8e759a631c72478d0f0efb66c39f517bddb77a13a18b27\n",
            "  Stored in directory: /root/.cache/pip/wheels/cc/f0/c8/f761318de15d20d46693d576710a46d56b7bd9ba15249800e7\n",
            "Successfully built geehydro\n",
            "Installing collected packages: geehydro\n",
            "Successfully installed geehydro-0.2.0\n"
          ]
        }
      ]
    },
    {
      "cell_type": "code",
      "source": [
        "import ee, datetime\n",
        "import pandas as pd\n",
        "import numpy as np\n",
        "import folium\n",
        "import geehydro\n",
        "import datetime as dt\n",
        "import IPython.display\n"
      ],
      "metadata": {
        "id": "L5RHI156-0DL"
      },
      "execution_count": null,
      "outputs": []
    },
    {
      "cell_type": "markdown",
      "source": [
        "## Authentication and Intialisation"
      ],
      "metadata": {
        "id": "E6fwt1RE2uMl"
      }
    },
    {
      "cell_type": "code",
      "source": [
        "ee.Authenticate()\n",
        "ee.Initialize()"
      ],
      "metadata": {
        "id": "kN493at7Dnyr",
        "colab": {
          "base_uri": "https://localhost:8080/"
        },
        "outputId": "5d0d04d3-8283-4c67-d420-80195809ff60"
      },
      "execution_count": null,
      "outputs": [
        {
          "output_type": "stream",
          "name": "stdout",
          "text": [
            "To authorize access needed by Earth Engine, open the following URL in a web browser and follow the instructions. If the web browser does not start automatically, please manually browse the URL below.\n",
            "\n",
            "    https://code.earthengine.google.com/client-auth?scopes=https%3A//www.googleapis.com/auth/earthengine%20https%3A//www.googleapis.com/auth/devstorage.full_control&request_id=Tb3UAueDaMuPEGiGjrB1pyEWbNA-RhcRYZUBvDVIflo&tc=35J-_Ewwb_24rWtfu8II6SDd5tCxe3_oqe6YKtnyEDs&cc=66q9ueh67lumbOP-PbTcG1Jvwwkw6jvfZ2b2J3Z8B1w\n",
            "\n",
            "The authorization workflow will generate a code, which you should paste in the box below.\n",
            "Enter verification code: 4/1AWtgzh5mKfSRB3SJJdOyQSjMJUfj8KXIYAwJXIi07FgUQ21lIfQ-Y86EVi4\n",
            "\n",
            "Successfully saved authorization token.\n"
          ]
        }
      ]
    },
    {
      "cell_type": "markdown",
      "source": [
        "## Selecting the area of Interest"
      ],
      "metadata": {
        "id": "RQVXfObbAJPK"
      }
    },
    {
      "cell_type": "code",
      "source": [
        "lendiya = folium.Map(location=[23.244061109840693,77.47089584472357], zoom_start=10)\n"
      ],
      "metadata": {
        "id": "kOT2BD9HAMkr"
      },
      "execution_count": null,
      "outputs": []
    },
    {
      "cell_type": "code",
      "source": [
        "lendiya"
      ],
      "metadata": {
        "id": "Szy5CbppAeF1",
        "colab": {
          "base_uri": "https://localhost:8080/",
          "height": 685
        },
        "outputId": "6a09f445-b475-4bb9-b277-7872d4ed5f0f"
      },
      "execution_count": null,
      "outputs": [
        {
          "output_type": "execute_result",
          "data": {
            "text/plain": [
              "<folium.folium.Map at 0x7f55f5277d00>"
            ],
            "text/html": [
              "<div style=\"width:100%;\"><div style=\"position:relative;width:100%;height:0;padding-bottom:60%;\"><span style=\"color:#565656\">Make this Notebook Trusted to load map: File -> Trust Notebook</span><iframe srcdoc=\"&lt;!DOCTYPE html&gt;\n",
              "&lt;html&gt;\n",
              "&lt;head&gt;\n",
              "    \n",
              "    &lt;meta http-equiv=&quot;content-type&quot; content=&quot;text/html; charset=UTF-8&quot; /&gt;\n",
              "    \n",
              "        &lt;script&gt;\n",
              "            L_NO_TOUCH = false;\n",
              "            L_DISABLE_3D = false;\n",
              "        &lt;/script&gt;\n",
              "    \n",
              "    &lt;style&gt;html, body {width: 100%;height: 100%;margin: 0;padding: 0;}&lt;/style&gt;\n",
              "    &lt;style&gt;#map {position:absolute;top:0;bottom:0;right:0;left:0;}&lt;/style&gt;\n",
              "    &lt;script src=&quot;https://cdn.jsdelivr.net/npm/leaflet@1.6.0/dist/leaflet.js&quot;&gt;&lt;/script&gt;\n",
              "    &lt;script src=&quot;https://code.jquery.com/jquery-1.12.4.min.js&quot;&gt;&lt;/script&gt;\n",
              "    &lt;script src=&quot;https://maxcdn.bootstrapcdn.com/bootstrap/3.2.0/js/bootstrap.min.js&quot;&gt;&lt;/script&gt;\n",
              "    &lt;script src=&quot;https://cdnjs.cloudflare.com/ajax/libs/Leaflet.awesome-markers/2.0.2/leaflet.awesome-markers.js&quot;&gt;&lt;/script&gt;\n",
              "    &lt;link rel=&quot;stylesheet&quot; href=&quot;https://cdn.jsdelivr.net/npm/leaflet@1.6.0/dist/leaflet.css&quot;/&gt;\n",
              "    &lt;link rel=&quot;stylesheet&quot; href=&quot;https://maxcdn.bootstrapcdn.com/bootstrap/3.2.0/css/bootstrap.min.css&quot;/&gt;\n",
              "    &lt;link rel=&quot;stylesheet&quot; href=&quot;https://maxcdn.bootstrapcdn.com/bootstrap/3.2.0/css/bootstrap-theme.min.css&quot;/&gt;\n",
              "    &lt;link rel=&quot;stylesheet&quot; href=&quot;https://maxcdn.bootstrapcdn.com/font-awesome/4.6.3/css/font-awesome.min.css&quot;/&gt;\n",
              "    &lt;link rel=&quot;stylesheet&quot; href=&quot;https://cdnjs.cloudflare.com/ajax/libs/Leaflet.awesome-markers/2.0.2/leaflet.awesome-markers.css&quot;/&gt;\n",
              "    &lt;link rel=&quot;stylesheet&quot; href=&quot;https://cdn.jsdelivr.net/gh/python-visualization/folium/folium/templates/leaflet.awesome.rotate.min.css&quot;/&gt;\n",
              "    \n",
              "            &lt;meta name=&quot;viewport&quot; content=&quot;width=device-width,\n",
              "                initial-scale=1.0, maximum-scale=1.0, user-scalable=no&quot; /&gt;\n",
              "            &lt;style&gt;\n",
              "                #map_7f78618853896344ab4abe52806d289d {\n",
              "                    position: relative;\n",
              "                    width: 100.0%;\n",
              "                    height: 100.0%;\n",
              "                    left: 0.0%;\n",
              "                    top: 0.0%;\n",
              "                }\n",
              "            &lt;/style&gt;\n",
              "        \n",
              "&lt;/head&gt;\n",
              "&lt;body&gt;\n",
              "    \n",
              "    \n",
              "            &lt;div class=&quot;folium-map&quot; id=&quot;map_7f78618853896344ab4abe52806d289d&quot; &gt;&lt;/div&gt;\n",
              "        \n",
              "&lt;/body&gt;\n",
              "&lt;script&gt;\n",
              "    \n",
              "    \n",
              "            var map_7f78618853896344ab4abe52806d289d = L.map(\n",
              "                &quot;map_7f78618853896344ab4abe52806d289d&quot;,\n",
              "                {\n",
              "                    center: [23.244061109840693, 77.47089584472357],\n",
              "                    crs: L.CRS.EPSG3857,\n",
              "                    zoom: 10,\n",
              "                    zoomControl: true,\n",
              "                    preferCanvas: false,\n",
              "                }\n",
              "            );\n",
              "\n",
              "            \n",
              "\n",
              "        \n",
              "    \n",
              "            var tile_layer_130a40f2c2ce4b5271d0f04f55000219 = L.tileLayer(\n",
              "                &quot;https://{s}.tile.openstreetmap.org/{z}/{x}/{y}.png&quot;,\n",
              "                {&quot;attribution&quot;: &quot;Data by \\u0026copy; \\u003ca href=\\&quot;http://openstreetmap.org\\&quot;\\u003eOpenStreetMap\\u003c/a\\u003e, under \\u003ca href=\\&quot;http://www.openstreetmap.org/copyright\\&quot;\\u003eODbL\\u003c/a\\u003e.&quot;, &quot;detectRetina&quot;: false, &quot;maxNativeZoom&quot;: 18, &quot;maxZoom&quot;: 18, &quot;minZoom&quot;: 0, &quot;noWrap&quot;: false, &quot;opacity&quot;: 1, &quot;subdomains&quot;: &quot;abc&quot;, &quot;tms&quot;: false}\n",
              "            ).addTo(map_7f78618853896344ab4abe52806d289d);\n",
              "        \n",
              "&lt;/script&gt;\n",
              "&lt;/html&gt;\" style=\"position:absolute;width:100%;height:100%;left:0;top:0;border:none !important;\" allowfullscreen webkitallowfullscreen mozallowfullscreen></iframe></div></div>"
            ]
          },
          "metadata": {},
          "execution_count": 7
        }
      ]
    },
    {
      "cell_type": "markdown",
      "source": [
        "### Selecting the satellite and AOI\n"
      ],
      "metadata": {
        "id": "3bRAxN2PEMHa"
      }
    },
    {
      "cell_type": "code",
      "source": [
        "sentinel = ee.ImageCollection(\"COPERNICUS/S2_SR\").\\\n",
        "               filter(ee.Filter.lt('CLOUDY_PIXEL_PERCENTAGE',20)).\\\n",
        "               filterDate(\"2015-01-01\",\"2023-01-01\")\n",
        "lendiya_AOI = ee.Geometry.Polygon([[77.39023917078465, 23.27477380472318],\n",
        "          [77.39034645914525, 23.274596401498602],\n",
        "          [77.39034645914525, 23.273876930443446],\n",
        "          [77.39060395121068, 23.273847363056678],\n",
        "          [77.3905717647025, 23.27359111209644],\n",
        "          [77.3909150874564, 23.273729093443976],\n",
        "          [77.39105456232518, 23.273847363056678],\n",
        "          [77.39120476603001, 23.273876930443446],\n",
        "          [77.39134424089879, 23.27427116163988],\n",
        "          [77.39111893534154, 23.275808652157437],\n",
        "          [77.39099018930882, 23.27569038428615],\n",
        "          [77.39077561258763, 23.27569038428615],\n",
        "          [77.3904108321616, 23.275394714148526]])\n",
        "\n",
        "sentinel_AOI = sentinel.filterBounds(lendiya_AOI)\n",
        "               "
      ],
      "metadata": {
        "id": "VEZt1YiwB7KL"
      },
      "execution_count": null,
      "outputs": []
    },
    {
      "cell_type": "code",
      "source": [
        "print('Total number of images :', sentinel_AOI.size().getInfo())"
      ],
      "metadata": {
        "id": "mfaFFbuGDf8O",
        "colab": {
          "base_uri": "https://localhost:8080/"
        },
        "outputId": "1e127773-c12b-47d7-fff1-4fb3105389cb"
      },
      "execution_count": null,
      "outputs": [
        {
          "output_type": "stream",
          "name": "stdout",
          "text": [
            "Total number of images : 166\n"
          ]
        }
      ]
    },
    {
      "cell_type": "markdown",
      "source": [
        "We have 166 images for Lendiya Lake.\n",
        "Now, we will create an iteration over all the images and find the different parameters "
      ],
      "metadata": {
        "id": "kTKxja-v4Bc-"
      }
    },
    {
      "cell_type": "markdown",
      "source": [
        "## **NDCI Calculation**"
      ],
      "metadata": {
        "id": "pLgMAHqKF-4S"
      }
    },
    {
      "cell_type": "code",
      "source": [
        "def addNDCI(image):\n",
        "  ndci = image.normalizedDifference(['B5', 'B4']).rename('NDCI')\n",
        "  return image.addBands(ndci)\n",
        "with_ndci = sentinel_AOI.map(addNDCI)  "
      ],
      "metadata": {
        "id": "BKwneNTJGAs0"
      },
      "execution_count": null,
      "outputs": []
    },
    {
      "cell_type": "markdown",
      "source": [
        "### Calculating the Average NDCI on every image in the image collection"
      ],
      "metadata": {
        "id": "6vGU8v6mGZkf"
      }
    },
    {
      "cell_type": "code",
      "source": [
        "def meanNDCI(image):\n",
        "  image = ee.Image(image)\n",
        "  mean = image.reduceRegion(reducer = ee.Reducer.mean().setOutputs(['NDCI']),\n",
        "                           geometry = lendiya_AOI,\n",
        "                           scale = image.projection().nominalScale().getInfo(),\n",
        "                           maxPixels = 100000,\n",
        "                           bestEffort = True);\n",
        "  return mean.get('NDCI').getInfo()"
      ],
      "metadata": {
        "id": "aXKFDr9zGgvn"
      },
      "execution_count": null,
      "outputs": []
    },
    {
      "cell_type": "code",
      "source": [
        "Images_ndci = with_ndci.select('NDCI').toList(with_ndci.size())\n",
        "ndci_coll = []\n",
        "for i in range(Images_ndci.length().getInfo()):\n",
        "  image = ee.Image(Images_ndci.get(i-1))\n",
        "  temp_ndci = meanNDCI(image)\n",
        "  ndci_coll.append(temp_ndci)"
      ],
      "metadata": {
        "id": "UyBDdVnrHRkF"
      },
      "execution_count": null,
      "outputs": []
    },
    {
      "cell_type": "markdown",
      "source": [
        "## Getting Dates from the Image Collection"
      ],
      "metadata": {
        "id": "PAPzIwOlKJEy"
      }
    },
    {
      "cell_type": "code",
      "source": [
        "dates = np.array(with_ndci.aggregate_array(\"system:time_start\").getInfo())\n",
        "day = [datetime.datetime.fromtimestamp(i/1000).strftime('%Y-%m-%d') for i in (dates)]"
      ],
      "metadata": {
        "id": "ZF9sOE_vKNIO"
      },
      "execution_count": null,
      "outputs": []
    },
    {
      "cell_type": "markdown",
      "source": [
        "### Creating the Dataframe"
      ],
      "metadata": {
        "id": "qs1mtWfkKr7g"
      }
    },
    {
      "cell_type": "code",
      "source": [
        "df = pd.DataFrame(ndci_coll, index = day, columns = ['Chlorophyll'])\n",
        "df.index = pd.to_datetime(df.index, format=\"%Y/%m/%d\")\n",
        "df.sort_index(ascending = True, inplace = True)"
      ],
      "metadata": {
        "id": "bzqkW-blK-bq"
      },
      "execution_count": null,
      "outputs": []
    },
    {
      "cell_type": "code",
      "source": [
        "df"
      ],
      "metadata": {
        "id": "rt3YUxSXLICd"
      },
      "execution_count": null,
      "outputs": []
    },
    {
      "cell_type": "code",
      "source": [
        "df.to_csv('Chlorophyll.csv')"
      ],
      "metadata": {
        "id": "Cq20Z-Yr2sIy"
      },
      "execution_count": null,
      "outputs": []
    },
    {
      "cell_type": "markdown",
      "source": [
        "## **NDTI Calculation**"
      ],
      "metadata": {
        "id": "RiteokNeMxS5"
      }
    },
    {
      "cell_type": "code",
      "source": [
        "def addNDTI(image):\n",
        "  ndti = image.normalizedDifference(['B4', 'B3']).rename('NDTI')\n",
        "  return image.addBands(ndti)\n",
        "with_ndti = sentinel_AOI.map(addNDTI)"
      ],
      "metadata": {
        "id": "YwkXL8qTLIvS"
      },
      "execution_count": null,
      "outputs": []
    },
    {
      "cell_type": "code",
      "source": [
        "def meanNDTI(image):\n",
        "  image = ee.Image(image)\n",
        "  mean = image.reduceRegion(reducer = ee.Reducer.mean().setOutputs(['NDTI']),\n",
        "                           geometry = lendiya_AOI,\n",
        "                           scale = image.projection().nominalScale().getInfo(),\n",
        "                           maxPixels = 100000,\n",
        "                           bestEffort = True);\n",
        "  return mean.get('NDTI').getInfo()"
      ],
      "metadata": {
        "id": "8z6d_MdSMtZ5"
      },
      "execution_count": null,
      "outputs": []
    },
    {
      "cell_type": "code",
      "source": [
        "Images_ndti = with_ndti.select('NDTI').toList(with_ndti.size())\n",
        "ndti_coll = []\n",
        "for i in range(Images_ndti.length().getInfo()):\n",
        "  image = ee.Image(Images_ndti.get(i-1))\n",
        "  temp_ndti = meanNDTI(image)\n",
        "  ndti_coll.append(temp_ndti)"
      ],
      "metadata": {
        "id": "NfLrv-jiNGUu",
        "colab": {
          "base_uri": "https://localhost:8080/"
        },
        "outputId": "8f150420-84b0-49e3-f4f4-a9f0028545b9"
      },
      "execution_count": null,
      "outputs": [
        {
          "output_type": "stream",
          "name": "stderr",
          "text": [
            "WARNING:googleapiclient.http:Sleeping 0.01 seconds before retry 1 of 5 for request: POST https://earthengine.googleapis.com/v1alpha/projects/earthengine-legacy/value:compute?prettyPrint=false&alt=json, after 503\n"
          ]
        }
      ]
    },
    {
      "cell_type": "code",
      "source": [
        "dates = np.array(with_ndti.aggregate_array(\"system:time_start\").getInfo())\n",
        "day = [datetime.datetime.fromtimestamp(i/1000).strftime('%Y-%m-%d') for i in (dates)]"
      ],
      "metadata": {
        "id": "iNOjW_gNNVl8"
      },
      "execution_count": null,
      "outputs": []
    },
    {
      "cell_type": "code",
      "source": [
        "df1 = pd.DataFrame(ndti_coll, index = day, columns = ['Turbidity'])\n",
        "df1.index = pd.to_datetime(df1.index, format=\"%Y/%m/%d\")\n",
        "df1.sort_index(ascending = True, inplace = True)"
      ],
      "metadata": {
        "id": "fxtKVdovOgJY"
      },
      "execution_count": null,
      "outputs": []
    },
    {
      "cell_type": "code",
      "source": [
        "df1"
      ],
      "metadata": {
        "id": "VOENs_fzOkrD",
        "colab": {
          "base_uri": "https://localhost:8080/",
          "height": 423
        },
        "outputId": "f3014fe8-e64c-4dae-fa8d-b1c6e8fdd964"
      },
      "execution_count": null,
      "outputs": [
        {
          "output_type": "execute_result",
          "data": {
            "text/plain": [
              "            Turbidity\n",
              "2018-12-18  -0.021874\n",
              "2018-12-23  -0.123111\n",
              "2018-12-28  -0.160459\n",
              "2019-01-02  -0.121576\n",
              "2019-01-07  -0.134198\n",
              "...               ...\n",
              "2022-12-02  -0.027580\n",
              "2022-12-07  -0.015449\n",
              "2022-12-17  -0.016148\n",
              "2022-12-22  -0.014442\n",
              "2022-12-27  -0.026697\n",
              "\n",
              "[166 rows x 1 columns]"
            ],
            "text/html": [
              "\n",
              "  <div id=\"df-2bd0bd5f-375c-4269-8e8b-1dfb16dfc928\">\n",
              "    <div class=\"colab-df-container\">\n",
              "      <div>\n",
              "<style scoped>\n",
              "    .dataframe tbody tr th:only-of-type {\n",
              "        vertical-align: middle;\n",
              "    }\n",
              "\n",
              "    .dataframe tbody tr th {\n",
              "        vertical-align: top;\n",
              "    }\n",
              "\n",
              "    .dataframe thead th {\n",
              "        text-align: right;\n",
              "    }\n",
              "</style>\n",
              "<table border=\"1\" class=\"dataframe\">\n",
              "  <thead>\n",
              "    <tr style=\"text-align: right;\">\n",
              "      <th></th>\n",
              "      <th>Turbidity</th>\n",
              "    </tr>\n",
              "  </thead>\n",
              "  <tbody>\n",
              "    <tr>\n",
              "      <th>2018-12-18</th>\n",
              "      <td>-0.021874</td>\n",
              "    </tr>\n",
              "    <tr>\n",
              "      <th>2018-12-23</th>\n",
              "      <td>-0.123111</td>\n",
              "    </tr>\n",
              "    <tr>\n",
              "      <th>2018-12-28</th>\n",
              "      <td>-0.160459</td>\n",
              "    </tr>\n",
              "    <tr>\n",
              "      <th>2019-01-02</th>\n",
              "      <td>-0.121576</td>\n",
              "    </tr>\n",
              "    <tr>\n",
              "      <th>2019-01-07</th>\n",
              "      <td>-0.134198</td>\n",
              "    </tr>\n",
              "    <tr>\n",
              "      <th>...</th>\n",
              "      <td>...</td>\n",
              "    </tr>\n",
              "    <tr>\n",
              "      <th>2022-12-02</th>\n",
              "      <td>-0.027580</td>\n",
              "    </tr>\n",
              "    <tr>\n",
              "      <th>2022-12-07</th>\n",
              "      <td>-0.015449</td>\n",
              "    </tr>\n",
              "    <tr>\n",
              "      <th>2022-12-17</th>\n",
              "      <td>-0.016148</td>\n",
              "    </tr>\n",
              "    <tr>\n",
              "      <th>2022-12-22</th>\n",
              "      <td>-0.014442</td>\n",
              "    </tr>\n",
              "    <tr>\n",
              "      <th>2022-12-27</th>\n",
              "      <td>-0.026697</td>\n",
              "    </tr>\n",
              "  </tbody>\n",
              "</table>\n",
              "<p>166 rows × 1 columns</p>\n",
              "</div>\n",
              "      <button class=\"colab-df-convert\" onclick=\"convertToInteractive('df-2bd0bd5f-375c-4269-8e8b-1dfb16dfc928')\"\n",
              "              title=\"Convert this dataframe to an interactive table.\"\n",
              "              style=\"display:none;\">\n",
              "        \n",
              "  <svg xmlns=\"http://www.w3.org/2000/svg\" height=\"24px\"viewBox=\"0 0 24 24\"\n",
              "       width=\"24px\">\n",
              "    <path d=\"M0 0h24v24H0V0z\" fill=\"none\"/>\n",
              "    <path d=\"M18.56 5.44l.94 2.06.94-2.06 2.06-.94-2.06-.94-.94-2.06-.94 2.06-2.06.94zm-11 1L8.5 8.5l.94-2.06 2.06-.94-2.06-.94L8.5 2.5l-.94 2.06-2.06.94zm10 10l.94 2.06.94-2.06 2.06-.94-2.06-.94-.94-2.06-.94 2.06-2.06.94z\"/><path d=\"M17.41 7.96l-1.37-1.37c-.4-.4-.92-.59-1.43-.59-.52 0-1.04.2-1.43.59L10.3 9.45l-7.72 7.72c-.78.78-.78 2.05 0 2.83L4 21.41c.39.39.9.59 1.41.59.51 0 1.02-.2 1.41-.59l7.78-7.78 2.81-2.81c.8-.78.8-2.07 0-2.86zM5.41 20L4 18.59l7.72-7.72 1.47 1.35L5.41 20z\"/>\n",
              "  </svg>\n",
              "      </button>\n",
              "      \n",
              "  <style>\n",
              "    .colab-df-container {\n",
              "      display:flex;\n",
              "      flex-wrap:wrap;\n",
              "      gap: 12px;\n",
              "    }\n",
              "\n",
              "    .colab-df-convert {\n",
              "      background-color: #E8F0FE;\n",
              "      border: none;\n",
              "      border-radius: 50%;\n",
              "      cursor: pointer;\n",
              "      display: none;\n",
              "      fill: #1967D2;\n",
              "      height: 32px;\n",
              "      padding: 0 0 0 0;\n",
              "      width: 32px;\n",
              "    }\n",
              "\n",
              "    .colab-df-convert:hover {\n",
              "      background-color: #E2EBFA;\n",
              "      box-shadow: 0px 1px 2px rgba(60, 64, 67, 0.3), 0px 1px 3px 1px rgba(60, 64, 67, 0.15);\n",
              "      fill: #174EA6;\n",
              "    }\n",
              "\n",
              "    [theme=dark] .colab-df-convert {\n",
              "      background-color: #3B4455;\n",
              "      fill: #D2E3FC;\n",
              "    }\n",
              "\n",
              "    [theme=dark] .colab-df-convert:hover {\n",
              "      background-color: #434B5C;\n",
              "      box-shadow: 0px 1px 3px 1px rgba(0, 0, 0, 0.15);\n",
              "      filter: drop-shadow(0px 1px 2px rgba(0, 0, 0, 0.3));\n",
              "      fill: #FFFFFF;\n",
              "    }\n",
              "  </style>\n",
              "\n",
              "      <script>\n",
              "        const buttonEl =\n",
              "          document.querySelector('#df-2bd0bd5f-375c-4269-8e8b-1dfb16dfc928 button.colab-df-convert');\n",
              "        buttonEl.style.display =\n",
              "          google.colab.kernel.accessAllowed ? 'block' : 'none';\n",
              "\n",
              "        async function convertToInteractive(key) {\n",
              "          const element = document.querySelector('#df-2bd0bd5f-375c-4269-8e8b-1dfb16dfc928');\n",
              "          const dataTable =\n",
              "            await google.colab.kernel.invokeFunction('convertToInteractive',\n",
              "                                                     [key], {});\n",
              "          if (!dataTable) return;\n",
              "\n",
              "          const docLinkHtml = 'Like what you see? Visit the ' +\n",
              "            '<a target=\"_blank\" href=https://colab.research.google.com/notebooks/data_table.ipynb>data table notebook</a>'\n",
              "            + ' to learn more about interactive tables.';\n",
              "          element.innerHTML = '';\n",
              "          dataTable['output_type'] = 'display_data';\n",
              "          await google.colab.output.renderOutput(dataTable, element);\n",
              "          const docLink = document.createElement('div');\n",
              "          docLink.innerHTML = docLinkHtml;\n",
              "          element.appendChild(docLink);\n",
              "        }\n",
              "      </script>\n",
              "    </div>\n",
              "  </div>\n",
              "  "
            ]
          },
          "metadata": {},
          "execution_count": 22
        }
      ]
    },
    {
      "cell_type": "code",
      "source": [
        "df1.to_csv('Turbidity.csv')"
      ],
      "metadata": {
        "id": "ss-vvrnr3037"
      },
      "execution_count": null,
      "outputs": []
    },
    {
      "cell_type": "markdown",
      "source": [
        "## **NDSI Calculation**"
      ],
      "metadata": {
        "id": "kP3AI8BhQVBb"
      }
    },
    {
      "cell_type": "code",
      "source": [
        "def addNDSI(image):\n",
        "  ndsi = image.normalizedDifference(['B11', 'B12']).rename('NDSI')\n",
        "  return image.addBands(ndsi)\n",
        "with_ndsi = sentinel_AOI.map(addNDSI)"
      ],
      "metadata": {
        "id": "xFrSRTjmQWNN"
      },
      "execution_count": null,
      "outputs": []
    },
    {
      "cell_type": "code",
      "source": [
        "def meanNDSI(image):\n",
        "  image = ee.Image(image)\n",
        "  mean = image.reduceRegion(reducer = ee.Reducer.mean().setOutputs(['NDSI']),\n",
        "                           geometry = lendiya_AOI,\n",
        "                           scale = image.projection().nominalScale().getInfo(),\n",
        "                           maxPixels = 100000,\n",
        "                           bestEffort = True);\n",
        "  return mean.get('NDSI').getInfo()"
      ],
      "metadata": {
        "id": "-NB5xGu4QrDz"
      },
      "execution_count": null,
      "outputs": []
    },
    {
      "cell_type": "code",
      "source": [
        "Images_ndsi = with_ndsi.select('NDSI').toList(with_ndsi.size())\n",
        "ndsi_coll = []\n",
        "for i in range(Images_ndsi.length().getInfo()):\n",
        "  image = ee.Image(Images_ndsi.get(i-1))\n",
        "  temp_ndsi = meanNDSI(image)\n",
        "  ndsi_coll.append(temp_ndsi)"
      ],
      "metadata": {
        "id": "IYlsHYXLQxtT"
      },
      "execution_count": null,
      "outputs": []
    },
    {
      "cell_type": "code",
      "source": [
        "dates = np.array(with_ndsi.aggregate_array(\"system:time_start\").getInfo())\n",
        "day = [datetime.datetime.fromtimestamp(i/1000).strftime('%Y-%m-%d') for i in (dates)]"
      ],
      "metadata": {
        "id": "p6ztIC30RYwX"
      },
      "execution_count": null,
      "outputs": []
    },
    {
      "cell_type": "code",
      "source": [
        "df2 = pd.DataFrame(ndsi_coll, index = day, columns = ['Salinty'])\n",
        "df2.index = pd.to_datetime(df2.index, format=\"%Y/%m/%d\")\n",
        "df2.sort_index(ascending = True, inplace = True)"
      ],
      "metadata": {
        "id": "wYyA6NtURN0k"
      },
      "execution_count": null,
      "outputs": []
    },
    {
      "cell_type": "code",
      "source": [
        "df2"
      ],
      "metadata": {
        "id": "1Xpl3qh8Sg-C",
        "colab": {
          "base_uri": "https://localhost:8080/",
          "height": 423
        },
        "outputId": "5d465c81-3e67-4e47-8d97-7812c94ad0fb"
      },
      "execution_count": null,
      "outputs": [
        {
          "output_type": "execute_result",
          "data": {
            "text/plain": [
              "             Salinty\n",
              "2018-12-18  0.060754\n",
              "2018-12-23  0.215919\n",
              "2018-12-28  0.162066\n",
              "2019-01-02  0.172895\n",
              "2019-01-07  0.133760\n",
              "...              ...\n",
              "2022-12-02  0.062454\n",
              "2022-12-07  0.040098\n",
              "2022-12-17  0.048394\n",
              "2022-12-22  0.046412\n",
              "2022-12-27  0.031884\n",
              "\n",
              "[166 rows x 1 columns]"
            ],
            "text/html": [
              "\n",
              "  <div id=\"df-1a642508-23c8-4eda-8ebc-61ae8c74e750\">\n",
              "    <div class=\"colab-df-container\">\n",
              "      <div>\n",
              "<style scoped>\n",
              "    .dataframe tbody tr th:only-of-type {\n",
              "        vertical-align: middle;\n",
              "    }\n",
              "\n",
              "    .dataframe tbody tr th {\n",
              "        vertical-align: top;\n",
              "    }\n",
              "\n",
              "    .dataframe thead th {\n",
              "        text-align: right;\n",
              "    }\n",
              "</style>\n",
              "<table border=\"1\" class=\"dataframe\">\n",
              "  <thead>\n",
              "    <tr style=\"text-align: right;\">\n",
              "      <th></th>\n",
              "      <th>Salinty</th>\n",
              "    </tr>\n",
              "  </thead>\n",
              "  <tbody>\n",
              "    <tr>\n",
              "      <th>2018-12-18</th>\n",
              "      <td>0.060754</td>\n",
              "    </tr>\n",
              "    <tr>\n",
              "      <th>2018-12-23</th>\n",
              "      <td>0.215919</td>\n",
              "    </tr>\n",
              "    <tr>\n",
              "      <th>2018-12-28</th>\n",
              "      <td>0.162066</td>\n",
              "    </tr>\n",
              "    <tr>\n",
              "      <th>2019-01-02</th>\n",
              "      <td>0.172895</td>\n",
              "    </tr>\n",
              "    <tr>\n",
              "      <th>2019-01-07</th>\n",
              "      <td>0.133760</td>\n",
              "    </tr>\n",
              "    <tr>\n",
              "      <th>...</th>\n",
              "      <td>...</td>\n",
              "    </tr>\n",
              "    <tr>\n",
              "      <th>2022-12-02</th>\n",
              "      <td>0.062454</td>\n",
              "    </tr>\n",
              "    <tr>\n",
              "      <th>2022-12-07</th>\n",
              "      <td>0.040098</td>\n",
              "    </tr>\n",
              "    <tr>\n",
              "      <th>2022-12-17</th>\n",
              "      <td>0.048394</td>\n",
              "    </tr>\n",
              "    <tr>\n",
              "      <th>2022-12-22</th>\n",
              "      <td>0.046412</td>\n",
              "    </tr>\n",
              "    <tr>\n",
              "      <th>2022-12-27</th>\n",
              "      <td>0.031884</td>\n",
              "    </tr>\n",
              "  </tbody>\n",
              "</table>\n",
              "<p>166 rows × 1 columns</p>\n",
              "</div>\n",
              "      <button class=\"colab-df-convert\" onclick=\"convertToInteractive('df-1a642508-23c8-4eda-8ebc-61ae8c74e750')\"\n",
              "              title=\"Convert this dataframe to an interactive table.\"\n",
              "              style=\"display:none;\">\n",
              "        \n",
              "  <svg xmlns=\"http://www.w3.org/2000/svg\" height=\"24px\"viewBox=\"0 0 24 24\"\n",
              "       width=\"24px\">\n",
              "    <path d=\"M0 0h24v24H0V0z\" fill=\"none\"/>\n",
              "    <path d=\"M18.56 5.44l.94 2.06.94-2.06 2.06-.94-2.06-.94-.94-2.06-.94 2.06-2.06.94zm-11 1L8.5 8.5l.94-2.06 2.06-.94-2.06-.94L8.5 2.5l-.94 2.06-2.06.94zm10 10l.94 2.06.94-2.06 2.06-.94-2.06-.94-.94-2.06-.94 2.06-2.06.94z\"/><path d=\"M17.41 7.96l-1.37-1.37c-.4-.4-.92-.59-1.43-.59-.52 0-1.04.2-1.43.59L10.3 9.45l-7.72 7.72c-.78.78-.78 2.05 0 2.83L4 21.41c.39.39.9.59 1.41.59.51 0 1.02-.2 1.41-.59l7.78-7.78 2.81-2.81c.8-.78.8-2.07 0-2.86zM5.41 20L4 18.59l7.72-7.72 1.47 1.35L5.41 20z\"/>\n",
              "  </svg>\n",
              "      </button>\n",
              "      \n",
              "  <style>\n",
              "    .colab-df-container {\n",
              "      display:flex;\n",
              "      flex-wrap:wrap;\n",
              "      gap: 12px;\n",
              "    }\n",
              "\n",
              "    .colab-df-convert {\n",
              "      background-color: #E8F0FE;\n",
              "      border: none;\n",
              "      border-radius: 50%;\n",
              "      cursor: pointer;\n",
              "      display: none;\n",
              "      fill: #1967D2;\n",
              "      height: 32px;\n",
              "      padding: 0 0 0 0;\n",
              "      width: 32px;\n",
              "    }\n",
              "\n",
              "    .colab-df-convert:hover {\n",
              "      background-color: #E2EBFA;\n",
              "      box-shadow: 0px 1px 2px rgba(60, 64, 67, 0.3), 0px 1px 3px 1px rgba(60, 64, 67, 0.15);\n",
              "      fill: #174EA6;\n",
              "    }\n",
              "\n",
              "    [theme=dark] .colab-df-convert {\n",
              "      background-color: #3B4455;\n",
              "      fill: #D2E3FC;\n",
              "    }\n",
              "\n",
              "    [theme=dark] .colab-df-convert:hover {\n",
              "      background-color: #434B5C;\n",
              "      box-shadow: 0px 1px 3px 1px rgba(0, 0, 0, 0.15);\n",
              "      filter: drop-shadow(0px 1px 2px rgba(0, 0, 0, 0.3));\n",
              "      fill: #FFFFFF;\n",
              "    }\n",
              "  </style>\n",
              "\n",
              "      <script>\n",
              "        const buttonEl =\n",
              "          document.querySelector('#df-1a642508-23c8-4eda-8ebc-61ae8c74e750 button.colab-df-convert');\n",
              "        buttonEl.style.display =\n",
              "          google.colab.kernel.accessAllowed ? 'block' : 'none';\n",
              "\n",
              "        async function convertToInteractive(key) {\n",
              "          const element = document.querySelector('#df-1a642508-23c8-4eda-8ebc-61ae8c74e750');\n",
              "          const dataTable =\n",
              "            await google.colab.kernel.invokeFunction('convertToInteractive',\n",
              "                                                     [key], {});\n",
              "          if (!dataTable) return;\n",
              "\n",
              "          const docLinkHtml = 'Like what you see? Visit the ' +\n",
              "            '<a target=\"_blank\" href=https://colab.research.google.com/notebooks/data_table.ipynb>data table notebook</a>'\n",
              "            + ' to learn more about interactive tables.';\n",
              "          element.innerHTML = '';\n",
              "          dataTable['output_type'] = 'display_data';\n",
              "          await google.colab.output.renderOutput(dataTable, element);\n",
              "          const docLink = document.createElement('div');\n",
              "          docLink.innerHTML = docLinkHtml;\n",
              "          element.appendChild(docLink);\n",
              "        }\n",
              "      </script>\n",
              "    </div>\n",
              "  </div>\n",
              "  "
            ]
          },
          "metadata": {},
          "execution_count": 15
        }
      ]
    },
    {
      "cell_type": "code",
      "source": [
        "df2.to_csv('Salinty.csv')"
      ],
      "metadata": {
        "id": "peJL79O46_oi"
      },
      "execution_count": null,
      "outputs": []
    },
    {
      "cell_type": "markdown",
      "source": [
        "# **Dissloved Oxygen Calculation**"
      ],
      "metadata": {
        "id": "ox-1424nXqak"
      }
    },
    {
      "cell_type": "code",
      "source": [
        "def addDO(image):\n",
        "  do = image.normalizedDifference(['B4', 'B5']).rename('DO')\n",
        "  return image.addBands(do)\n",
        "with_do = sentinel_AOI.map(addDO)"
      ],
      "metadata": {
        "id": "72r3aemuYoP8"
      },
      "execution_count": null,
      "outputs": []
    },
    {
      "cell_type": "code",
      "source": [
        "def meanDO(image):\n",
        "  image = ee.Image(image)\n",
        "  mean = image.reduceRegion(reducer = ee.Reducer.mean().setOutputs(['DO']),\n",
        "                           geometry = lendiya_AOI,\n",
        "                           scale = image.projection().nominalScale().getInfo(),\n",
        "                           maxPixels = 100000,\n",
        "                           bestEffort = True);\n",
        "  return mean.get('DO').getInfo()"
      ],
      "metadata": {
        "id": "JSjReHUMNL-g"
      },
      "execution_count": null,
      "outputs": []
    },
    {
      "cell_type": "code",
      "source": [
        "Images_do = with_do.select('DO').toList(with_do.size())\n",
        "do_coll = []\n",
        "for i in range(Images_do.length().getInfo()):\n",
        "  image = ee.Image(Images_do.get(i-1))\n",
        "  temp_do = meanDO(image)\n",
        "  do_coll.append(temp_do)"
      ],
      "metadata": {
        "id": "I8xt50bKNTJX"
      },
      "execution_count": null,
      "outputs": []
    },
    {
      "cell_type": "code",
      "source": [
        "dates = np.array(with_do.aggregate_array(\"system:time_start\").getInfo())\n",
        "day = [datetime.datetime.fromtimestamp(i/1000).strftime('%Y-%m-%d') for i in (dates)]"
      ],
      "metadata": {
        "id": "2BF-Mz7WNxqr"
      },
      "execution_count": null,
      "outputs": []
    },
    {
      "cell_type": "code",
      "source": [
        "df4 = pd.DataFrame(do_coll, index = day, columns = ['Dissolved Oxygen'])\n",
        "df4.index = pd.to_datetime(df4.index, format=\"%Y/%m/%d\")\n",
        "df4.sort_index(ascending = True, inplace = True)"
      ],
      "metadata": {
        "id": "pIstxRBDN3rr"
      },
      "execution_count": null,
      "outputs": []
    },
    {
      "cell_type": "code",
      "source": [
        "df4"
      ],
      "metadata": {
        "id": "AUMy-d2YPw6a",
        "colab": {
          "base_uri": "https://localhost:8080/",
          "height": 423
        },
        "outputId": "b3e56226-5680-4cc9-ad7d-593de7bd7306"
      },
      "execution_count": null,
      "outputs": [
        {
          "output_type": "execute_result",
          "data": {
            "text/plain": [
              "            Dissolved Oxygen\n",
              "2018-12-18         -0.056721\n",
              "2018-12-23         -0.240334\n",
              "2018-12-28         -0.279906\n",
              "2019-01-02         -0.256591\n",
              "2019-01-07         -0.264053\n",
              "...                      ...\n",
              "2022-12-02         -0.086346\n",
              "2022-12-07         -0.061451\n",
              "2022-12-17         -0.077955\n",
              "2022-12-22         -0.069670\n",
              "2022-12-27         -0.067129\n",
              "\n",
              "[166 rows x 1 columns]"
            ],
            "text/html": [
              "\n",
              "  <div id=\"df-8d8505c5-8279-4856-851d-ded1a2156127\">\n",
              "    <div class=\"colab-df-container\">\n",
              "      <div>\n",
              "<style scoped>\n",
              "    .dataframe tbody tr th:only-of-type {\n",
              "        vertical-align: middle;\n",
              "    }\n",
              "\n",
              "    .dataframe tbody tr th {\n",
              "        vertical-align: top;\n",
              "    }\n",
              "\n",
              "    .dataframe thead th {\n",
              "        text-align: right;\n",
              "    }\n",
              "</style>\n",
              "<table border=\"1\" class=\"dataframe\">\n",
              "  <thead>\n",
              "    <tr style=\"text-align: right;\">\n",
              "      <th></th>\n",
              "      <th>Dissolved Oxygen</th>\n",
              "    </tr>\n",
              "  </thead>\n",
              "  <tbody>\n",
              "    <tr>\n",
              "      <th>2018-12-18</th>\n",
              "      <td>-0.056721</td>\n",
              "    </tr>\n",
              "    <tr>\n",
              "      <th>2018-12-23</th>\n",
              "      <td>-0.240334</td>\n",
              "    </tr>\n",
              "    <tr>\n",
              "      <th>2018-12-28</th>\n",
              "      <td>-0.279906</td>\n",
              "    </tr>\n",
              "    <tr>\n",
              "      <th>2019-01-02</th>\n",
              "      <td>-0.256591</td>\n",
              "    </tr>\n",
              "    <tr>\n",
              "      <th>2019-01-07</th>\n",
              "      <td>-0.264053</td>\n",
              "    </tr>\n",
              "    <tr>\n",
              "      <th>...</th>\n",
              "      <td>...</td>\n",
              "    </tr>\n",
              "    <tr>\n",
              "      <th>2022-12-02</th>\n",
              "      <td>-0.086346</td>\n",
              "    </tr>\n",
              "    <tr>\n",
              "      <th>2022-12-07</th>\n",
              "      <td>-0.061451</td>\n",
              "    </tr>\n",
              "    <tr>\n",
              "      <th>2022-12-17</th>\n",
              "      <td>-0.077955</td>\n",
              "    </tr>\n",
              "    <tr>\n",
              "      <th>2022-12-22</th>\n",
              "      <td>-0.069670</td>\n",
              "    </tr>\n",
              "    <tr>\n",
              "      <th>2022-12-27</th>\n",
              "      <td>-0.067129</td>\n",
              "    </tr>\n",
              "  </tbody>\n",
              "</table>\n",
              "<p>166 rows × 1 columns</p>\n",
              "</div>\n",
              "      <button class=\"colab-df-convert\" onclick=\"convertToInteractive('df-8d8505c5-8279-4856-851d-ded1a2156127')\"\n",
              "              title=\"Convert this dataframe to an interactive table.\"\n",
              "              style=\"display:none;\">\n",
              "        \n",
              "  <svg xmlns=\"http://www.w3.org/2000/svg\" height=\"24px\"viewBox=\"0 0 24 24\"\n",
              "       width=\"24px\">\n",
              "    <path d=\"M0 0h24v24H0V0z\" fill=\"none\"/>\n",
              "    <path d=\"M18.56 5.44l.94 2.06.94-2.06 2.06-.94-2.06-.94-.94-2.06-.94 2.06-2.06.94zm-11 1L8.5 8.5l.94-2.06 2.06-.94-2.06-.94L8.5 2.5l-.94 2.06-2.06.94zm10 10l.94 2.06.94-2.06 2.06-.94-2.06-.94-.94-2.06-.94 2.06-2.06.94z\"/><path d=\"M17.41 7.96l-1.37-1.37c-.4-.4-.92-.59-1.43-.59-.52 0-1.04.2-1.43.59L10.3 9.45l-7.72 7.72c-.78.78-.78 2.05 0 2.83L4 21.41c.39.39.9.59 1.41.59.51 0 1.02-.2 1.41-.59l7.78-7.78 2.81-2.81c.8-.78.8-2.07 0-2.86zM5.41 20L4 18.59l7.72-7.72 1.47 1.35L5.41 20z\"/>\n",
              "  </svg>\n",
              "      </button>\n",
              "      \n",
              "  <style>\n",
              "    .colab-df-container {\n",
              "      display:flex;\n",
              "      flex-wrap:wrap;\n",
              "      gap: 12px;\n",
              "    }\n",
              "\n",
              "    .colab-df-convert {\n",
              "      background-color: #E8F0FE;\n",
              "      border: none;\n",
              "      border-radius: 50%;\n",
              "      cursor: pointer;\n",
              "      display: none;\n",
              "      fill: #1967D2;\n",
              "      height: 32px;\n",
              "      padding: 0 0 0 0;\n",
              "      width: 32px;\n",
              "    }\n",
              "\n",
              "    .colab-df-convert:hover {\n",
              "      background-color: #E2EBFA;\n",
              "      box-shadow: 0px 1px 2px rgba(60, 64, 67, 0.3), 0px 1px 3px 1px rgba(60, 64, 67, 0.15);\n",
              "      fill: #174EA6;\n",
              "    }\n",
              "\n",
              "    [theme=dark] .colab-df-convert {\n",
              "      background-color: #3B4455;\n",
              "      fill: #D2E3FC;\n",
              "    }\n",
              "\n",
              "    [theme=dark] .colab-df-convert:hover {\n",
              "      background-color: #434B5C;\n",
              "      box-shadow: 0px 1px 3px 1px rgba(0, 0, 0, 0.15);\n",
              "      filter: drop-shadow(0px 1px 2px rgba(0, 0, 0, 0.3));\n",
              "      fill: #FFFFFF;\n",
              "    }\n",
              "  </style>\n",
              "\n",
              "      <script>\n",
              "        const buttonEl =\n",
              "          document.querySelector('#df-8d8505c5-8279-4856-851d-ded1a2156127 button.colab-df-convert');\n",
              "        buttonEl.style.display =\n",
              "          google.colab.kernel.accessAllowed ? 'block' : 'none';\n",
              "\n",
              "        async function convertToInteractive(key) {\n",
              "          const element = document.querySelector('#df-8d8505c5-8279-4856-851d-ded1a2156127');\n",
              "          const dataTable =\n",
              "            await google.colab.kernel.invokeFunction('convertToInteractive',\n",
              "                                                     [key], {});\n",
              "          if (!dataTable) return;\n",
              "\n",
              "          const docLinkHtml = 'Like what you see? Visit the ' +\n",
              "            '<a target=\"_blank\" href=https://colab.research.google.com/notebooks/data_table.ipynb>data table notebook</a>'\n",
              "            + ' to learn more about interactive tables.';\n",
              "          element.innerHTML = '';\n",
              "          dataTable['output_type'] = 'display_data';\n",
              "          await google.colab.output.renderOutput(dataTable, element);\n",
              "          const docLink = document.createElement('div');\n",
              "          docLink.innerHTML = docLinkHtml;\n",
              "          element.appendChild(docLink);\n",
              "        }\n",
              "      </script>\n",
              "    </div>\n",
              "  </div>\n",
              "  "
            ]
          },
          "metadata": {},
          "execution_count": 22
        }
      ]
    },
    {
      "cell_type": "code",
      "source": [
        "df4.to_csv('Dissolved Oxygen.csv')"
      ],
      "metadata": {
        "id": "BhuBkMKH9FZy"
      },
      "execution_count": null,
      "outputs": []
    },
    {
      "cell_type": "markdown",
      "source": [
        "# **pH**"
      ],
      "metadata": {
        "id": "rFq6kW0mEbWs"
      }
    },
    {
      "cell_type": "code",
      "source": [
        "def addpH(image):\n",
        "  ph = ee.Image(8.339).subtract(ee.Image(0.827).multiply(image.select('B1').divide(image.select('B8')))).rename('PH')\n",
        "  return image.addBands(ph)\n",
        "with_pH = sentinel_AOI.map(addpH)"
      ],
      "metadata": {
        "id": "Cd0tVe4UEbWt"
      },
      "execution_count": null,
      "outputs": []
    },
    {
      "cell_type": "code",
      "source": [
        "def meanpH(image):\n",
        "  image = ee.Image(image)\n",
        "  mean = image.reduceRegion(reducer = ee.Reducer.mean().setOutputs(['PH']),\n",
        "                           geometry = lendiya_AOI,\n",
        "                           scale = image.projection().nominalScale().getInfo(),\n",
        "                           maxPixels = 100000,\n",
        "                           bestEffort = True);\n",
        "  return mean.get('PH').getInfo()"
      ],
      "metadata": {
        "id": "5K9w3yvwEbWt"
      },
      "execution_count": null,
      "outputs": []
    },
    {
      "cell_type": "code",
      "source": [
        "Images_ph = with_pH.select('PH').toList(with_pH.size())\n",
        "ph_coll= []\n",
        "for i in range(Images_ph.length().getInfo()):\n",
        "  image = ee.Image(Images_ph.get(i-1))\n",
        "  temp_ph = meanpH(image)\n",
        "  ph_coll.append(temp_ph)"
      ],
      "metadata": {
        "id": "VswLcrkIEbWt"
      },
      "execution_count": null,
      "outputs": []
    },
    {
      "cell_type": "code",
      "source": [
        "dates = np.array(with_pH.aggregate_array(\"system:time_start\").getInfo())\n",
        "day = [datetime.datetime.fromtimestamp(i/1000).strftime('%Y-%m-%d') for i in (dates)]"
      ],
      "metadata": {
        "id": "DiPJQU6EEbWt"
      },
      "execution_count": null,
      "outputs": []
    },
    {
      "cell_type": "code",
      "source": [
        "df6 = pd.DataFrame(ph_coll, index = day, columns = ['pH'])\n",
        "df6.index = pd.to_datetime(df6.index, format=\"%Y/%m/%d\")\n",
        "df6.sort_index(ascending = True, inplace = True)"
      ],
      "metadata": {
        "id": "iGd-MKU8EbWt"
      },
      "execution_count": null,
      "outputs": []
    },
    {
      "cell_type": "code",
      "source": [
        "df6"
      ],
      "metadata": {
        "id": "2OBaVVDgEbWu",
        "colab": {
          "base_uri": "https://localhost:8080/",
          "height": 423
        },
        "outputId": "ef400fde-2d1a-4e92-9d6d-4106687a1607"
      },
      "execution_count": null,
      "outputs": [
        {
          "output_type": "execute_result",
          "data": {
            "text/plain": [
              "                  pH\n",
              "2018-12-18  7.662761\n",
              "2018-12-23  7.820192\n",
              "2018-12-28  7.873315\n",
              "2019-01-02  7.701345\n",
              "2019-01-07  7.922840\n",
              "...              ...\n",
              "2022-12-02  7.633734\n",
              "2022-12-07  7.669205\n",
              "2022-12-17  7.689675\n",
              "2022-12-22  7.629132\n",
              "2022-12-27  7.616023\n",
              "\n",
              "[166 rows x 1 columns]"
            ],
            "text/html": [
              "\n",
              "  <div id=\"df-8ccddd42-deed-407f-bdef-b0d18f8440dc\">\n",
              "    <div class=\"colab-df-container\">\n",
              "      <div>\n",
              "<style scoped>\n",
              "    .dataframe tbody tr th:only-of-type {\n",
              "        vertical-align: middle;\n",
              "    }\n",
              "\n",
              "    .dataframe tbody tr th {\n",
              "        vertical-align: top;\n",
              "    }\n",
              "\n",
              "    .dataframe thead th {\n",
              "        text-align: right;\n",
              "    }\n",
              "</style>\n",
              "<table border=\"1\" class=\"dataframe\">\n",
              "  <thead>\n",
              "    <tr style=\"text-align: right;\">\n",
              "      <th></th>\n",
              "      <th>pH</th>\n",
              "    </tr>\n",
              "  </thead>\n",
              "  <tbody>\n",
              "    <tr>\n",
              "      <th>2018-12-18</th>\n",
              "      <td>7.662761</td>\n",
              "    </tr>\n",
              "    <tr>\n",
              "      <th>2018-12-23</th>\n",
              "      <td>7.820192</td>\n",
              "    </tr>\n",
              "    <tr>\n",
              "      <th>2018-12-28</th>\n",
              "      <td>7.873315</td>\n",
              "    </tr>\n",
              "    <tr>\n",
              "      <th>2019-01-02</th>\n",
              "      <td>7.701345</td>\n",
              "    </tr>\n",
              "    <tr>\n",
              "      <th>2019-01-07</th>\n",
              "      <td>7.922840</td>\n",
              "    </tr>\n",
              "    <tr>\n",
              "      <th>...</th>\n",
              "      <td>...</td>\n",
              "    </tr>\n",
              "    <tr>\n",
              "      <th>2022-12-02</th>\n",
              "      <td>7.633734</td>\n",
              "    </tr>\n",
              "    <tr>\n",
              "      <th>2022-12-07</th>\n",
              "      <td>7.669205</td>\n",
              "    </tr>\n",
              "    <tr>\n",
              "      <th>2022-12-17</th>\n",
              "      <td>7.689675</td>\n",
              "    </tr>\n",
              "    <tr>\n",
              "      <th>2022-12-22</th>\n",
              "      <td>7.629132</td>\n",
              "    </tr>\n",
              "    <tr>\n",
              "      <th>2022-12-27</th>\n",
              "      <td>7.616023</td>\n",
              "    </tr>\n",
              "  </tbody>\n",
              "</table>\n",
              "<p>166 rows × 1 columns</p>\n",
              "</div>\n",
              "      <button class=\"colab-df-convert\" onclick=\"convertToInteractive('df-8ccddd42-deed-407f-bdef-b0d18f8440dc')\"\n",
              "              title=\"Convert this dataframe to an interactive table.\"\n",
              "              style=\"display:none;\">\n",
              "        \n",
              "  <svg xmlns=\"http://www.w3.org/2000/svg\" height=\"24px\"viewBox=\"0 0 24 24\"\n",
              "       width=\"24px\">\n",
              "    <path d=\"M0 0h24v24H0V0z\" fill=\"none\"/>\n",
              "    <path d=\"M18.56 5.44l.94 2.06.94-2.06 2.06-.94-2.06-.94-.94-2.06-.94 2.06-2.06.94zm-11 1L8.5 8.5l.94-2.06 2.06-.94-2.06-.94L8.5 2.5l-.94 2.06-2.06.94zm10 10l.94 2.06.94-2.06 2.06-.94-2.06-.94-.94-2.06-.94 2.06-2.06.94z\"/><path d=\"M17.41 7.96l-1.37-1.37c-.4-.4-.92-.59-1.43-.59-.52 0-1.04.2-1.43.59L10.3 9.45l-7.72 7.72c-.78.78-.78 2.05 0 2.83L4 21.41c.39.39.9.59 1.41.59.51 0 1.02-.2 1.41-.59l7.78-7.78 2.81-2.81c.8-.78.8-2.07 0-2.86zM5.41 20L4 18.59l7.72-7.72 1.47 1.35L5.41 20z\"/>\n",
              "  </svg>\n",
              "      </button>\n",
              "      \n",
              "  <style>\n",
              "    .colab-df-container {\n",
              "      display:flex;\n",
              "      flex-wrap:wrap;\n",
              "      gap: 12px;\n",
              "    }\n",
              "\n",
              "    .colab-df-convert {\n",
              "      background-color: #E8F0FE;\n",
              "      border: none;\n",
              "      border-radius: 50%;\n",
              "      cursor: pointer;\n",
              "      display: none;\n",
              "      fill: #1967D2;\n",
              "      height: 32px;\n",
              "      padding: 0 0 0 0;\n",
              "      width: 32px;\n",
              "    }\n",
              "\n",
              "    .colab-df-convert:hover {\n",
              "      background-color: #E2EBFA;\n",
              "      box-shadow: 0px 1px 2px rgba(60, 64, 67, 0.3), 0px 1px 3px 1px rgba(60, 64, 67, 0.15);\n",
              "      fill: #174EA6;\n",
              "    }\n",
              "\n",
              "    [theme=dark] .colab-df-convert {\n",
              "      background-color: #3B4455;\n",
              "      fill: #D2E3FC;\n",
              "    }\n",
              "\n",
              "    [theme=dark] .colab-df-convert:hover {\n",
              "      background-color: #434B5C;\n",
              "      box-shadow: 0px 1px 3px 1px rgba(0, 0, 0, 0.15);\n",
              "      filter: drop-shadow(0px 1px 2px rgba(0, 0, 0, 0.3));\n",
              "      fill: #FFFFFF;\n",
              "    }\n",
              "  </style>\n",
              "\n",
              "      <script>\n",
              "        const buttonEl =\n",
              "          document.querySelector('#df-8ccddd42-deed-407f-bdef-b0d18f8440dc button.colab-df-convert');\n",
              "        buttonEl.style.display =\n",
              "          google.colab.kernel.accessAllowed ? 'block' : 'none';\n",
              "\n",
              "        async function convertToInteractive(key) {\n",
              "          const element = document.querySelector('#df-8ccddd42-deed-407f-bdef-b0d18f8440dc');\n",
              "          const dataTable =\n",
              "            await google.colab.kernel.invokeFunction('convertToInteractive',\n",
              "                                                     [key], {});\n",
              "          if (!dataTable) return;\n",
              "\n",
              "          const docLinkHtml = 'Like what you see? Visit the ' +\n",
              "            '<a target=\"_blank\" href=https://colab.research.google.com/notebooks/data_table.ipynb>data table notebook</a>'\n",
              "            + ' to learn more about interactive tables.';\n",
              "          element.innerHTML = '';\n",
              "          dataTable['output_type'] = 'display_data';\n",
              "          await google.colab.output.renderOutput(dataTable, element);\n",
              "          const docLink = document.createElement('div');\n",
              "          docLink.innerHTML = docLinkHtml;\n",
              "          element.appendChild(docLink);\n",
              "        }\n",
              "      </script>\n",
              "    </div>\n",
              "  </div>\n",
              "  "
            ]
          },
          "metadata": {},
          "execution_count": 29
        }
      ]
    },
    {
      "cell_type": "code",
      "source": [
        "df6.to_csv('pH.csv')"
      ],
      "metadata": {
        "id": "4wcnH4MjKeox"
      },
      "execution_count": null,
      "outputs": []
    },
    {
      "cell_type": "markdown",
      "source": [
        "# **Temperature**"
      ],
      "metadata": {
        "id": "W60-GpncYzZT"
      }
    },
    {
      "cell_type": "markdown",
      "source": [
        "\n",
        "Selecting the Satellite\n",
        "\n"
      ],
      "metadata": {
        "id": "gvhFV18CZCrE"
      }
    },
    {
      "cell_type": "code",
      "source": [
        "landsat = ee.ImageCollection(\"LANDSAT/LC08/C02/T1_L2\").\\\n",
        "              filterDate(\"2016-01-01\",\"2022-01-01\")\n",
        "lendiya_AOI = ee.Geometry.Polygon([[77.39023917078465, 23.27477380472318],\n",
        "          [77.39034645914525, 23.274596401498602],\n",
        "          [77.39034645914525, 23.273876930443446],\n",
        "          [77.39060395121068, 23.273847363056678],\n",
        "          [77.3905717647025, 23.27359111209644],\n",
        "          [77.3909150874564, 23.273729093443976],\n",
        "          [77.39105456232518, 23.273847363056678],\n",
        "          [77.39120476603001, 23.273876930443446],\n",
        "          [77.39134424089879, 23.27427116163988],\n",
        "          [77.39111893534154, 23.275808652157437],\n",
        "          [77.39099018930882, 23.27569038428615],\n",
        "          [77.39077561258763, 23.27569038428615],\n",
        "          [77.3904108321616, 23.275394714148526]])\n",
        "\n",
        "landsat_AOI = landsat.filterBounds(lendiya_AOI)"
      ],
      "metadata": {
        "id": "fFMPGgPNZBzt"
      },
      "execution_count": null,
      "outputs": []
    },
    {
      "cell_type": "code",
      "source": [
        "print('Total number of images :', landsat_AOI.size().getInfo())"
      ],
      "metadata": {
        "id": "W36zNf-yc5t0",
        "colab": {
          "base_uri": "https://localhost:8080/"
        },
        "outputId": "9b313ab6-ed3c-4172-ee5e-faecd6a32487"
      },
      "execution_count": null,
      "outputs": [
        {
          "output_type": "stream",
          "name": "stdout",
          "text": [
            "Total number of images : 230\n"
          ]
        }
      ]
    },
    {
      "cell_type": "code",
      "source": [
        "def addtemp(image):\n",
        "  temp = image.select('ST_B.*').multiply(0.00341802).add(149.0).subtract(273.15).rename('temperature')\n",
        "  return image.addBands(temp)\n",
        "with_temp = landsat_AOI.map(addtemp)\n"
      ],
      "metadata": {
        "id": "ycE2QZJCZSwd"
      },
      "execution_count": null,
      "outputs": []
    },
    {
      "cell_type": "code",
      "source": [
        "def meantemp(image):\n",
        "  image = ee.Image(image)\n",
        "  mean = image.reduceRegion(reducer = ee.Reducer.mean().setOutputs(['temperature']),\n",
        "                           geometry = lendiya_AOI,\n",
        "                           scale = image.projection().nominalScale().getInfo(),\n",
        "                           maxPixels = 100000,\n",
        "                           bestEffort = True);\n",
        "  return mean.get('temperature').getInfo()"
      ],
      "metadata": {
        "id": "xOfG61oaZyKo"
      },
      "execution_count": null,
      "outputs": []
    },
    {
      "cell_type": "code",
      "source": [
        "Images_temp = with_temp.select('temperature').toList(with_temp.size())\n",
        "temp_coll = []\n",
        "for i in range(Images_temp.length().getInfo()):\n",
        "  image = ee.Image(Images_temp.get(i-1))\n",
        "  tempe_temp = meantemp(image)\n",
        "  temp_coll.append(tempe_temp)"
      ],
      "metadata": {
        "id": "bldmSHJve5wS"
      },
      "execution_count": null,
      "outputs": []
    },
    {
      "cell_type": "code",
      "source": [
        "dates = np.array(with_temp.aggregate_array(\"system:time_start\").getInfo())\n",
        "day = [datetime.datetime.fromtimestamp(i/1000).strftime('%Y-%m-%d') for i in (dates)]"
      ],
      "metadata": {
        "id": "YH1eqrnBlp0p"
      },
      "execution_count": null,
      "outputs": []
    },
    {
      "cell_type": "code",
      "source": [
        "df5 = pd.DataFrame(temp_coll, index = day, columns = ['Temperature'])\n",
        "df5.index = pd.to_datetime(df5.index, format=\"%Y/%m/%d\")\n",
        "df5.sort_index(ascending = True, inplace = True)"
      ],
      "metadata": {
        "id": "6C4A_zLTGIA6"
      },
      "execution_count": null,
      "outputs": []
    },
    {
      "cell_type": "code",
      "source": [
        "df5"
      ],
      "metadata": {
        "id": "fIgFt4uEGLIb",
        "colab": {
          "base_uri": "https://localhost:8080/",
          "height": 423
        },
        "outputId": "cbfe3669-b6d3-4320-fd80-1a92d9d8dace"
      },
      "execution_count": null,
      "outputs": [
        {
          "output_type": "execute_result",
          "data": {
            "text/plain": [
              "            Temperature\n",
              "2016-01-07    18.151491\n",
              "2016-01-14    25.201303\n",
              "2016-01-23    23.758434\n",
              "2016-01-30    25.482449\n",
              "2016-02-08    23.369908\n",
              "...                 ...\n",
              "2021-11-27    26.894394\n",
              "2021-12-06    30.914079\n",
              "2021-12-13    29.534561\n",
              "2021-12-22    28.716595\n",
              "2021-12-29    24.956496\n",
              "\n",
              "[230 rows x 1 columns]"
            ],
            "text/html": [
              "\n",
              "  <div id=\"df-062e93ee-d991-480d-9e75-130b8942863b\">\n",
              "    <div class=\"colab-df-container\">\n",
              "      <div>\n",
              "<style scoped>\n",
              "    .dataframe tbody tr th:only-of-type {\n",
              "        vertical-align: middle;\n",
              "    }\n",
              "\n",
              "    .dataframe tbody tr th {\n",
              "        vertical-align: top;\n",
              "    }\n",
              "\n",
              "    .dataframe thead th {\n",
              "        text-align: right;\n",
              "    }\n",
              "</style>\n",
              "<table border=\"1\" class=\"dataframe\">\n",
              "  <thead>\n",
              "    <tr style=\"text-align: right;\">\n",
              "      <th></th>\n",
              "      <th>Temperature</th>\n",
              "    </tr>\n",
              "  </thead>\n",
              "  <tbody>\n",
              "    <tr>\n",
              "      <th>2016-01-07</th>\n",
              "      <td>18.151491</td>\n",
              "    </tr>\n",
              "    <tr>\n",
              "      <th>2016-01-14</th>\n",
              "      <td>25.201303</td>\n",
              "    </tr>\n",
              "    <tr>\n",
              "      <th>2016-01-23</th>\n",
              "      <td>23.758434</td>\n",
              "    </tr>\n",
              "    <tr>\n",
              "      <th>2016-01-30</th>\n",
              "      <td>25.482449</td>\n",
              "    </tr>\n",
              "    <tr>\n",
              "      <th>2016-02-08</th>\n",
              "      <td>23.369908</td>\n",
              "    </tr>\n",
              "    <tr>\n",
              "      <th>...</th>\n",
              "      <td>...</td>\n",
              "    </tr>\n",
              "    <tr>\n",
              "      <th>2021-11-27</th>\n",
              "      <td>26.894394</td>\n",
              "    </tr>\n",
              "    <tr>\n",
              "      <th>2021-12-06</th>\n",
              "      <td>30.914079</td>\n",
              "    </tr>\n",
              "    <tr>\n",
              "      <th>2021-12-13</th>\n",
              "      <td>29.534561</td>\n",
              "    </tr>\n",
              "    <tr>\n",
              "      <th>2021-12-22</th>\n",
              "      <td>28.716595</td>\n",
              "    </tr>\n",
              "    <tr>\n",
              "      <th>2021-12-29</th>\n",
              "      <td>24.956496</td>\n",
              "    </tr>\n",
              "  </tbody>\n",
              "</table>\n",
              "<p>230 rows × 1 columns</p>\n",
              "</div>\n",
              "      <button class=\"colab-df-convert\" onclick=\"convertToInteractive('df-062e93ee-d991-480d-9e75-130b8942863b')\"\n",
              "              title=\"Convert this dataframe to an interactive table.\"\n",
              "              style=\"display:none;\">\n",
              "        \n",
              "  <svg xmlns=\"http://www.w3.org/2000/svg\" height=\"24px\"viewBox=\"0 0 24 24\"\n",
              "       width=\"24px\">\n",
              "    <path d=\"M0 0h24v24H0V0z\" fill=\"none\"/>\n",
              "    <path d=\"M18.56 5.44l.94 2.06.94-2.06 2.06-.94-2.06-.94-.94-2.06-.94 2.06-2.06.94zm-11 1L8.5 8.5l.94-2.06 2.06-.94-2.06-.94L8.5 2.5l-.94 2.06-2.06.94zm10 10l.94 2.06.94-2.06 2.06-.94-2.06-.94-.94-2.06-.94 2.06-2.06.94z\"/><path d=\"M17.41 7.96l-1.37-1.37c-.4-.4-.92-.59-1.43-.59-.52 0-1.04.2-1.43.59L10.3 9.45l-7.72 7.72c-.78.78-.78 2.05 0 2.83L4 21.41c.39.39.9.59 1.41.59.51 0 1.02-.2 1.41-.59l7.78-7.78 2.81-2.81c.8-.78.8-2.07 0-2.86zM5.41 20L4 18.59l7.72-7.72 1.47 1.35L5.41 20z\"/>\n",
              "  </svg>\n",
              "      </button>\n",
              "      \n",
              "  <style>\n",
              "    .colab-df-container {\n",
              "      display:flex;\n",
              "      flex-wrap:wrap;\n",
              "      gap: 12px;\n",
              "    }\n",
              "\n",
              "    .colab-df-convert {\n",
              "      background-color: #E8F0FE;\n",
              "      border: none;\n",
              "      border-radius: 50%;\n",
              "      cursor: pointer;\n",
              "      display: none;\n",
              "      fill: #1967D2;\n",
              "      height: 32px;\n",
              "      padding: 0 0 0 0;\n",
              "      width: 32px;\n",
              "    }\n",
              "\n",
              "    .colab-df-convert:hover {\n",
              "      background-color: #E2EBFA;\n",
              "      box-shadow: 0px 1px 2px rgba(60, 64, 67, 0.3), 0px 1px 3px 1px rgba(60, 64, 67, 0.15);\n",
              "      fill: #174EA6;\n",
              "    }\n",
              "\n",
              "    [theme=dark] .colab-df-convert {\n",
              "      background-color: #3B4455;\n",
              "      fill: #D2E3FC;\n",
              "    }\n",
              "\n",
              "    [theme=dark] .colab-df-convert:hover {\n",
              "      background-color: #434B5C;\n",
              "      box-shadow: 0px 1px 3px 1px rgba(0, 0, 0, 0.15);\n",
              "      filter: drop-shadow(0px 1px 2px rgba(0, 0, 0, 0.3));\n",
              "      fill: #FFFFFF;\n",
              "    }\n",
              "  </style>\n",
              "\n",
              "      <script>\n",
              "        const buttonEl =\n",
              "          document.querySelector('#df-062e93ee-d991-480d-9e75-130b8942863b button.colab-df-convert');\n",
              "        buttonEl.style.display =\n",
              "          google.colab.kernel.accessAllowed ? 'block' : 'none';\n",
              "\n",
              "        async function convertToInteractive(key) {\n",
              "          const element = document.querySelector('#df-062e93ee-d991-480d-9e75-130b8942863b');\n",
              "          const dataTable =\n",
              "            await google.colab.kernel.invokeFunction('convertToInteractive',\n",
              "                                                     [key], {});\n",
              "          if (!dataTable) return;\n",
              "\n",
              "          const docLinkHtml = 'Like what you see? Visit the ' +\n",
              "            '<a target=\"_blank\" href=https://colab.research.google.com/notebooks/data_table.ipynb>data table notebook</a>'\n",
              "            + ' to learn more about interactive tables.';\n",
              "          element.innerHTML = '';\n",
              "          dataTable['output_type'] = 'display_data';\n",
              "          await google.colab.output.renderOutput(dataTable, element);\n",
              "          const docLink = document.createElement('div');\n",
              "          docLink.innerHTML = docLinkHtml;\n",
              "          element.appendChild(docLink);\n",
              "        }\n",
              "      </script>\n",
              "    </div>\n",
              "  </div>\n",
              "  "
            ]
          },
          "metadata": {},
          "execution_count": 39
        }
      ]
    },
    {
      "cell_type": "code",
      "source": [
        "df5.to_csv('Temperature.csv')"
      ],
      "metadata": {
        "id": "aLtgmkH_hRq3"
      },
      "execution_count": null,
      "outputs": []
    },
    {
      "cell_type": "markdown",
      "source": [
        "# **Dissolved Oxygen Matter**"
      ],
      "metadata": {
        "id": "zz4JIC0MArUJ"
      }
    },
    {
      "cell_type": "markdown",
      "source": [
        "\n",
        "Selecting the Satellite"
      ],
      "metadata": {
        "id": "CAaqVMKSESki"
      }
    },
    {
      "cell_type": "code",
      "source": [
        "sentinel3 = ee.ImageCollection(\"COPERNICUS/S3/OLCI\").\\\n",
        "              filterDate(\"2018-08-01\",\"2018-12-31\")\n",
        "\n",
        "lendiya_AOI = ee.Geometry.Polygon([[77.39023917078465, 23.27477380472318],\n",
        "          [77.39034645914525, 23.274596401498602],\n",
        "          [77.39034645914525, 23.273876930443446],\n",
        "          [77.39060395121068, 23.273847363056678],\n",
        "          [77.3905717647025, 23.27359111209644],\n",
        "          [77.3909150874564, 23.273729093443976],\n",
        "          [77.39105456232518, 23.273847363056678],\n",
        "          [77.39120476603001, 23.273876930443446],\n",
        "          [77.39134424089879, 23.27427116163988],\n",
        "          [77.39111893534154, 23.275808652157437],\n",
        "          [77.39099018930882, 23.27569038428615],\n",
        "          [77.39077561258763, 23.27569038428615],\n",
        "          [77.3904108321616, 23.275394714148526]])\n",
        "sentinel3_AOI = sentinel3.filterBounds(lendiya_AOI)"
      ],
      "metadata": {
        "id": "QRbh0TVSBDxp"
      },
      "execution_count": null,
      "outputs": []
    },
    {
      "cell_type": "code",
      "source": [
        "print('Total number of images :', sentinel3_AOI.size().getInfo())"
      ],
      "metadata": {
        "id": "DPK26BVEloHu",
        "colab": {
          "base_uri": "https://localhost:8080/"
        },
        "outputId": "aa3e2c0b-11db-4792-f9e2-75aa4716ee84"
      },
      "execution_count": null,
      "outputs": [
        {
          "output_type": "stream",
          "name": "stdout",
          "text": [
            "Total number of images : 492\n"
          ]
        }
      ]
    },
    {
      "cell_type": "code",
      "source": [
        "def addDM(image):\n",
        "  rgb = image.select(['Oa08_radiance', 'Oa06_radiance', 'Oa04_radiance'])\\\n",
        "              .multiply(ee.Image([0.00876539, 0.0123538, 0.0115198]))\n",
        "  dm = rgb.select('Oa08_radiance').divide(rgb.select('Oa04_radiance')).rename('dom')\n",
        "  return image.addBands(dm)\n",
        "with_dm = sentinel3_AOI.map(addDM)"
      ],
      "metadata": {
        "id": "BG6nD7kXCkOL"
      },
      "execution_count": null,
      "outputs": []
    },
    {
      "cell_type": "code",
      "source": [
        "def meanDM(image):\n",
        "  image = ee.Image(image)\n",
        "  mean = image.reduceRegion(reducer = ee.Reducer.mean().setOutputs(['dom']),\n",
        "                           geometry = lendiya_AOI,\n",
        "                           scale = image.projection().nominalScale().getInfo(),\n",
        "                           maxPixels = 100000,\n",
        "                           bestEffort = True);\n",
        "  return mean.get('dom').getInfo()"
      ],
      "metadata": {
        "id": "de4OnIR4Dcdu"
      },
      "execution_count": null,
      "outputs": []
    },
    {
      "cell_type": "code",
      "source": [
        "Images_dm = with_dm.select('dom').toList(with_dm.size())\n",
        "dm_coll= []\n",
        "for i in range(Images_dm.length().getInfo()):\n",
        "  image = ee.Image(Images_dm.get(i-1))\n",
        "  temp_dm = meanDM(image)\n",
        "  dm_coll.append(temp_dm)"
      ],
      "metadata": {
        "id": "AmGIp4x7DnRt"
      },
      "execution_count": null,
      "outputs": []
    },
    {
      "cell_type": "code",
      "source": [
        "dates = np.array(with_dm.aggregate_array(\"system:time_start\").getInfo())\n",
        "day = [datetime.datetime.fromtimestamp(i/1000).strftime('%Y-%m-%d') for i in (dates)]"
      ],
      "metadata": {
        "id": "Kgh8ZHUqD2iH"
      },
      "execution_count": null,
      "outputs": []
    },
    {
      "cell_type": "code",
      "source": [
        "df6 = pd.DataFrame(dm_coll, index = day, columns = ['Dissolved Oxygen Matter'])\n",
        "df6.index = pd.to_datetime(df6.index, format=\"%Y/%m/%d\")\n",
        "df6.sort_index(ascending = True, inplace = True)"
      ],
      "metadata": {
        "id": "X-_Q0EwmT5yv"
      },
      "execution_count": null,
      "outputs": []
    },
    {
      "cell_type": "code",
      "source": [
        "df6"
      ],
      "metadata": {
        "id": "_X4NJBdgFXsS"
      },
      "execution_count": null,
      "outputs": []
    },
    {
      "cell_type": "code",
      "source": [
        "df6.to_csv(\"dom\\AUG1_2018toDEC31_2018\")"
      ],
      "metadata": {
        "id": "FoU3xaCOUn_d"
      },
      "execution_count": null,
      "outputs": []
    },
    {
      "cell_type": "markdown",
      "source": [
        "# **Suspended Matter**"
      ],
      "metadata": {
        "id": "-_zpfSPOZ56i"
      }
    },
    {
      "cell_type": "code",
      "source": [
        "def addSM(image):\n",
        "  rgb = image.select(['Oa08_radiance', 'Oa06_radiance', 'Oa04_radiance'])\\\n",
        "              .multiply(ee.Image([0.00876539, 0.0123538, 0.0115198]))\n",
        "  suspended_matter = rgb.select('Oa08_radiance').divide(rgb.select('Oa06_radiance')).rename('suspended_matter')\n",
        "  return image.addBands(suspended_matter)\n",
        "with_sm = sentinel3_AOI.map(addSM)"
      ],
      "metadata": {
        "id": "0ezYwq74Z9di"
      },
      "execution_count": null,
      "outputs": []
    },
    {
      "cell_type": "code",
      "source": [
        "def meanSM(image):\n",
        "  image = ee.Image(image)\n",
        "  mean = image.reduceRegion(reducer = ee.Reducer.mean().setOutputs(['suspended_matter']),\n",
        "                           geometry = sarapangi_AOI,\n",
        "                           scale = image.projection().nominalScale().getInfo(),\n",
        "                           maxPixels = 100000,\n",
        "                           bestEffort = True);\n",
        "  return mean.get('suspended_matter').getInfo()"
      ],
      "metadata": {
        "id": "LVK07bAaaVg1"
      },
      "execution_count": null,
      "outputs": []
    },
    {
      "cell_type": "code",
      "source": [
        "Images_sm = with_sm.select('suspended_matter').toList(with_sm.size())\n",
        "sm_coll= []\n",
        "for i in range(Images_sm.length().getInfo()):\n",
        "  image = ee.Image(Images_sm.get(i-1))\n",
        "  temp_sm = meanSM(image)\n",
        "  sm_coll.append(temp_sm)"
      ],
      "metadata": {
        "id": "Efd-ZKWabC0P"
      },
      "execution_count": null,
      "outputs": []
    }
  ]
}