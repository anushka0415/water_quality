{
  "cells": [
    {
      "cell_type": "code",
      "execution_count": null,
      "metadata": {
        "id": "jkiIq4nsXnvD"
      },
      "outputs": [],
      "source": []
    },
    {
      "cell_type": "code",
      "execution_count": null,
      "metadata": {
        "id": "17f81c5e"
      },
      "outputs": [],
      "source": [
        "import ee\n",
        "import pandas as pd\n",
        "import numpy as np\n",
        "from datetime import datetime, timedelta"
      ]
    },
    {
      "cell_type": "code",
      "execution_count": null,
      "metadata": {
        "id": "zJLW0MviX-q9"
      },
      "outputs": [],
      "source": []
    },
    {
      "cell_type": "code",
      "execution_count": null,
      "metadata": {
        "colab": {
          "base_uri": "https://localhost:8080/"
        },
        "id": "a01ad8de",
        "outputId": "fae27aa6-30a1-4609-822b-28c13821f813"
      },
      "outputs": [
        {
          "name": "stdout",
          "output_type": "stream",
          "text": [
            "To authorize access needed by Earth Engine, open the following URL in a web browser and follow the instructions. If the web browser does not start automatically, please manually browse the URL below.\n",
            "\n",
            "    https://code.earthengine.google.com/client-auth?scopes=https%3A//www.googleapis.com/auth/earthengine%20https%3A//www.googleapis.com/auth/devstorage.full_control&request_id=H4-p1tEX3madcGB9_FkYiOgEI1BO1TvnZ8lito9cShw&tc=RqL4jY64ghSur8t4yugbNFy06c_LhcxxdyzIQixZMzk&cc=u2QN-9qWHfiAg9nNqc848Slm1wGqwfkQxiIk7WyjSUo\n",
            "\n",
            "The authorization workflow will generate a code, which you should paste in the box below.\n",
            "Enter verification code: 4/1AWtgzh7Wc9pubSVee2Y1Wn5DjddNBv2uk2CcBjV_uN91Ty0hKinjLH5Hf9I\n",
            "\n",
            "Successfully saved authorization token.\n"
          ]
        }
      ],
      "source": [
        "ee.Authenticate()\n",
        "ee.Initialize()"
      ]
    },
    {
      "cell_type": "code",
      "execution_count": null,
      "metadata": {
        "id": "T3r4nRUbYtYX"
      },
      "outputs": [],
      "source": []
    },
    {
      "cell_type": "code",
      "execution_count": null,
      "metadata": {
        "id": "1ac3b821"
      },
      "outputs": [],
      "source": [
        "def get_dates(start_date, end_date):\n",
        "    start = datetime.strptime(start_date, '%Y-%m-%d')\n",
        "    end = datetime.strptime(end_date, '%Y-%m-%d')\n",
        "    dates = []\n",
        "    while start + timedelta(days=1) <= end:\n",
        "        dates.append([start.strftime('%Y-%m-%d'), (start + timedelta(days=1)).strftime('%Y-%m-%d')])\n",
        "        start += timedelta(days=1)\n",
        "    return dates"
      ]
    },
    {
      "cell_type": "code",
      "execution_count": null,
      "metadata": {
        "id": "2zdlfKgvYtaO"
      },
      "outputs": [],
      "source": []
    },
    {
      "cell_type": "code",
      "execution_count": null,
      "metadata": {
        "id": "f4f25abd"
      },
      "outputs": [],
      "source": [
        "def get_data(start_date, end_date, roi):\n",
        "    # sentinel 2 dataset\n",
        "    dataset = ee.ImageCollection('COPERNICUS/S2_SR') \\\n",
        "        .filterBounds(roi) \\\n",
        "        .filterDate(start_date, end_date) \\\n",
        "        .filter(ee.Filter.lt('CLOUDY_PIXEL_PERCENTAGE', 20))\\\n",
        "        .mean()\n",
        "    # landsat 8 dataset\n",
        "    dataset2 = ee.ImageCollection('LANDSAT/LC08/C01/T1_SR') \\\n",
        "        .filterBounds(roi) \\\n",
        "        .filterDate(start_date, end_date) \\\n",
        "        .filter(ee.Filter.lt('CLOUD_COVER', 20)) \\\n",
        "        .median()\n",
        "    # dict to keep track of null vals\n",
        "    is_null = {\n",
        "        'ndwi': False,\n",
        "        'mndwi': False,\n",
        "        'ndci': False,\n",
        "        'ndti': False,\n",
        "        'do': False,\n",
        "        'ndsi': False,\n",
        "        'ph': False,\n",
        "        'chl_a': False,\n",
        "        'ssc': False,\n",
        "        'wst': False,\n",
        "    }\n",
        "    # ndwi\n",
        "    try:\n",
        "        ndwi_bands = ['B3', 'B5']\n",
        "        ndwi = dataset.normalizedDifference(ndwi_bands).rename('ndwi')\n",
        "        latlon = ee.Image.pixelLonLat().addBands(ndwi)\n",
        "        latlon = latlon.reduceRegion(\n",
        "            reducer=ee.Reducer.toList(),\n",
        "            geometry=roi,\n",
        "            scale=8)\n",
        "        data_ndwi = np.array((ee.Array(latlon.get('ndwi')).getInfo()))\n",
        "    except:\n",
        "        is_null[\"ndwi\"] = True\n",
        "\n",
        "    # mndwi\n",
        "    try:\n",
        "        band_mndwi = ['B3', 'B6']\n",
        "        mndwi = dataset.normalizedDifference(band_mndwi).rename('mndwi')\n",
        "        latlon = ee.Image.pixelLonLat().addBands(mndwi)\n",
        "        latlon = latlon.reduceRegion(\n",
        "            reducer=ee.Reducer.toList(),\n",
        "            geometry=roi,\n",
        "            scale=8)\n",
        "        data_mndwi = np.array((ee.Array(latlon.get('mndwi')).getInfo()))\n",
        "    except:\n",
        "        is_null[\"mndwi\"] = True\n",
        "\n",
        "    # ndci\n",
        "    try:\n",
        "        band_ndci = ['B4', 'B3']\n",
        "        ndci = dataset.normalizedDifference(band_ndci).rename('ndci')\n",
        "        latlon = ee.Image.pixelLonLat().addBands(ndci)\n",
        "        latlon = latlon.reduceRegion(\n",
        "            reducer=ee.Reducer.toList(),\n",
        "            geometry=roi,\n",
        "            scale=8)\n",
        "        data_ndci = np.array((ee.Array(latlon.get('ndci')).getInfo()))\n",
        "    except:\n",
        "        is_null[\"ndci\"] = True\n",
        "    \n",
        "    # do\n",
        "    try:\n",
        "        band_do = ['B8', 'B11']\n",
        "        dissolvedoxygen = dataset.normalizedDifference(band_do).rename('do')\n",
        "        latlon = ee.Image.pixelLonLat().addBands(dissolvedoxygen)\n",
        "        latlon = latlon.reduceRegion(\n",
        "            reducer=ee.Reducer.toList(),\n",
        "            geometry=geometry,\n",
        "            scale=8)\n",
        "        data_do = np.array((ee.Array(latlon.get('do')).getInfo()))\n",
        "    except: \n",
        "        is_null[\"do\"] = True\n",
        "    # ndti\n",
        "    try:    \n",
        "        band_ndti = ['B5', 'B11']\n",
        "        ndti = dataset.normalizedDifference(band_ndti).rename('ndti')\n",
        "        latlon = ee.Image.pixelLonLat().addBands(ndti)\n",
        "        latlon = latlon.reduceRegion(\n",
        "            reducer=ee.Reducer.toList(),\n",
        "            geometry=roi,\n",
        "            scale=8)\n",
        "        data_ndti = np.array((ee.Array(latlon.get('ndti')).getInfo()))\n",
        "    except:\n",
        "        is_null[\"ndti\"] = True\n",
        "        \n",
        "    # ndsi\n",
        "    try:\n",
        "        band_ndsi = ['B3', 'B11']\n",
        "        ndsi = dataset.normalizedDifference(band_ndsi).rename('ndsi')\n",
        "        latlon = ee.Image.pixelLonLat().addBands(ndsi)\n",
        "        latlon = latlon.reduceRegion(\n",
        "            reducer=ee.Reducer.toList(),\n",
        "            geometry=roi,\n",
        "            scale=8)\n",
        "        data_ndsi = np.array((ee.Array(latlon.get('ndsi')).getInfo()))\n",
        "    except:\n",
        "        is_null[\"ndsi\"] = True\n",
        "    \n",
        "    # ph\n",
        "    try:\n",
        "        ph = ee.Image(8.339).subtract(ee.Image(0.827).multiply(\n",
        "            dataset.select('B1').divide(dataset.select('B8')))).rename('ph')\n",
        "        latlon = ee.Image.pixelLonLat().addBands(ph)\n",
        "        latlon = latlon.reduceRegion(\n",
        "            reducer=ee.Reducer.toList(),\n",
        "            geometry=roi,\n",
        "            scale=8)\n",
        "        data_ph = np.array((ee.Array(latlon.get('ph')).getInfo()))\n",
        "    except:\n",
        "        is_null[\"ph\"] = True\n",
        "\n",
        "    # chlorophyll a\n",
        "    try:\n",
        "        Rrs_red = dataset.select('B3').divide(0.1)\n",
        "        Rrs_blue = dataset.select('B2').divide(0.1)\n",
        "        chl_a = Rrs_red.divide(Rrs_blue).pow(2.72).multiply(10.8).rename('chl_a')\n",
        "        latlon = ee.Image.pixelLonLat().addBands(chl_a)\n",
        "        latlon = latlon.reduceRegion(\n",
        "            reducer=ee.Reducer.toList(),\n",
        "            geometry=roi,\n",
        "            scale=8)\n",
        "        data_chl_a = np.array((ee.Array(latlon.get('chl_a')).getInfo()))\n",
        "    except:\n",
        "        is_null[\"chl_a\"] = True\n",
        "\n",
        "    # suspended sediment conc\n",
        "    try:\n",
        "        ssc = ee.Image(0.0113).multiply(ndwi.pow(3)).subtract(ee.Image(0.0135).multiply(\n",
        "            ndwi.pow(2))).add(ee.Image(0.0075).multiply(ndwi)).add(ee.Image(2.5823)).rename('ssc')\n",
        "        latlon = ee.Image.pixelLonLat().addBands(ssc)\n",
        "        latlon = latlon.reduceRegion(\n",
        "            reducer=ee.Reducer.toList(),\n",
        "            geometry=roi,\n",
        "            scale=8)\n",
        "        data_ssc = np.array((ee.Array(latlon.get('ssc')).getInfo()))\n",
        "    except:\n",
        "        is_null[\"ssc\"] = True\n",
        "\n",
        "    # WST\n",
        "    try:\n",
        "      tir1 = dataset.select('B10')  # 10.8-11.3 µm\n",
        "      tir2 = dataset.select('B11')  # 11.5-12.5 µm\n",
        "      #kelvin = tir2.divide(10).add(273.15)\n",
        "      #wst = kelvin.multiply(1.0158).subtract(\n",
        "      #    tir1.multiply(0.9543)).subtract(2.7886).rename('wst')\n",
        "      # latlon = ee.Image.pixelLonLat().addBands(wst)\n",
        "      #latlon = latlon.reduceRegion(\n",
        "      #    reducer=ee.Reducer.toList(),\n",
        "      #    geometry=roi,\n",
        "      #    scale=8)\n",
        "      #data_wst = np.array((ee.Array(latlon.get('wst')).getInfo()))\n",
        "      kelvin = tir2.divide(10).add(273.15)\n",
        "      lst = kelvin.divide(ee.Image(1).toFloat().divide(tir2.divide(14380).add(1).log()))\n",
        "      emissivity = ee.Image(0.98)\n",
        "      atm_corr = lst.multiply(0.99).add(0.11).multiply(emissivity).subtract(2.5)\n",
        "      wst = atm_corr.subtract(273.15).rename('wst')\n",
        "      latlon = ee.Image.pixelLonLat().addBands(wst)\n",
        "      latlon = latlon.reduceRegion(\n",
        "          reducer=ee.Reducer.toList(),\n",
        "          geometry=roi,\n",
        "          scale=8)\n",
        "      data_wst = np.array((ee.Array(latlon.get('wst')).getInfo()))\n",
        "    except:\n",
        "        is_null[\"wst\"] = True\n",
        "    \n",
        "\n",
        "    # adding data one by one\n",
        "    our_data = {}\n",
        "    \n",
        "    if is_null[\"ph\"]:\n",
        "        our_data[\"ph\"] = None\n",
        "    else:\n",
        "        our_data[\"ph\"] = data_ph\n",
        "    \n",
        "    \n",
        "    if is_null[\"wst\"]:\n",
        "        our_data[\"wst\"] = None\n",
        "    else:\n",
        "        our_data[\"wst\"] = data_wst\n",
        "\n",
        "    dataframe = pd.DataFrame(our_data)\n",
        "    \n",
        "    return dataframe"
      ]
    },
    {
      "cell_type": "code",
      "execution_count": null,
      "metadata": {
        "id": "1Fc7z8EIZIxJ"
      },
      "outputs": [],
      "source": []
    },
    {
      "cell_type": "code",
      "execution_count": null,
      "metadata": {
        "id": "4a09f96c"
      },
      "outputs": [],
      "source": [
        "def get_dataframe(start_date, end_date, polygon):\n",
        "    df_data = pd.DataFrame()\n",
        "    df_data[\"NDWI\"] = []\n",
        "    df_data[\"MNDWI\"] = []\n",
        "    df_data[\"NDCI\"] =[]\n",
        "    df_data[\"date\"] = []\n",
        "\n",
        "    dates = get_dates(start_date, end_date)\n",
        "\n",
        "    for date in dates:\n",
        "        try:\n",
        "            df = get_data(date[0], date[1], polygon)\n",
        "            means = {}\n",
        "            for column in df.columns:\n",
        "                try:\n",
        "                    means[column] = [df[column].mean()]\n",
        "                except:\n",
        "                    means[column] = None\n",
        "            means[\"date\"] = [date[0]]\n",
        "            mean_data = pd.DataFrame(means)\n",
        "            df_data = pd.concat([df_data, mean_data])\n",
        "        except:\n",
        "            mean_data = {}\n",
        "            mean_data[\"date\"] = date[0]\n",
        "            mean_data[\"NDWI\"] = [None]\n",
        "\n",
        "            mean_data[\"MNDWI\"] = [None]\n",
        "            mean_data[\"NDCI\"] = [None]\n",
        "            final_mean = pd.DataFrame(mean_data)\n",
        "            \n",
        "            df_data = pd.concat([df_data, final_mean])\n",
        "    \n",
        "    return df_data"
      ]
    },
    {
      "cell_type": "code",
      "execution_count": null,
      "metadata": {
        "id": "nM8ERujAZyIN"
      },
      "outputs": [],
      "source": []
    },
    {
      "cell_type": "code",
      "execution_count": null,
      "metadata": {
        "id": "ufzH0oV1-Dk2"
      },
      "outputs": [],
      "source": [
        "geometry =ee.Geometry.Polygon(\n",
        "        [[[77.39980020154476, 23.209794968246],\n",
        "          [77.40042247403622, 23.209794968246],\n",
        "          [77.4008516274786, 23.209755526121455],\n",
        "          [77.40121640790463, 23.209479430923615],\n",
        "          [77.40158118833065, 23.209696362912805],\n",
        "          [77.40143098462582, 23.210011899722915],\n",
        "          [77.40098037351132, 23.210189388851145],\n",
        "          [77.40035810101986, 23.210149946843007],\n",
        "          [77.40115203488827, 23.210603529233456],\n",
        "          [77.40093745816708, 23.210938784793257],\n",
        "          [77.40100183118344, 23.21139236450578],\n",
        "          [77.4014095269537, 23.211767059628617],\n",
        "          [77.40100183118344, 23.211688176532185],\n",
        "          [77.40025081265927, 23.211806501159376],\n",
        "          [77.40014352429867, 23.21147124777687],\n",
        "          [77.39992894757748, 23.21115571441311],\n",
        "          [77.39962854016781, 23.210781017575787],\n",
        "          [77.39945687879086, 23.210386598717097],\n",
        "          [77.39930667508602, 23.20989357350644]]]);"
      ]
    },
    {
      "cell_type": "code",
      "execution_count": null,
      "metadata": {
        "id": "T2RVI38MZ6hD"
      },
      "outputs": [],
      "source": []
    },
    {
      "cell_type": "code",
      "execution_count": null,
      "metadata": {
        "id": "27cbbf52"
      },
      "outputs": [],
      "source": [
        "start = '2019-12-01'\n",
        "end = '2022-01-01'"
      ]
    },
    {
      "cell_type": "code",
      "execution_count": null,
      "metadata": {
        "colab": {
          "background_save": true
        },
        "id": "K71i5O1IRF5x"
      },
      "outputs": [],
      "source": [
        "final_data=get_dataframe(start,end,geometry)"
      ]
    },
    {
      "cell_type": "code",
      "execution_count": null,
      "metadata": {
        "id": "-QXuVh9haO_R"
      },
      "outputs": [],
      "source": []
    }
  ],
  "metadata": {
    "colab": {
      "provenance": []
    },
    "kernelspec": {
      "display_name": "Python 3",
      "name": "python3"
    },
    "language_info": {
      "name": "python"
    }
  },
  "nbformat": 4,
  "nbformat_minor": 0
}