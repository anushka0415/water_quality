{
  "cells": [
    {
      "cell_type": "code",
      "execution_count": 1,
      "metadata": {
        "id": "z4O7qIlCLzoz"
      },
      "outputs": [],
      "source": [
        "import ee\n",
        "import pandas as pd"
      ]
    },
    {
      "cell_type": "code",
      "execution_count": 2,
      "metadata": {
        "colab": {
          "base_uri": "https://localhost:8080/"
        },
        "id": "0DELaUuZRiTV",
        "outputId": "cd785057-03d6-4be0-934e-00f7925e9a8e"
      },
      "outputs": [
        {
          "name": "stdout",
          "output_type": "stream",
          "text": [
            "To authorize access needed by Earth Engine, open the following URL in a web browser and follow the instructions. If the web browser does not start automatically, please manually browse the URL below.\n",
            "\n",
            "    https://code.earthengine.google.com/client-auth?scopes=https%3A//www.googleapis.com/auth/earthengine%20https%3A//www.googleapis.com/auth/devstorage.full_control&request_id=C7jekviIj9jM8BkcFo48DHaagLogzsBmaRCK_GmrtNo&tc=VQuWoVRUBAMvuMnySJxeA3HjZOGuT_y5WEvjnMwrv1Q&cc=fUJPC8QJcpmtFUYPFHq_QelVPXqeONss4cJnUzwhz_E\n",
            "\n",
            "The authorization workflow will generate a code, which you should paste in the box below.\n",
            "Enter verification code: 4/1AWtgzh4jPUmgFsT_PVOwU_UlshRPcMUpOpe-BjghPf8i_d_zxaZJgT-LhFA\n",
            "\n",
            "Successfully saved authorization token.\n"
          ]
        }
      ],
      "source": [
        "ee.Authenticate()\n",
        "ee.Initialize()"
      ]
    },
    {
      "cell_type": "code",
      "execution_count": 3,
      "metadata": {
        "id": "Onpuw8PSPyRt"
      },
      "outputs": [],
      "source": [
        "geometry = ee.Geometry.Polygon([\n",
        "                          [[77.39051195702437,23.26465625526173],\n",
        "                           [77.39041673860434,23.26412338843017],\n",
        "                           [77.3904636772621,23.26405624089797],\n",
        "                           [77.39118921480063,23.26394658705701],\n",
        "                           [77.39125761113051,23.263991557463306],\n",
        "                           [77.3913186313856,23.264344543824414],\n",
        "                           [77.39139239213351,23.264538593519962],\n",
        "                           [77.39151242098693,23.264640854515545],\n",
        "                           [77.39166731855754,23.264705537634978],\n",
        "                           [77.39190201184634,23.264666727767032],\n",
        "                           [77.39205422720794,23.264503479786086],\n",
        "                           [77.39206945562391,23.264350538413026],\n",
        "                           [77.39255761766462,23.26425751766926],\n",
        "                           [77.39281913304357,23.264235956560427],\n",
        "                           [77.39302968645124,23.264174353373196],\n",
        "                           [77.39314099812536,23.264049914848027],\n",
        "                           [77.39321073555975,23.263911923476428],\n",
        "                           [77.3932375576499,23.263718488902498],\n",
        "                           [77.39351650738745,23.263754218876777],\n",
        "                           [77.39349504971533,23.264226100052102],\n",
        "                           [77.39335959816007,23.26531647183388],\n",
        "                           [77.39309808278112,23.26623681259786],\n",
        "                           [77.39302566313772,23.26630087892045],\n",
        "                           [77.39269441032438,23.266314431407825],\n",
        "                           [77.39194607400923,23.26627500598619],\n",
        "                           [77.3916349377635,23.266222028057506],\n",
        "                           [77.39142974877386,23.266160425788357],\n",
        "                           [77.3912567462924,23.26613208873483],\n",
        "                           [77.39100193643598,23.266026132742766],\n",
        "                           [77.39097645545034,23.265981779046644],\n",
        "                           [77.39088257813482,23.26584871786952],\n",
        "                           [77.39083295726805,23.265785883378683],\n",
        "                           [77.39070823454885,23.26540025144257],\n",
        "                           [77.39063117839923,23.26505848385452],\n",
        "                           [77.39060435630908,23.26490324472629],\n",
        "                           [77.39056412317386,23.264692562763003],\n",
        "                           [77.39051195702437,23.26465625526173]]])"
      ]
    },
    {
      "cell_type": "markdown",
      "metadata": {
        "id": "wFKQHuynh7C8"
      },
      "source": [
        "## Sentinel 2 params"
      ]
    },
    {
      "cell_type": "code",
      "execution_count": 16,
      "metadata": {
        "colab": {
          "base_uri": "https://localhost:8080/"
        },
        "id": "z-yBf0hgTnpO",
        "outputId": "f22357f4-6238-43cc-df18-7e2872307fb3"
      },
      "outputs": [
        {
          "name": "stdout",
          "output_type": "stream",
          "text": [
            "       NDWI      NDTI      NDCI        DO\n",
            "0 -0.151365  0.087177 -0.034686 -0.168233\n",
            "1  0.097406  0.248638 -0.185957 -0.270476\n",
            "2  0.092679  0.252130 -0.185777 -0.281252\n",
            "3  0.096341  0.261943 -0.201069 -0.292475\n",
            "4  0.039835  0.268859 -0.179384 -0.265648\n",
            "5  0.102881  0.239123 -0.197415 -0.287364\n",
            "6  0.025927  0.230534 -0.175719 -0.261873\n"
          ]
        }
      ],
      "source": [
        "import numpy as np\n",
        "import pandas as pd\n",
        "\n",
        "start_date = '2020-01-01'\n",
        "end_date = '2022-12-31'\n",
        "\n",
        "def param_data(start_date, end_date):\n",
        "  ndwi_bands = ['B3', 'B8']\n",
        "  ndti_bands = ['B8A', 'B12']\n",
        "  ndci_bands = ['B4', 'B3']\n",
        "  do_bands = ['B4', 'B5']\n",
        "\n",
        "  sentinel = ee.ImageCollection('COPERNICUS/S2_SR') \\\n",
        "                .filterBounds(geometry) \\\n",
        "                .filterDate(start_date, end_date) \\\n",
        "                .filter(ee.Filter.lt('CLOUDY_PIXEL_PERCENTAGE', 20)) \\\n",
        "                .median() \n",
        "  \n",
        "\n",
        "  # NDWI data\n",
        "  \n",
        "  ndwi = sentinel.normalizedDifference(ndwi_bands).rename('ndwi')\n",
        "\n",
        "  latlon = ee.Image.pixelLonLat().addBands(ndwi)\n",
        "\n",
        "  latlon = latlon.reduceRegion(\n",
        "      reducer=ee.Reducer.toList(),\n",
        "      geometry=geometry,\n",
        "      scale=100)\n",
        "\n",
        "  ndwi_data = np.array((ee.Array(latlon.get('ndwi')).getInfo()))\n",
        "\n",
        "  # NDTI data\n",
        "\n",
        "  ndti = sentinel.normalizedDifference(ndti_bands).rename('ndti')\n",
        "\n",
        "  latlon = ee.Image.pixelLonLat().addBands(ndti)\n",
        "\n",
        "  latlon = latlon.reduceRegion(\n",
        "      reducer=ee.Reducer.toList(),\n",
        "      geometry=geometry,\n",
        "      scale=100)\n",
        "  \n",
        "  ndti_data = np.array((ee.Array(latlon.get('ndti')).getInfo()))\n",
        "\n",
        "\n",
        "  # NDCI data\n",
        "\n",
        "  ndci = sentinel.normalizedDifference(ndci_bands).rename('ndci')\n",
        "\n",
        "  latlon = ee.Image.pixelLonLat().addBands(ndci)\n",
        "\n",
        "  latlon = latlon.reduceRegion(\n",
        "      reducer=ee.Reducer.toList(),\n",
        "      geometry=geometry,\n",
        "      scale=100)\n",
        "  \n",
        "  assert len(ndci_bands) == 2, 'bands_ndci should contain exactly 2 band names'\n",
        "\n",
        "  ndci_data = np.array((ee.Array(latlon.get('ndci')).getInfo()))\n",
        "\n",
        "\n",
        "  # Dissolved oxygen data\n",
        "\n",
        "  do = sentinel.normalizedDifference(do_bands).rename('do')\n",
        "\n",
        "  latlon = ee.Image.pixelLonLat().addBands(do)\n",
        "\n",
        "  latlon = latlon.reduceRegion(\n",
        "      reducer=ee.Reducer.toList(),\n",
        "      geometry=geometry,\n",
        "      scale=100,\n",
        "      tileScale=16)\n",
        "  \n",
        "  do_data = np.array((ee.Array(latlon.get('do')).getInfo()))\n",
        "\n",
        "  # Dataframe\n",
        "\n",
        "  data = pd.DataFrame({'NDWI': ndwi_data,\n",
        "                         'NDTI': ndti_data,\n",
        "                         'NDCI':ndci_data,\n",
        "                         'DO':do_data})\n",
        "  \n",
        "  return data\n",
        "  \n",
        "data = param_data(start_date, end_date)\n",
        "print(data)"
      ]
    }
  ],
  "metadata": {
    "colab": {
      "provenance": []
    },
    "kernelspec": {
      "display_name": "Python 3",
      "name": "python3"
    },
    "language_info": {
      "name": "python"
    }
  },
  "nbformat": 4,
  "nbformat_minor": 0
}
