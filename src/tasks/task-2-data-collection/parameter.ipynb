{
 "cells": [
  {
   "cell_type": "code",
   "execution_count": 2,
   "metadata": {},
   "outputs": [],
   "source": [
    "import ee, datetime\n",
    "import pandas as pd\n",
    "import numpy as np\n",
    "import folium\n",
    "\n",
    "import datetime as dt\n",
    "import IPython.display"
   ]
  },
  {
   "cell_type": "code",
   "execution_count": 3,
   "metadata": {},
   "outputs": [
    {
     "data": {
      "text/html": [
       "<p>To authorize access needed by Earth Engine, open the following\n",
       "        URL in a web browser and follow the instructions:</p>\n",
       "        <p><a href=https://code.earthengine.google.com/client-auth?scopes=https%3A//www.googleapis.com/auth/earthengine%20https%3A//www.googleapis.com/auth/devstorage.full_control&request_id=1hkSeq61ANuJPCUIIu4fCqwmE_WfypuAQgLaAkJKRyw&tc=OnGMV-RpuA31-YYD5SfegZj7mjzSnmtLrLl1gho3G-A&cc=D2IrHT5SsYEGyWiEpg1UG3Q1ESWu8zTkDPkkfIPFu3o>https://code.earthengine.google.com/client-auth?scopes=https%3A//www.googleapis.com/auth/earthengine%20https%3A//www.googleapis.com/auth/devstorage.full_control&request_id=1hkSeq61ANuJPCUIIu4fCqwmE_WfypuAQgLaAkJKRyw&tc=OnGMV-RpuA31-YYD5SfegZj7mjzSnmtLrLl1gho3G-A&cc=D2IrHT5SsYEGyWiEpg1UG3Q1ESWu8zTkDPkkfIPFu3o</a></p>\n",
       "        <p>The authorization workflow will generate a code, which you should paste in the box below.</p>\n",
       "        "
      ],
      "text/plain": [
       "<IPython.core.display.HTML object>"
      ]
     },
     "metadata": {},
     "output_type": "display_data"
    },
    {
     "name": "stdout",
     "output_type": "stream",
     "text": [
      "\n",
      "Successfully saved authorization token.\n"
     ]
    }
   ],
   "source": [
    "ee.Authenticate()\n",
    "ee.Initialize()"
   ]
  },
  {
   "cell_type": "code",
   "execution_count": 3,
   "metadata": {},
   "outputs": [],
   "source": [
    "lower = folium.Map(location=[23.248990359705306, 77.4063907856056], zoom_start=10)"
   ]
  },
  {
   "cell_type": "code",
   "execution_count": 4,
   "metadata": {},
   "outputs": [],
   "source": [
    "sentinel3 = ee.ImageCollection(\"COPERNICUS/S3/OLCI\").\\\n",
    "              filterDate(\"2020-01-01\",\"2021-01-01\")\n",
    "lower_AOI = ee.Geometry.Polygon([[77.40540829355803,23.250265289120904],[77.40497914011564,23.250107568377107],[77.40454998667326,23.24987098691169],[77.40394917185392,23.249397822721765],[77.40296211893644,23.249634405026583],[77.40188923533049,23.250068138162035],[77.40124550516691,23.25014699858056],[77.40030136759368,23.25006813816203],[77.39922848398771,23.250738450233026],[77.39828434641447,23.250975030159537],[77.3976406162509,23.25046243978831],[77.39802685434904,23.249910417185077],[77.39879933054533,23.249358392296827],[77.39957180674162,23.249042948477634],[77.40017262156096,23.248688073289212],[77.40068760569181,23.248490919998734],[77.40128842051116,23.248057181733795],[77.40214672739592,23.247584011108767],[77.40261879618254,23.247307994135603],[77.40334835703459,23.247071407703988],[77.40407791788664,23.2469136831831],[77.4051508014926,23.246598233581782],[77.40480747873869,23.245888469251092],[77.40429249460783,23.245415290932417],[77.40356293375578,23.245060406091877],[77.40274754221525,23.244390065483675],[77.40214672739592,23.244035177915574],[77.40150299723234,23.24344369653732],[77.40154591257658,23.242852212536526],[77.40227547342865,23.243049374161522],[77.40283337290373,23.243443696537323],[77.40334835703459,23.24360142516129],[77.40407791788664,23.24387744980447],[77.40472164805021,23.244390065483675],[77.40523663218109,23.244666088495027],[77.40588036234465,23.24490267919301],[77.40635243113127,23.24569131182231],[77.40738239939299,23.246203920530995],[77.40798321421232,23.246203920530995],[77.40849819834318,23.24608562638846],[77.40858402903166,23.247426287194042],[77.40901318247404,23.248214904902426],[77.40944233591642,23.248964087406257],[77.41000023539152,23.25006813816203],[77.41072979624357,23.250608695872465],[77.41012898142424,23.250805846032197],[77.41060105021086,23.25139729476258],[77.41111603434172,23.25171273301285],[77.4121030872592,23.251633873520237],[77.41287556345549,23.25151558419388],[77.41381970102873,23.251160715585222],[77.41377678568449,23.25147615439511],[77.41364803965178,23.252028170516947],[77.41326180155363,23.252580184353608],[77.4126609867343,23.252974478552105],[77.41177199151964,23.253329342333874],[77.41155741479845,23.25376306345126],[77.41108534601183,23.25407849610504],[77.41065619256945,23.25415735415188],[77.40958330896349,23.254630501453526],[77.4090254094884,23.25447278587288],[77.40889666345568,23.254196783157816],[77.40859625604601,23.253684205171215],[77.40812418725939,23.253171625214122],[77.40773794916124,23.252737902172907],[77.40726588037462,23.252383036817132],[77.40675089624376,23.25194931121088],[77.40615008142443,23.251633873520237],[77.40567801263781,23.251279005226362],[77.40584967401476,23.250529835726965],[77.40540829355803,23.250265289120904]])\n",
    "sentinel3_AOI = sentinel3.filterBounds(lower_AOI)"
   ]
  },
  {
   "cell_type": "code",
   "execution_count": 5,
   "metadata": {},
   "outputs": [
    {
     "name": "stdout",
     "output_type": "stream",
     "text": [
      "Total number of images : 383\n"
     ]
    }
   ],
   "source": [
    "print('Total number of images :', sentinel3_AOI.size().getInfo())"
   ]
  },
  {
   "cell_type": "code",
   "execution_count": 6,
   "metadata": {},
   "outputs": [],
   "source": [
    "def addDM(image):\n",
    "  rgb = image.select(['Oa08_radiance', 'Oa06_radiance', 'Oa04_radiance'])\\\n",
    "              .multiply(ee.Image([0.00876539, 0.0123538, 0.0115198]))\n",
    "  dm = rgb.select('Oa08_radiance').divide(rgb.select('Oa04_radiance')).rename('dom')\n",
    "  return image.addBands(dm)\n",
    "with_dm = sentinel3_AOI.map(addDM)"
   ]
  },
  {
   "cell_type": "code",
   "execution_count": 7,
   "metadata": {},
   "outputs": [],
   "source": [
    "def meanDM(image):\n",
    "  image = ee.Image(image)\n",
    "  mean = image.reduceRegion(reducer = ee.Reducer.mean().setOutputs(['dom']),\n",
    "                           geometry = lower_AOI,\n",
    "                           scale = image.projection().nominalScale().getInfo(),\n",
    "                           maxPixels = 100000,\n",
    "                           bestEffort = True);\n",
    "  return mean.get('dom').getInfo()"
   ]
  },
  {
   "cell_type": "code",
   "execution_count": 8,
   "metadata": {},
   "outputs": [],
   "source": [
    "Images_dm = with_dm.select('dom').toList(with_dm.size())\n",
    "dm_coll= []\n",
    "for i in range(Images_dm.length().getInfo()):\n",
    "  image = ee.Image(Images_dm.get(i-1))\n",
    "  temp_dm = meanDM(image)\n",
    "  dm_coll.append(temp_dm)"
   ]
  },
  {
   "cell_type": "code",
   "execution_count": 9,
   "metadata": {},
   "outputs": [],
   "source": [
    "dates = np.array(with_dm.aggregate_array(\"system:time_start\").getInfo())\n",
    "day = [datetime.datetime.fromtimestamp(i/1000).strftime('%Y-%m-%d') for i in (dates)]"
   ]
  },
  {
   "cell_type": "code",
   "execution_count": 10,
   "metadata": {},
   "outputs": [],
   "source": [
    "df6 = pd.DataFrame(dm_coll, index = day, columns = ['Dissolved Oxygen Matter'])\n",
    "df6.index = pd.to_datetime(df6.index, format=\"%Y/%m/%d\")\n",
    "df6.sort_index(ascending = True, inplace = True)"
   ]
  },
  {
   "cell_type": "code",
   "execution_count": 11,
   "metadata": {},
   "outputs": [
    {
     "data": {
      "text/html": [
       "<div>\n",
       "<style scoped>\n",
       "    .dataframe tbody tr th:only-of-type {\n",
       "        vertical-align: middle;\n",
       "    }\n",
       "\n",
       "    .dataframe tbody tr th {\n",
       "        vertical-align: top;\n",
       "    }\n",
       "\n",
       "    .dataframe thead th {\n",
       "        text-align: right;\n",
       "    }\n",
       "</style>\n",
       "<table border=\"1\" class=\"dataframe\">\n",
       "  <thead>\n",
       "    <tr style=\"text-align: right;\">\n",
       "      <th></th>\n",
       "      <th>Dissolved Oxygen Matter</th>\n",
       "    </tr>\n",
       "  </thead>\n",
       "  <tbody>\n",
       "    <tr>\n",
       "      <th>2020-01-01</th>\n",
       "      <td>0.463511</td>\n",
       "    </tr>\n",
       "    <tr>\n",
       "      <th>2020-01-01</th>\n",
       "      <td>0.409254</td>\n",
       "    </tr>\n",
       "    <tr>\n",
       "      <th>2020-01-02</th>\n",
       "      <td>0.623826</td>\n",
       "    </tr>\n",
       "    <tr>\n",
       "      <th>2020-01-04</th>\n",
       "      <td>0.566525</td>\n",
       "    </tr>\n",
       "    <tr>\n",
       "      <th>2020-01-05</th>\n",
       "      <td>0.609634</td>\n",
       "    </tr>\n",
       "    <tr>\n",
       "      <th>...</th>\n",
       "      <td>...</td>\n",
       "    </tr>\n",
       "    <tr>\n",
       "      <th>2020-12-27</th>\n",
       "      <td>NaN</td>\n",
       "    </tr>\n",
       "    <tr>\n",
       "      <th>2020-12-28</th>\n",
       "      <td>0.453555</td>\n",
       "    </tr>\n",
       "    <tr>\n",
       "      <th>2020-12-29</th>\n",
       "      <td>0.349837</td>\n",
       "    </tr>\n",
       "    <tr>\n",
       "      <th>2020-12-30</th>\n",
       "      <td>0.432094</td>\n",
       "    </tr>\n",
       "    <tr>\n",
       "      <th>2020-12-31</th>\n",
       "      <td>0.443204</td>\n",
       "    </tr>\n",
       "  </tbody>\n",
       "</table>\n",
       "<p>383 rows × 1 columns</p>\n",
       "</div>"
      ],
      "text/plain": [
       "            Dissolved Oxygen Matter\n",
       "2020-01-01                 0.463511\n",
       "2020-01-01                 0.409254\n",
       "2020-01-02                 0.623826\n",
       "2020-01-04                 0.566525\n",
       "2020-01-05                 0.609634\n",
       "...                             ...\n",
       "2020-12-27                      NaN\n",
       "2020-12-28                 0.453555\n",
       "2020-12-29                 0.349837\n",
       "2020-12-30                 0.432094\n",
       "2020-12-31                 0.443204\n",
       "\n",
       "[383 rows x 1 columns]"
      ]
     },
     "execution_count": 11,
     "metadata": {},
     "output_type": "execute_result"
    }
   ],
   "source": [
    "df6"
   ]
  },
  {
   "cell_type": "code",
   "execution_count": 13,
   "metadata": {},
   "outputs": [],
   "source": [
    "df6.to_csv('DOM.csv')"
   ]
  },
  {
   "cell_type": "code",
   "execution_count": 4,
   "metadata": {},
   "outputs": [],
   "source": [
    "sentinel3 = ee.ImageCollection(\"COPERNICUS/S3/OLCI\").\\\n",
    "              filterDate(\"2020-01-01\",\"2021-01-01\")\n",
    "lower_AOI = ee.Geometry.Polygon([[77.40540829355803,23.250265289120904],[77.40497914011564,23.250107568377107],[77.40454998667326,23.24987098691169],[77.40394917185392,23.249397822721765],[77.40296211893644,23.249634405026583],[77.40188923533049,23.250068138162035],[77.40124550516691,23.25014699858056],[77.40030136759368,23.25006813816203],[77.39922848398771,23.250738450233026],[77.39828434641447,23.250975030159537],[77.3976406162509,23.25046243978831],[77.39802685434904,23.249910417185077],[77.39879933054533,23.249358392296827],[77.39957180674162,23.249042948477634],[77.40017262156096,23.248688073289212],[77.40068760569181,23.248490919998734],[77.40128842051116,23.248057181733795],[77.40214672739592,23.247584011108767],[77.40261879618254,23.247307994135603],[77.40334835703459,23.247071407703988],[77.40407791788664,23.2469136831831],[77.4051508014926,23.246598233581782],[77.40480747873869,23.245888469251092],[77.40429249460783,23.245415290932417],[77.40356293375578,23.245060406091877],[77.40274754221525,23.244390065483675],[77.40214672739592,23.244035177915574],[77.40150299723234,23.24344369653732],[77.40154591257658,23.242852212536526],[77.40227547342865,23.243049374161522],[77.40283337290373,23.243443696537323],[77.40334835703459,23.24360142516129],[77.40407791788664,23.24387744980447],[77.40472164805021,23.244390065483675],[77.40523663218109,23.244666088495027],[77.40588036234465,23.24490267919301],[77.40635243113127,23.24569131182231],[77.40738239939299,23.246203920530995],[77.40798321421232,23.246203920530995],[77.40849819834318,23.24608562638846],[77.40858402903166,23.247426287194042],[77.40901318247404,23.248214904902426],[77.40944233591642,23.248964087406257],[77.41000023539152,23.25006813816203],[77.41072979624357,23.250608695872465],[77.41012898142424,23.250805846032197],[77.41060105021086,23.25139729476258],[77.41111603434172,23.25171273301285],[77.4121030872592,23.251633873520237],[77.41287556345549,23.25151558419388],[77.41381970102873,23.251160715585222],[77.41377678568449,23.25147615439511],[77.41364803965178,23.252028170516947],[77.41326180155363,23.252580184353608],[77.4126609867343,23.252974478552105],[77.41177199151964,23.253329342333874],[77.41155741479845,23.25376306345126],[77.41108534601183,23.25407849610504],[77.41065619256945,23.25415735415188],[77.40958330896349,23.254630501453526],[77.4090254094884,23.25447278587288],[77.40889666345568,23.254196783157816],[77.40859625604601,23.253684205171215],[77.40812418725939,23.253171625214122],[77.40773794916124,23.252737902172907],[77.40726588037462,23.252383036817132],[77.40675089624376,23.25194931121088],[77.40615008142443,23.251633873520237],[77.40567801263781,23.251279005226362],[77.40584967401476,23.250529835726965],[77.40540829355803,23.250265289120904]])\n",
    "sentinel3_AOI = sentinel3.filterBounds(lower_AOI)"
   ]
  },
  {
   "cell_type": "code",
   "execution_count": 5,
   "metadata": {},
   "outputs": [
    {
     "name": "stdout",
     "output_type": "stream",
     "text": [
      "Total number of images : 383\n"
     ]
    }
   ],
   "source": [
    "print('Total number of images :', sentinel3_AOI.size().getInfo())"
   ]
  },
  {
   "cell_type": "code",
   "execution_count": 16,
   "metadata": {},
   "outputs": [],
   "source": [
    "def addSM(image):\n",
    "  rgb = image.select(['Oa08_radiance', 'Oa06_radiance', 'Oa04_radiance'])\\\n",
    "              .multiply(ee.Image([0.00876539, 0.0123538, 0.0115198]))\n",
    "  suspended_matter = rgb.select('Oa08_radiance').divide(rgb.select('Oa06_radiance')).rename('suspended_matter')\n",
    "  return image.addBands(suspended_matter)\n",
    "with_sm = sentinel3_AOI.map(addSM)"
   ]
  },
  {
   "cell_type": "code",
   "execution_count": 17,
   "metadata": {},
   "outputs": [],
   "source": [
    "def meanSM(image):\n",
    "  image = ee.Image(image)\n",
    "  mean = image.reduceRegion(reducer = ee.Reducer.mean().setOutputs(['suspended_matter']),\n",
    "                           geometry = lower_AOI,\n",
    "                           scale = image.projection().nominalScale().getInfo(),\n",
    "                           maxPixels = 100000,\n",
    "                           bestEffort = True);\n",
    "  return mean.get('suspended_matter').getInfo()"
   ]
  },
  {
   "cell_type": "code",
   "execution_count": 18,
   "metadata": {},
   "outputs": [
    {
     "ename": "EEException",
     "evalue": "Computation timed out.",
     "output_type": "error",
     "traceback": [
      "\u001b[1;31m---------------------------------------------------------------------------\u001b[0m",
      "\u001b[1;31mHttpError\u001b[0m                                 Traceback (most recent call last)",
      "File \u001b[1;32mc:\\Users\\dhruv\\AppData\\Local\\Programs\\Python\\Python310\\lib\\site-packages\\ee\\data.py:329\u001b[0m, in \u001b[0;36m_execute_cloud_call\u001b[1;34m(call, num_retries)\u001b[0m\n\u001b[0;32m    328\u001b[0m \u001b[39mtry\u001b[39;00m:\n\u001b[1;32m--> 329\u001b[0m   \u001b[39mreturn\u001b[39;00m call\u001b[39m.\u001b[39;49mexecute(num_retries\u001b[39m=\u001b[39;49mnum_retries)\n\u001b[0;32m    330\u001b[0m \u001b[39mexcept\u001b[39;00m googleapiclient\u001b[39m.\u001b[39merrors\u001b[39m.\u001b[39mHttpError \u001b[39mas\u001b[39;00m e:\n",
      "File \u001b[1;32mc:\\Users\\dhruv\\AppData\\Local\\Programs\\Python\\Python310\\lib\\site-packages\\googleapiclient\\_helpers.py:130\u001b[0m, in \u001b[0;36mpositional.<locals>.positional_decorator.<locals>.positional_wrapper\u001b[1;34m(*args, **kwargs)\u001b[0m\n\u001b[0;32m    129\u001b[0m         logger\u001b[39m.\u001b[39mwarning(message)\n\u001b[1;32m--> 130\u001b[0m \u001b[39mreturn\u001b[39;00m wrapped(\u001b[39m*\u001b[39margs, \u001b[39m*\u001b[39m\u001b[39m*\u001b[39mkwargs)\n",
      "File \u001b[1;32mc:\\Users\\dhruv\\AppData\\Local\\Programs\\Python\\Python310\\lib\\site-packages\\googleapiclient\\http.py:938\u001b[0m, in \u001b[0;36mHttpRequest.execute\u001b[1;34m(self, http, num_retries)\u001b[0m\n\u001b[0;32m    937\u001b[0m \u001b[39mif\u001b[39;00m resp\u001b[39m.\u001b[39mstatus \u001b[39m>\u001b[39m\u001b[39m=\u001b[39m \u001b[39m300\u001b[39m:\n\u001b[1;32m--> 938\u001b[0m     \u001b[39mraise\u001b[39;00m HttpError(resp, content, uri\u001b[39m=\u001b[39m\u001b[39mself\u001b[39m\u001b[39m.\u001b[39muri)\n\u001b[0;32m    939\u001b[0m \u001b[39mreturn\u001b[39;00m \u001b[39mself\u001b[39m\u001b[39m.\u001b[39mpostproc(resp, content)\n",
      "\u001b[1;31mHttpError\u001b[0m: <HttpError 400 when requesting https://earthengine.googleapis.com/v1alpha/projects/earthengine-legacy/value:compute?prettyPrint=false&alt=json returned \"Computation timed out.\". Details: \"Computation timed out.\">",
      "\nDuring handling of the above exception, another exception occurred:\n",
      "\u001b[1;31mEEException\u001b[0m                               Traceback (most recent call last)",
      "\u001b[1;32mc:\\Users\\dhruv\\OneDrive\\Desktop\\work\\parameter.ipynb Cell 17\u001b[0m in \u001b[0;36m<module>\u001b[1;34m\u001b[0m\n\u001b[0;32m      <a href='vscode-notebook-cell:/c%3A/Users/dhruv/OneDrive/Desktop/work/parameter.ipynb#X22sZmlsZQ%3D%3D?line=2'>3</a>\u001b[0m \u001b[39mfor\u001b[39;00m i \u001b[39min\u001b[39;00m \u001b[39mrange\u001b[39m(Images_sm\u001b[39m.\u001b[39mlength()\u001b[39m.\u001b[39mgetInfo()):\n\u001b[0;32m      <a href='vscode-notebook-cell:/c%3A/Users/dhruv/OneDrive/Desktop/work/parameter.ipynb#X22sZmlsZQ%3D%3D?line=3'>4</a>\u001b[0m   image \u001b[39m=\u001b[39m ee\u001b[39m.\u001b[39mImage(Images_sm\u001b[39m.\u001b[39mget(i\u001b[39m-\u001b[39m\u001b[39m1\u001b[39m))\n\u001b[1;32m----> <a href='vscode-notebook-cell:/c%3A/Users/dhruv/OneDrive/Desktop/work/parameter.ipynb#X22sZmlsZQ%3D%3D?line=4'>5</a>\u001b[0m   temp_sm \u001b[39m=\u001b[39m meanSM(image)\n\u001b[0;32m      <a href='vscode-notebook-cell:/c%3A/Users/dhruv/OneDrive/Desktop/work/parameter.ipynb#X22sZmlsZQ%3D%3D?line=5'>6</a>\u001b[0m   sm_coll\u001b[39m.\u001b[39mappend(temp_sm)\n",
      "\u001b[1;32mc:\\Users\\dhruv\\OneDrive\\Desktop\\work\\parameter.ipynb Cell 17\u001b[0m in \u001b[0;36mmeanSM\u001b[1;34m(image)\u001b[0m\n\u001b[0;32m      <a href='vscode-notebook-cell:/c%3A/Users/dhruv/OneDrive/Desktop/work/parameter.ipynb#X22sZmlsZQ%3D%3D?line=1'>2</a>\u001b[0m image \u001b[39m=\u001b[39m ee\u001b[39m.\u001b[39mImage(image)\n\u001b[0;32m      <a href='vscode-notebook-cell:/c%3A/Users/dhruv/OneDrive/Desktop/work/parameter.ipynb#X22sZmlsZQ%3D%3D?line=2'>3</a>\u001b[0m mean \u001b[39m=\u001b[39m image\u001b[39m.\u001b[39mreduceRegion(reducer \u001b[39m=\u001b[39m ee\u001b[39m.\u001b[39mReducer\u001b[39m.\u001b[39mmean()\u001b[39m.\u001b[39msetOutputs([\u001b[39m'\u001b[39m\u001b[39msuspended_matter\u001b[39m\u001b[39m'\u001b[39m]),\n\u001b[0;32m      <a href='vscode-notebook-cell:/c%3A/Users/dhruv/OneDrive/Desktop/work/parameter.ipynb#X22sZmlsZQ%3D%3D?line=3'>4</a>\u001b[0m                          geometry \u001b[39m=\u001b[39m lower_AOI,\n\u001b[0;32m      <a href='vscode-notebook-cell:/c%3A/Users/dhruv/OneDrive/Desktop/work/parameter.ipynb#X22sZmlsZQ%3D%3D?line=4'>5</a>\u001b[0m                          scale \u001b[39m=\u001b[39m image\u001b[39m.\u001b[39mprojection()\u001b[39m.\u001b[39mnominalScale()\u001b[39m.\u001b[39mgetInfo(),\n\u001b[0;32m      <a href='vscode-notebook-cell:/c%3A/Users/dhruv/OneDrive/Desktop/work/parameter.ipynb#X22sZmlsZQ%3D%3D?line=5'>6</a>\u001b[0m                          maxPixels \u001b[39m=\u001b[39m \u001b[39m100000\u001b[39m,\n\u001b[0;32m      <a href='vscode-notebook-cell:/c%3A/Users/dhruv/OneDrive/Desktop/work/parameter.ipynb#X22sZmlsZQ%3D%3D?line=6'>7</a>\u001b[0m                          bestEffort \u001b[39m=\u001b[39m \u001b[39mTrue\u001b[39;00m);\n\u001b[1;32m----> <a href='vscode-notebook-cell:/c%3A/Users/dhruv/OneDrive/Desktop/work/parameter.ipynb#X22sZmlsZQ%3D%3D?line=7'>8</a>\u001b[0m \u001b[39mreturn\u001b[39;00m mean\u001b[39m.\u001b[39;49mget(\u001b[39m'\u001b[39;49m\u001b[39msuspended_matter\u001b[39;49m\u001b[39m'\u001b[39;49m)\u001b[39m.\u001b[39;49mgetInfo()\n",
      "File \u001b[1;32mc:\\Users\\dhruv\\AppData\\Local\\Programs\\Python\\Python310\\lib\\site-packages\\ee\\computedobject.py:96\u001b[0m, in \u001b[0;36mComputedObject.getInfo\u001b[1;34m(self)\u001b[0m\n\u001b[0;32m     90\u001b[0m \u001b[39mdef\u001b[39;00m \u001b[39mgetInfo\u001b[39m(\u001b[39mself\u001b[39m):\n\u001b[0;32m     91\u001b[0m \u001b[39m  \u001b[39m\u001b[39m\"\"\"Fetch and return information about this object.\u001b[39;00m\n\u001b[0;32m     92\u001b[0m \n\u001b[0;32m     93\u001b[0m \u001b[39m  Returns:\u001b[39;00m\n\u001b[0;32m     94\u001b[0m \u001b[39m    The object can evaluate to anything.\u001b[39;00m\n\u001b[0;32m     95\u001b[0m \u001b[39m  \"\"\"\u001b[39;00m\n\u001b[1;32m---> 96\u001b[0m   \u001b[39mreturn\u001b[39;00m data\u001b[39m.\u001b[39;49mcomputeValue(\u001b[39mself\u001b[39;49m)\n",
      "File \u001b[1;32mc:\\Users\\dhruv\\AppData\\Local\\Programs\\Python\\Python310\\lib\\site-packages\\ee\\data.py:898\u001b[0m, in \u001b[0;36mcomputeValue\u001b[1;34m(obj)\u001b[0m\n\u001b[0;32m    895\u001b[0m body \u001b[39m=\u001b[39m {\u001b[39m'\u001b[39m\u001b[39mexpression\u001b[39m\u001b[39m'\u001b[39m: serializer\u001b[39m.\u001b[39mencode(obj, for_cloud_api\u001b[39m=\u001b[39m\u001b[39mTrue\u001b[39;00m)}\n\u001b[0;32m    896\u001b[0m _maybe_populate_workload_tag(body)\n\u001b[1;32m--> 898\u001b[0m \u001b[39mreturn\u001b[39;00m _execute_cloud_call(\n\u001b[0;32m    899\u001b[0m     _get_cloud_api_resource()\u001b[39m.\u001b[39;49mprojects()\u001b[39m.\u001b[39;49mvalue()\u001b[39m.\u001b[39;49mcompute(\n\u001b[0;32m    900\u001b[0m         body\u001b[39m=\u001b[39;49mbody,\n\u001b[0;32m    901\u001b[0m         project\u001b[39m=\u001b[39;49m_get_projects_path(),\n\u001b[0;32m    902\u001b[0m         prettyPrint\u001b[39m=\u001b[39;49m\u001b[39mFalse\u001b[39;49;00m))[\u001b[39m'\u001b[39m\u001b[39mresult\u001b[39m\u001b[39m'\u001b[39m]\n",
      "File \u001b[1;32mc:\\Users\\dhruv\\AppData\\Local\\Programs\\Python\\Python310\\lib\\site-packages\\ee\\data.py:331\u001b[0m, in \u001b[0;36m_execute_cloud_call\u001b[1;34m(call, num_retries)\u001b[0m\n\u001b[0;32m    329\u001b[0m   \u001b[39mreturn\u001b[39;00m call\u001b[39m.\u001b[39mexecute(num_retries\u001b[39m=\u001b[39mnum_retries)\n\u001b[0;32m    330\u001b[0m \u001b[39mexcept\u001b[39;00m googleapiclient\u001b[39m.\u001b[39merrors\u001b[39m.\u001b[39mHttpError \u001b[39mas\u001b[39;00m e:\n\u001b[1;32m--> 331\u001b[0m   \u001b[39mraise\u001b[39;00m _translate_cloud_exception(e)\n",
      "\u001b[1;31mEEException\u001b[0m: Computation timed out."
     ]
    }
   ],
   "source": [
    "Images_sm = with_sm.select('suspended_matter').toList(with_sm.size())\n",
    "sm_coll= []\n",
    "for i in range(Images_sm.length().getInfo()):\n",
    "  image = ee.Image(Images_sm.get(i-1))\n",
    "  temp_sm = meanSM(image)\n",
    "  sm_coll.append(temp_sm)"
   ]
  },
  {
   "cell_type": "code",
   "execution_count": null,
   "metadata": {},
   "outputs": [],
   "source": [
    "dates = np.array(with_sm.aggregate_array(\"system:time_start\").getInfo())\n",
    "day = [datetime.datetime.fromtimestamp(i/1000).strftime('%Y-%m-%d') for i in (dates)]"
   ]
  },
  {
   "cell_type": "code",
   "execution_count": null,
   "metadata": {},
   "outputs": [],
   "source": [
    "df7 = pd.DataFrame(sm_coll, index = day, columns = ['Suspended Matter'])\n",
    "df7.index = pd.to_datetime(df7.index, format=\"%Y/%m/%d\")\n",
    "df7.sort_index(ascending = True, inplace = True)"
   ]
  },
  {
   "cell_type": "code",
   "execution_count": null,
   "metadata": {},
   "outputs": [],
   "source": [
    "df7"
   ]
  },
  {
   "cell_type": "code",
   "execution_count": null,
   "metadata": {},
   "outputs": [],
   "source": [
    "df7.to_csv('SM.csv')"
   ]
  }
 ],
 "metadata": {
  "kernelspec": {
   "display_name": "Python 3",
   "language": "python",
   "name": "python3"
  },
  "language_info": {
   "codemirror_mode": {
    "name": "ipython",
    "version": 3
   },
   "file_extension": ".py",
   "mimetype": "text/x-python",
   "name": "python",
   "nbconvert_exporter": "python",
   "pygments_lexer": "ipython3",
   "version": "3.10.5"
  },
  "orig_nbformat": 4
 },
 "nbformat": 4,
 "nbformat_minor": 2
}
