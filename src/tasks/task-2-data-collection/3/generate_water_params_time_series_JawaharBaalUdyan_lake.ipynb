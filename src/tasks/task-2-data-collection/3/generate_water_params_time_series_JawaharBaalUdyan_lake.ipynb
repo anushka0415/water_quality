{
 "cells": [
  {
   "cell_type": "code",
   "execution_count": 1,
   "id": "ad2d48a1",
   "metadata": {},
   "outputs": [],
   "source": [
    "import ee, datetime\n",
    "import pandas as pd\n",
    "import numpy as np\n",
    "import folium\n",
    "import geehydro\n",
    "import datetime as dt\n",
    "import IPython.display"
   ]
  },
  {
   "cell_type": "code",
   "execution_count": 2,
   "id": "b7fd31d9",
   "metadata": {},
   "outputs": [
    {
     "data": {
      "text/html": [
       "<p>To authorize access needed by Earth Engine, open the following\n",
       "        URL in a web browser and follow the instructions:</p>\n",
       "        <p><a href=https://code.earthengine.google.com/client-auth?scopes=https%3A//www.googleapis.com/auth/earthengine%20https%3A//www.googleapis.com/auth/devstorage.full_control&request_id=pk-DIeID0cUadUHEDaMKUSUrZ-6a3GxT53XRDg2IjjY&tc=yEw61vrWkK9yhAx9EppcZI3bQV0QPzZINOgCIPA2dqI&cc=Zn4OHhB5QzGjieuSDkreS_9MffWCc556r1ur5sTlAu4>https://code.earthengine.google.com/client-auth?scopes=https%3A//www.googleapis.com/auth/earthengine%20https%3A//www.googleapis.com/auth/devstorage.full_control&request_id=pk-DIeID0cUadUHEDaMKUSUrZ-6a3GxT53XRDg2IjjY&tc=yEw61vrWkK9yhAx9EppcZI3bQV0QPzZINOgCIPA2dqI&cc=Zn4OHhB5QzGjieuSDkreS_9MffWCc556r1ur5sTlAu4</a></p>\n",
       "        <p>The authorization workflow will generate a code, which you should paste in the box below.</p>\n",
       "        "
      ],
      "text/plain": [
       "<IPython.core.display.HTML object>"
      ]
     },
     "metadata": {},
     "output_type": "display_data"
    },
    {
     "name": "stdout",
     "output_type": "stream",
     "text": [
      "Enter verification code: 4/1AWtgzh6XksAw0BuwxLn7pdL5Tfsa0V71eFYdc3z3nc5CPVsSwsFRZgk4r5w\n",
      "\n",
      "Successfully saved authorization token.\n"
     ]
    }
   ],
   "source": [
    "ee.Authenticate()\n",
    "ee.Initialize()"
   ]
  },
  {
   "cell_type": "markdown",
   "id": "ca5d5e5d",
   "metadata": {},
   "source": [
    "# Selecting the area of interest( Jawahar Baal udyan lake)"
   ]
  },
  {
   "cell_type": "code",
   "execution_count": 3,
   "id": "85d567e4",
   "metadata": {},
   "outputs": [],
   "source": [
    "BaalUdyan = folium.Map(location=[23.22515766027653,77.42043846354407], zoom_start=10)\n"
   ]
  },
  {
   "cell_type": "code",
   "execution_count": 4,
   "id": "cee32b12",
   "metadata": {},
   "outputs": [
    {
     "data": {
      "text/html": [
       "<div style=\"width:100%;\"><div style=\"position:relative;width:100%;height:0;padding-bottom:60%;\"><span style=\"color:#565656\">Make this Notebook Trusted to load map: File -> Trust Notebook</span><iframe srcdoc=\"&lt;!DOCTYPE html&gt;\n",
       "&lt;html&gt;\n",
       "&lt;head&gt;\n",
       "    \n",
       "    &lt;meta http-equiv=&quot;content-type&quot; content=&quot;text/html; charset=UTF-8&quot; /&gt;\n",
       "    \n",
       "        &lt;script&gt;\n",
       "            L_NO_TOUCH = false;\n",
       "            L_DISABLE_3D = false;\n",
       "        &lt;/script&gt;\n",
       "    \n",
       "    &lt;style&gt;html, body {width: 100%;height: 100%;margin: 0;padding: 0;}&lt;/style&gt;\n",
       "    &lt;style&gt;#map {position:absolute;top:0;bottom:0;right:0;left:0;}&lt;/style&gt;\n",
       "    &lt;script src=&quot;https://cdn.jsdelivr.net/npm/leaflet@1.9.3/dist/leaflet.js&quot;&gt;&lt;/script&gt;\n",
       "    &lt;script src=&quot;https://code.jquery.com/jquery-1.12.4.min.js&quot;&gt;&lt;/script&gt;\n",
       "    &lt;script src=&quot;https://cdn.jsdelivr.net/npm/bootstrap@5.2.2/dist/js/bootstrap.bundle.min.js&quot;&gt;&lt;/script&gt;\n",
       "    &lt;script src=&quot;https://cdnjs.cloudflare.com/ajax/libs/Leaflet.awesome-markers/2.0.2/leaflet.awesome-markers.js&quot;&gt;&lt;/script&gt;\n",
       "    &lt;link rel=&quot;stylesheet&quot; href=&quot;https://cdn.jsdelivr.net/npm/leaflet@1.9.3/dist/leaflet.css&quot;/&gt;\n",
       "    &lt;link rel=&quot;stylesheet&quot; href=&quot;https://cdn.jsdelivr.net/npm/bootstrap@5.2.2/dist/css/bootstrap.min.css&quot;/&gt;\n",
       "    &lt;link rel=&quot;stylesheet&quot; href=&quot;https://netdna.bootstrapcdn.com/bootstrap/3.0.0/css/bootstrap.min.css&quot;/&gt;\n",
       "    &lt;link rel=&quot;stylesheet&quot; href=&quot;https://cdn.jsdelivr.net/npm/@fortawesome/fontawesome-free@6.2.0/css/all.min.css&quot;/&gt;\n",
       "    &lt;link rel=&quot;stylesheet&quot; href=&quot;https://cdnjs.cloudflare.com/ajax/libs/Leaflet.awesome-markers/2.0.2/leaflet.awesome-markers.css&quot;/&gt;\n",
       "    &lt;link rel=&quot;stylesheet&quot; href=&quot;https://cdn.jsdelivr.net/gh/python-visualization/folium/folium/templates/leaflet.awesome.rotate.min.css&quot;/&gt;\n",
       "    \n",
       "            &lt;meta name=&quot;viewport&quot; content=&quot;width=device-width,\n",
       "                initial-scale=1.0, maximum-scale=1.0, user-scalable=no&quot; /&gt;\n",
       "            &lt;style&gt;\n",
       "                #map_05b46711777f82adbd50c8596bc4d225 {\n",
       "                    position: relative;\n",
       "                    width: 100.0%;\n",
       "                    height: 100.0%;\n",
       "                    left: 0.0%;\n",
       "                    top: 0.0%;\n",
       "                }\n",
       "                .leaflet-container { font-size: 1rem; }\n",
       "            &lt;/style&gt;\n",
       "        \n",
       "&lt;/head&gt;\n",
       "&lt;body&gt;\n",
       "    \n",
       "    \n",
       "            &lt;div class=&quot;folium-map&quot; id=&quot;map_05b46711777f82adbd50c8596bc4d225&quot; &gt;&lt;/div&gt;\n",
       "        \n",
       "&lt;/body&gt;\n",
       "&lt;script&gt;\n",
       "    \n",
       "    \n",
       "            var map_05b46711777f82adbd50c8596bc4d225 = L.map(\n",
       "                &quot;map_05b46711777f82adbd50c8596bc4d225&quot;,\n",
       "                {\n",
       "                    center: [23.22515766027653, 77.42043846354407],\n",
       "                    crs: L.CRS.EPSG3857,\n",
       "                    zoom: 10,\n",
       "                    zoomControl: true,\n",
       "                    preferCanvas: false,\n",
       "                }\n",
       "            );\n",
       "\n",
       "            \n",
       "\n",
       "        \n",
       "    \n",
       "            var tile_layer_ae410cd546e860617cdf620165726219 = L.tileLayer(\n",
       "                &quot;https://{s}.tile.openstreetmap.org/{z}/{x}/{y}.png&quot;,\n",
       "                {&quot;attribution&quot;: &quot;Data by \\u0026copy; \\u003ca target=\\&quot;_blank\\&quot; href=\\&quot;http://openstreetmap.org\\&quot;\\u003eOpenStreetMap\\u003c/a\\u003e, under \\u003ca target=\\&quot;_blank\\&quot; href=\\&quot;http://www.openstreetmap.org/copyright\\&quot;\\u003eODbL\\u003c/a\\u003e.&quot;, &quot;detectRetina&quot;: false, &quot;maxNativeZoom&quot;: 18, &quot;maxZoom&quot;: 18, &quot;minZoom&quot;: 0, &quot;noWrap&quot;: false, &quot;opacity&quot;: 1, &quot;subdomains&quot;: &quot;abc&quot;, &quot;tms&quot;: false}\n",
       "            ).addTo(map_05b46711777f82adbd50c8596bc4d225);\n",
       "        \n",
       "&lt;/script&gt;\n",
       "&lt;/html&gt;\" style=\"position:absolute;width:100%;height:100%;left:0;top:0;border:none !important;\" allowfullscreen webkitallowfullscreen mozallowfullscreen></iframe></div></div>"
      ],
      "text/plain": [
       "<folium.folium.Map at 0x283137dab30>"
      ]
     },
     "execution_count": 4,
     "metadata": {},
     "output_type": "execute_result"
    }
   ],
   "source": [
    "BaalUdyan"
   ]
  },
  {
   "cell_type": "markdown",
   "id": "4a62b109",
   "metadata": {},
   "source": [
    "## selecting the Satellite and AOI"
   ]
  },
  {
   "cell_type": "code",
   "execution_count": 84,
   "id": "9131be5c",
   "metadata": {},
   "outputs": [],
   "source": [
    "sentinel = ee.ImageCollection(\"COPERNICUS/S2_SR\").\\\n",
    "               filter(ee.Filter.lt('CLOUDY_PIXEL_PERCENTAGE',20)).\\\n",
    "               filterDate(\"2015-01-01\",\"2023-01-01\")\n",
    "BaalUdyan_AOI = ee.Geometry.Polygon([[77.42043846354407, 23.22515766027653],\n",
    "          [77.42101245627326, 23.22513301178521],\n",
    "          [77.4216132710926, 23.22511822268824],\n",
    "          [77.42178493246955, 23.225063995985327],\n",
    "          [77.42195122942847, 23.225197097853158],\n",
    "          [77.4222087214939, 23.225571754250232],\n",
    "          [77.42219799265784, 23.225847816185897],\n",
    "          [77.4218493054859, 23.22590697224071],\n",
    "          [77.42164009318275, 23.22578866010488],\n",
    "          [77.42118948206824, 23.225857675530182],\n",
    "          [77.42111974463386, 23.225660488506094],\n",
    "          [77.42067449793738, 23.22557668393267],\n",
    "          [77.42043309912604, 23.22563091042737],\n",
    "          [77.42034190401954, 23.225768941405384],\n",
    "          [77.42017560706061, 23.22578866010488],\n",
    "          [77.42002540335578, 23.225625980746948],\n",
    "          [77.41987519965095, 23.22542386369278],\n",
    "          [77.41981619105262, 23.22522174633265]])\n",
    "\n",
    "sentinel_AOI = sentinel.filterBounds(BaalUdyan_AOI)\n",
    "               "
   ]
  },
  {
   "cell_type": "markdown",
   "id": "2072c060",
   "metadata": {},
   "source": [
    "## Taking the total number of image collection"
   ]
  },
  {
   "cell_type": "code",
   "execution_count": 85,
   "id": "09c9b1e4",
   "metadata": {},
   "outputs": [
    {
     "name": "stdout",
     "output_type": "stream",
     "text": [
      "Total number of images : 166\n"
     ]
    }
   ],
   "source": [
    "print('Total number of images :', sentinel_AOI.size().getInfo())"
   ]
  },
  {
   "cell_type": "markdown",
   "id": "4d260638",
   "metadata": {},
   "source": [
    "## NDCI calculation"
   ]
  },
  {
   "cell_type": "code",
   "execution_count": 86,
   "id": "126b82ac",
   "metadata": {},
   "outputs": [],
   "source": [
    "def addNDCI(image):\n",
    "  ndci = image.normalizedDifference(['B5', 'B4']).rename('NDCI')\n",
    "  return image.addBands(ndci)\n",
    "with_ndci = sentinel_AOI.map(addNDCI)  "
   ]
  },
  {
   "cell_type": "code",
   "execution_count": 87,
   "id": "8dbfe456",
   "metadata": {},
   "outputs": [],
   "source": [
    "#Calculating the Average NDCI on every image in the image collection\n",
    "def meanNDCI(image):\n",
    "  image = ee.Image(image)\n",
    "  mean = image.reduceRegion(reducer = ee.Reducer.mean().setOutputs(['NDCI']),\n",
    "                           geometry = BaalUdyan_AOI,\n",
    "                           scale = image.projection().nominalScale().getInfo(),\n",
    "                           maxPixels = 100000,\n",
    "                           bestEffort = True);\n",
    "  return mean.get('NDCI').getInfo()"
   ]
  },
  {
   "cell_type": "code",
   "execution_count": 88,
   "id": "bd6dd9ff",
   "metadata": {},
   "outputs": [],
   "source": [
    "Images_ndci = with_ndci.select('NDCI').toList(with_ndci.size())\n",
    "ndci_coll = []\n",
    "for i in range(Images_ndci.length().getInfo()):\n",
    "  image = ee.Image(Images_ndci.get(i-1))\n",
    "  temp_ndci = meanNDCI(image)\n",
    "  ndci_coll.append(temp_ndci)"
   ]
  },
  {
   "cell_type": "code",
   "execution_count": 89,
   "id": "e761a42a",
   "metadata": {},
   "outputs": [],
   "source": [
    "#Getting Dates from the Image Collection\n",
    "dates = np.array(with_ndci.aggregate_array(\"system:time_start\").getInfo())\n",
    "day = [datetime.datetime.fromtimestamp(i/1000).strftime('%Y-%m-%d') for i in (dates)]"
   ]
  },
  {
   "cell_type": "code",
   "execution_count": 90,
   "id": "f3871a4c",
   "metadata": {},
   "outputs": [],
   "source": [
    "#Creating the Dataframe\n",
    "df = pd.DataFrame(ndci_coll, index = day, columns = ['Chlorophyll'])\n",
    "df.index = pd.to_datetime(df.index, format=\"%Y/%m/%d\")\n",
    "df.sort_index(ascending = True, inplace = True)"
   ]
  },
  {
   "cell_type": "code",
   "execution_count": 91,
   "id": "fb17d0c0",
   "metadata": {},
   "outputs": [
    {
     "data": {
      "text/html": [
       "<div>\n",
       "<style scoped>\n",
       "    .dataframe tbody tr th:only-of-type {\n",
       "        vertical-align: middle;\n",
       "    }\n",
       "\n",
       "    .dataframe tbody tr th {\n",
       "        vertical-align: top;\n",
       "    }\n",
       "\n",
       "    .dataframe thead th {\n",
       "        text-align: right;\n",
       "    }\n",
       "</style>\n",
       "<table border=\"1\" class=\"dataframe\">\n",
       "  <thead>\n",
       "    <tr style=\"text-align: right;\">\n",
       "      <th></th>\n",
       "      <th>Chlorophyll</th>\n",
       "    </tr>\n",
       "  </thead>\n",
       "  <tbody>\n",
       "    <tr>\n",
       "      <th>2018-12-18</th>\n",
       "      <td>0.064065</td>\n",
       "    </tr>\n",
       "    <tr>\n",
       "      <th>2018-12-23</th>\n",
       "      <td>0.118367</td>\n",
       "    </tr>\n",
       "    <tr>\n",
       "      <th>2018-12-28</th>\n",
       "      <td>0.177255</td>\n",
       "    </tr>\n",
       "    <tr>\n",
       "      <th>2019-01-02</th>\n",
       "      <td>0.125160</td>\n",
       "    </tr>\n",
       "    <tr>\n",
       "      <th>2019-01-07</th>\n",
       "      <td>0.168860</td>\n",
       "    </tr>\n",
       "    <tr>\n",
       "      <th>...</th>\n",
       "      <td>...</td>\n",
       "    </tr>\n",
       "    <tr>\n",
       "      <th>2022-12-02</th>\n",
       "      <td>0.065731</td>\n",
       "    </tr>\n",
       "    <tr>\n",
       "      <th>2022-12-07</th>\n",
       "      <td>0.057018</td>\n",
       "    </tr>\n",
       "    <tr>\n",
       "      <th>2022-12-17</th>\n",
       "      <td>0.065011</td>\n",
       "    </tr>\n",
       "    <tr>\n",
       "      <th>2022-12-22</th>\n",
       "      <td>0.064929</td>\n",
       "    </tr>\n",
       "    <tr>\n",
       "      <th>2022-12-27</th>\n",
       "      <td>0.062633</td>\n",
       "    </tr>\n",
       "  </tbody>\n",
       "</table>\n",
       "<p>166 rows × 1 columns</p>\n",
       "</div>"
      ],
      "text/plain": [
       "            Chlorophyll\n",
       "2018-12-18     0.064065\n",
       "2018-12-23     0.118367\n",
       "2018-12-28     0.177255\n",
       "2019-01-02     0.125160\n",
       "2019-01-07     0.168860\n",
       "...                 ...\n",
       "2022-12-02     0.065731\n",
       "2022-12-07     0.057018\n",
       "2022-12-17     0.065011\n",
       "2022-12-22     0.064929\n",
       "2022-12-27     0.062633\n",
       "\n",
       "[166 rows x 1 columns]"
      ]
     },
     "execution_count": 91,
     "metadata": {},
     "output_type": "execute_result"
    }
   ],
   "source": [
    "df"
   ]
  },
  {
   "cell_type": "code",
   "execution_count": 33,
   "id": "3c82acd7",
   "metadata": {},
   "outputs": [
    {
     "data": {
      "image/png": "[encoded data removed]",
      "text/plain": [
       "<Figure size 640x480 with 1 Axes>"
      ]
     },
     "metadata": {},
     "output_type": "display_data"
    }
   ],
   "source": [
    "import matplotlib.pyplot as plt\n",
    "\n",
    "# Plotting the Chlorophyll values over time\n",
    "plt.plot(df.index, df['Chlorophyll'])\n",
    "\n",
    "# Adding labels and title\n",
    "plt.xlabel('Date')\n",
    "plt.ylabel('Chlorophyll')\n",
    "plt.title('Chlorophyll values over time')\n",
    "\n",
    "# Show the plot\n",
    "plt.show()"
   ]
  },
  {
   "cell_type": "markdown",
   "id": "43cdabe6",
   "metadata": {},
   "source": [
    "## Converting it to csv file format "
   ]
  },
  {
   "cell_type": "code",
   "execution_count": 20,
   "id": "7672e320",
   "metadata": {},
   "outputs": [],
   "source": [
    "df.to_csv('Chlorophyll.csv')"
   ]
  },
  {
   "cell_type": "code",
   "execution_count": 21,
   "id": "f5a7da45",
   "metadata": {},
   "outputs": [
    {
     "data": {
      "text/html": [
       "<a href='Chlorophyll.csv' target='_blank'>Chlorophyll.csv</a><br>"
      ],
      "text/plain": [
       "C:\\Users\\HP\\Desktop\\Omdena\\Chlorophyll.csv"
      ]
     },
     "execution_count": 21,
     "metadata": {},
     "output_type": "execute_result"
    }
   ],
   "source": [
    "from IPython.display import FileLink\n",
    "FileLink('Chlorophyll.csv')\n"
   ]
  },
  {
   "cell_type": "markdown",
   "id": "c65df2c9",
   "metadata": {},
   "source": [
    "## NDTI Calculation "
   ]
  },
  {
   "cell_type": "code",
   "execution_count": 22,
   "id": "00092045",
   "metadata": {},
   "outputs": [],
   "source": [
    "def addNDTI(image):\n",
    "  ndti = image.normalizedDifference(['B4', 'B3']).rename('NDTI')\n",
    "  return image.addBands(ndti)\n",
    "with_ndti = sentinel_AOI.map(addNDTI)"
   ]
  },
  {
   "cell_type": "code",
   "execution_count": 23,
   "id": "07d2411c",
   "metadata": {},
   "outputs": [],
   "source": [
    "#Calculating the Average NDTI on every image in the image collection\n",
    "def meanNDTI(image):\n",
    "  image = ee.Image(image)\n",
    "  mean = image.reduceRegion(reducer = ee.Reducer.mean().setOutputs(['NDTI']),\n",
    "                           geometry = BaalUdyan_AOI,\n",
    "                           scale = image.projection().nominalScale().getInfo(),\n",
    "                           maxPixels = 100000,\n",
    "                           bestEffort = True);\n",
    "  return mean.get('NDTI').getInfo()"
   ]
  },
  {
   "cell_type": "code",
   "execution_count": 24,
   "id": "56214c43",
   "metadata": {},
   "outputs": [],
   "source": [
    "Images_ndti = with_ndti.select('NDTI').toList(with_ndti.size())\n",
    "ndti_coll = []\n",
    "for i in range(Images_ndti.length().getInfo()):\n",
    "  image = ee.Image(Images_ndti.get(i-1))\n",
    "  temp_ndti = meanNDTI(image)\n",
    "  ndti_coll.append(temp_ndti)"
   ]
  },
  {
   "cell_type": "code",
   "execution_count": 25,
   "id": "61bbd4ab",
   "metadata": {},
   "outputs": [],
   "source": [
    "#Getting Dates from the Image Collection\n",
    "dates = np.array(with_ndti.aggregate_array(\"system:time_start\").getInfo())\n",
    "day = [datetime.datetime.fromtimestamp(i/1000).strftime('%Y-%m-%d') for i in (dates)]"
   ]
  },
  {
   "cell_type": "code",
   "execution_count": 26,
   "id": "ff8a9e97",
   "metadata": {},
   "outputs": [],
   "source": [
    "#Creating the Dataframe\n",
    "df1 = pd.DataFrame(ndti_coll, index = day, columns = ['Turbidity'])\n",
    "df1.index = pd.to_datetime(df1.index, format=\"%Y/%m/%d\")\n",
    "df1.sort_index(ascending = True, inplace = True)"
   ]
  },
  {
   "cell_type": "code",
   "execution_count": 34,
   "id": "76031df6",
   "metadata": {},
   "outputs": [
    {
     "data": {
      "text/html": [
       "<div>\n",
       "<style scoped>\n",
       "    .dataframe tbody tr th:only-of-type {\n",
       "        vertical-align: middle;\n",
       "    }\n",
       "\n",
       "    .dataframe tbody tr th {\n",
       "        vertical-align: top;\n",
       "    }\n",
       "\n",
       "    .dataframe thead th {\n",
       "        text-align: right;\n",
       "    }\n",
       "</style>\n",
       "<table border=\"1\" class=\"dataframe\">\n",
       "  <thead>\n",
       "    <tr style=\"text-align: right;\">\n",
       "      <th></th>\n",
       "      <th>Turbidity</th>\n",
       "    </tr>\n",
       "  </thead>\n",
       "  <tbody>\n",
       "    <tr>\n",
       "      <th>2018-12-18</th>\n",
       "      <td>-0.012822</td>\n",
       "    </tr>\n",
       "    <tr>\n",
       "      <th>2018-12-23</th>\n",
       "      <td>-0.124983</td>\n",
       "    </tr>\n",
       "    <tr>\n",
       "      <th>2018-12-28</th>\n",
       "      <td>-0.132007</td>\n",
       "    </tr>\n",
       "    <tr>\n",
       "      <th>2019-01-02</th>\n",
       "      <td>-0.115318</td>\n",
       "    </tr>\n",
       "    <tr>\n",
       "      <th>2019-01-07</th>\n",
       "      <td>-0.135276</td>\n",
       "    </tr>\n",
       "    <tr>\n",
       "      <th>...</th>\n",
       "      <td>...</td>\n",
       "    </tr>\n",
       "    <tr>\n",
       "      <th>2022-12-02</th>\n",
       "      <td>-0.027292</td>\n",
       "    </tr>\n",
       "    <tr>\n",
       "      <th>2022-12-07</th>\n",
       "      <td>-0.030176</td>\n",
       "    </tr>\n",
       "    <tr>\n",
       "      <th>2022-12-17</th>\n",
       "      <td>-0.019145</td>\n",
       "    </tr>\n",
       "    <tr>\n",
       "      <th>2022-12-22</th>\n",
       "      <td>-0.022120</td>\n",
       "    </tr>\n",
       "    <tr>\n",
       "      <th>2022-12-27</th>\n",
       "      <td>-0.025627</td>\n",
       "    </tr>\n",
       "  </tbody>\n",
       "</table>\n",
       "<p>166 rows × 1 columns</p>\n",
       "</div>"
      ],
      "text/plain": [
       "            Turbidity\n",
       "2018-12-18  -0.012822\n",
       "2018-12-23  -0.124983\n",
       "2018-12-28  -0.132007\n",
       "2019-01-02  -0.115318\n",
       "2019-01-07  -0.135276\n",
       "...               ...\n",
       "2022-12-02  -0.027292\n",
       "2022-12-07  -0.030176\n",
       "2022-12-17  -0.019145\n",
       "2022-12-22  -0.022120\n",
       "2022-12-27  -0.025627\n",
       "\n",
       "[166 rows x 1 columns]"
      ]
     },
     "execution_count": 34,
     "metadata": {},
     "output_type": "execute_result"
    }
   ],
   "source": [
    "df1"
   ]
  },
  {
   "cell_type": "code",
   "execution_count": 40,
   "id": "214fadbf",
   "metadata": {},
   "outputs": [],
   "source": [
    "df1.to_csv('Turbidity.csv')"
   ]
  },
  {
   "cell_type": "code",
   "execution_count": 41,
   "id": "b8306c4b",
   "metadata": {},
   "outputs": [
    {
     "data": {
      "text/html": [
       "<a href='Turbidity.csv' target='_blank'>Turbidity.csv</a><br>"
      ],
      "text/plain": [
       "C:\\Users\\HP\\Desktop\\Omdena\\Turbidity.csv"
      ]
     },
     "execution_count": 41,
     "metadata": {},
     "output_type": "execute_result"
    }
   ],
   "source": [
    "from IPython.display import FileLink\n",
    "FileLink('Turbidity.csv')"
   ]
  },
  {
   "cell_type": "code",
   "execution_count": 43,
   "id": "9c616aed",
   "metadata": {},
   "outputs": [
    {
     "data": {
      "image/png": "[encoded data removed]",
      "text/plain": [
       "<Figure size 640x480 with 1 Axes>"
      ]
     },
     "metadata": {},
     "output_type": "display_data"
    }
   ],
   "source": [
    "import matplotlib.pyplot as plt\n",
    "\n",
    "# Plotting the Turbidity values over time\n",
    "plt.plot(df1.index, df1['Turbidity'])\n",
    "\n",
    "# Adding labels and title\n",
    "plt.xlabel('Date')\n",
    "plt.ylabel('Turbidity')\n",
    "plt.title('Turbidity values over time')\n",
    "\n",
    "# Show the plot\n",
    "plt.show()"
   ]
  },
  {
   "cell_type": "markdown",
   "id": "314ca38a",
   "metadata": {},
   "source": [
    "## NDSI Calculation------------Iterating over all the images"
   ]
  },
  {
   "cell_type": "code",
   "execution_count": 44,
   "id": "3d57737c",
   "metadata": {},
   "outputs": [],
   "source": [
    "def addNDSI(image):\n",
    "  ndsi = image.normalizedDifference(['B11', 'B12']).rename('NDSI')\n",
    "  return image.addBands(ndsi)\n",
    "with_ndsi = sentinel_AOI.map(addNDSI)"
   ]
  },
  {
   "cell_type": "code",
   "execution_count": 46,
   "id": "79713d23",
   "metadata": {},
   "outputs": [],
   "source": [
    "#Calculating the Average NDSI on every image in the image collection\n",
    "def meanNDSI(image):\n",
    "  image = ee.Image(image)\n",
    "  mean = image.reduceRegion(reducer = ee.Reducer.mean().setOutputs(['NDSI']),\n",
    "                           geometry = BaalUdyan_AOI,\n",
    "                           scale = image.projection().nominalScale().getInfo(),\n",
    "                           maxPixels = 100000,\n",
    "                           bestEffort = True);\n",
    "  return mean.get('NDSI').getInfo()"
   ]
  },
  {
   "cell_type": "code",
   "execution_count": 47,
   "id": "c9c48762",
   "metadata": {},
   "outputs": [],
   "source": [
    "Images_ndsi = with_ndsi.select('NDSI').toList(with_ndsi.size())\n",
    "ndsi_coll = []\n",
    "for i in range(Images_ndsi.length().getInfo()):\n",
    "  image = ee.Image(Images_ndsi.get(i-1))\n",
    "  temp_ndsi = meanNDSI(image)\n",
    "  ndsi_coll.append(temp_ndsi)"
   ]
  },
  {
   "cell_type": "code",
   "execution_count": 48,
   "id": "7fee1876",
   "metadata": {},
   "outputs": [],
   "source": [
    "#Getting Dates from the Image Collection\n",
    "dates = np.array(with_ndsi.aggregate_array(\"system:time_start\").getInfo())\n",
    "day = [datetime.datetime.fromtimestamp(i/1000).strftime('%Y-%m-%d') for i in (dates)]"
   ]
  },
  {
   "cell_type": "code",
   "execution_count": 49,
   "id": "44e73113",
   "metadata": {},
   "outputs": [],
   "source": [
    "#Creating a Dataframe - For salinity\n",
    "df2 = pd.DataFrame(ndsi_coll, index = day, columns = ['Salinty'])\n",
    "df2.index = pd.to_datetime(df2.index, format=\"%Y/%m/%d\")\n",
    "df2.sort_index(ascending = True, inplace = True)"
   ]
  },
  {
   "cell_type": "code",
   "execution_count": 50,
   "id": "cb6e7201",
   "metadata": {},
   "outputs": [
    {
     "data": {
      "text/html": [
       "<div>\n",
       "<style scoped>\n",
       "    .dataframe tbody tr th:only-of-type {\n",
       "        vertical-align: middle;\n",
       "    }\n",
       "\n",
       "    .dataframe tbody tr th {\n",
       "        vertical-align: top;\n",
       "    }\n",
       "\n",
       "    .dataframe thead th {\n",
       "        text-align: right;\n",
       "    }\n",
       "</style>\n",
       "<table border=\"1\" class=\"dataframe\">\n",
       "  <thead>\n",
       "    <tr style=\"text-align: right;\">\n",
       "      <th></th>\n",
       "      <th>Salinty</th>\n",
       "    </tr>\n",
       "  </thead>\n",
       "  <tbody>\n",
       "    <tr>\n",
       "      <th>2018-12-18</th>\n",
       "      <td>0.078672</td>\n",
       "    </tr>\n",
       "    <tr>\n",
       "      <th>2018-12-23</th>\n",
       "      <td>0.222540</td>\n",
       "    </tr>\n",
       "    <tr>\n",
       "      <th>2018-12-28</th>\n",
       "      <td>0.157764</td>\n",
       "    </tr>\n",
       "    <tr>\n",
       "      <th>2019-01-02</th>\n",
       "      <td>0.197524</td>\n",
       "    </tr>\n",
       "    <tr>\n",
       "      <th>2019-01-07</th>\n",
       "      <td>0.167815</td>\n",
       "    </tr>\n",
       "    <tr>\n",
       "      <th>...</th>\n",
       "      <td>...</td>\n",
       "    </tr>\n",
       "    <tr>\n",
       "      <th>2022-12-02</th>\n",
       "      <td>0.055130</td>\n",
       "    </tr>\n",
       "    <tr>\n",
       "      <th>2022-12-07</th>\n",
       "      <td>0.053584</td>\n",
       "    </tr>\n",
       "    <tr>\n",
       "      <th>2022-12-17</th>\n",
       "      <td>0.054299</td>\n",
       "    </tr>\n",
       "    <tr>\n",
       "      <th>2022-12-22</th>\n",
       "      <td>0.057018</td>\n",
       "    </tr>\n",
       "    <tr>\n",
       "      <th>2022-12-27</th>\n",
       "      <td>0.047203</td>\n",
       "    </tr>\n",
       "  </tbody>\n",
       "</table>\n",
       "<p>166 rows × 1 columns</p>\n",
       "</div>"
      ],
      "text/plain": [
       "             Salinty\n",
       "2018-12-18  0.078672\n",
       "2018-12-23  0.222540\n",
       "2018-12-28  0.157764\n",
       "2019-01-02  0.197524\n",
       "2019-01-07  0.167815\n",
       "...              ...\n",
       "2022-12-02  0.055130\n",
       "2022-12-07  0.053584\n",
       "2022-12-17  0.054299\n",
       "2022-12-22  0.057018\n",
       "2022-12-27  0.047203\n",
       "\n",
       "[166 rows x 1 columns]"
      ]
     },
     "execution_count": 50,
     "metadata": {},
     "output_type": "execute_result"
    }
   ],
   "source": [
    "df2"
   ]
  },
  {
   "cell_type": "code",
   "execution_count": 53,
   "id": "4b38808f",
   "metadata": {},
   "outputs": [
    {
     "data": {
      "text/html": [
       "<a href='Salinty.csv' target='_blank'>Salinty.csv</a><br>"
      ],
      "text/plain": [
       "C:\\Users\\HP\\Desktop\\Omdena\\Salinty.csv"
      ]
     },
     "execution_count": 53,
     "metadata": {},
     "output_type": "execute_result"
    }
   ],
   "source": [
    "df2.to_csv('Salinty.csv')\n",
    "from IPython.display import FileLink\n",
    "FileLink('Salinty.csv')"
   ]
  },
  {
   "cell_type": "code",
   "execution_count": 51,
   "id": "314b08e5",
   "metadata": {},
   "outputs": [
    {
     "data": {
      "image/png": "[encoded data removed]",
      "text/plain": [
       "<Figure size 640x480 with 1 Axes>"
      ]
     },
     "metadata": {},
     "output_type": "display_data"
    }
   ],
   "source": [
    "import matplotlib.pyplot as plt\n",
    "\n",
    "# create line chart\n",
    "plt.plot(df2.index, df2['Salinty'])\n",
    "\n",
    "# set chart title and axis labels\n",
    "plt.title('Salinity Over Time')\n",
    "plt.xlabel('Date')\n",
    "plt.ylabel('Salinity')\n",
    "\n",
    "# display chart\n",
    "plt.show()"
   ]
  },
  {
   "cell_type": "markdown",
   "id": "a5c1100d",
   "metadata": {},
   "source": [
    "## Dissloved Oxygen Calculation"
   ]
  },
  {
   "cell_type": "code",
   "execution_count": 54,
   "id": "03c7665d",
   "metadata": {},
   "outputs": [],
   "source": [
    "# Iterating over all the images\n",
    "def addDO(image):\n",
    "  do = ee.Image(-0.0167).multiply(image.select('B8')).add(ee.Image(0.0067).multiply(image.select('B9'))).add(ee.Image(0.0083).multiply(image.select('B11'))).add(ee.Image(9.577)).rename('DO')\n",
    "  return image.addBands(do)\n",
    "with_do = sentinel_AOI.map(addDO)"
   ]
  },
  {
   "cell_type": "markdown",
   "id": "7eaf8d2e",
   "metadata": {},
   "source": [
    "### Calculating the Average Dissolved Oxygen Calculation on every image in the image collection"
   ]
  },
  {
   "cell_type": "code",
   "execution_count": 55,
   "id": "5b770bcc",
   "metadata": {},
   "outputs": [],
   "source": [
    "def meanDO(image):\n",
    "  image = ee.Image(image)\n",
    "  mean = image.reduceRegion(reducer = ee.Reducer.mean().setOutputs(['DO']),\n",
    "                           geometry = BaalUdyan_AOI,\n",
    "                           scale = image.projection().nominalScale().getInfo(),\n",
    "                           maxPixels = 100000,\n",
    "                           bestEffort = True);\n",
    "  return mean.get('DO').getInfo()"
   ]
  },
  {
   "cell_type": "code",
   "execution_count": 56,
   "id": "a3abf2d6",
   "metadata": {},
   "outputs": [],
   "source": [
    "Images_do = with_do.select('DO').toList(with_do.size())\n",
    "do_coll = []\n",
    "for i in range(Images_do.length().getInfo()):\n",
    "  image = ee.Image(Images_do.get(i-1))\n",
    "  temp_do = meanDO(image)\n",
    "  do_coll.append(temp_do)"
   ]
  },
  {
   "cell_type": "markdown",
   "id": "ac38fd1c",
   "metadata": {},
   "source": [
    "### Getting Dates from the Image Collection"
   ]
  },
  {
   "cell_type": "code",
   "execution_count": 57,
   "id": "2c0cba3a",
   "metadata": {},
   "outputs": [],
   "source": [
    "dates = np.array(with_do.aggregate_array(\"system:time_start\").getInfo())\n",
    "day = [datetime.datetime.fromtimestamp(i/1000).strftime('%Y-%m-%d') for i in (dates)]"
   ]
  },
  {
   "cell_type": "markdown",
   "id": "04cb4c22",
   "metadata": {},
   "source": [
    "### Creating a Dataframe"
   ]
  },
  {
   "cell_type": "code",
   "execution_count": 58,
   "id": "49f56d8a",
   "metadata": {},
   "outputs": [],
   "source": [
    "df4 = pd.DataFrame(do_coll, index = day, columns = ['Dissolved Oxygen'])\n",
    "df4.index = pd.to_datetime(df4.index, format=\"%Y/%m/%d\")\n",
    "df4.sort_index(ascending = True, inplace = True)"
   ]
  },
  {
   "cell_type": "code",
   "execution_count": 59,
   "id": "0fae523b",
   "metadata": {},
   "outputs": [
    {
     "data": {
      "text/html": [
       "<div>\n",
       "<style scoped>\n",
       "    .dataframe tbody tr th:only-of-type {\n",
       "        vertical-align: middle;\n",
       "    }\n",
       "\n",
       "    .dataframe tbody tr th {\n",
       "        vertical-align: top;\n",
       "    }\n",
       "\n",
       "    .dataframe thead th {\n",
       "        text-align: right;\n",
       "    }\n",
       "</style>\n",
       "<table border=\"1\" class=\"dataframe\">\n",
       "  <thead>\n",
       "    <tr style=\"text-align: right;\">\n",
       "      <th></th>\n",
       "      <th>Dissolved Oxygen</th>\n",
       "    </tr>\n",
       "  </thead>\n",
       "  <tbody>\n",
       "    <tr>\n",
       "      <th>2018-12-18</th>\n",
       "      <td>7.252531</td>\n",
       "    </tr>\n",
       "    <tr>\n",
       "      <th>2018-12-23</th>\n",
       "      <td>11.367531</td>\n",
       "    </tr>\n",
       "    <tr>\n",
       "      <th>2018-12-28</th>\n",
       "      <td>11.038432</td>\n",
       "    </tr>\n",
       "    <tr>\n",
       "      <th>2019-01-02</th>\n",
       "      <td>11.474976</td>\n",
       "    </tr>\n",
       "    <tr>\n",
       "      <th>2019-01-07</th>\n",
       "      <td>11.321593</td>\n",
       "    </tr>\n",
       "    <tr>\n",
       "      <th>...</th>\n",
       "      <td>...</td>\n",
       "    </tr>\n",
       "    <tr>\n",
       "      <th>2022-12-02</th>\n",
       "      <td>11.077167</td>\n",
       "    </tr>\n",
       "    <tr>\n",
       "      <th>2022-12-07</th>\n",
       "      <td>9.678174</td>\n",
       "    </tr>\n",
       "    <tr>\n",
       "      <th>2022-12-17</th>\n",
       "      <td>9.980394</td>\n",
       "    </tr>\n",
       "    <tr>\n",
       "      <th>2022-12-22</th>\n",
       "      <td>12.020065</td>\n",
       "    </tr>\n",
       "    <tr>\n",
       "      <th>2022-12-27</th>\n",
       "      <td>11.428755</td>\n",
       "    </tr>\n",
       "  </tbody>\n",
       "</table>\n",
       "<p>166 rows × 1 columns</p>\n",
       "</div>"
      ],
      "text/plain": [
       "            Dissolved Oxygen\n",
       "2018-12-18          7.252531\n",
       "2018-12-23         11.367531\n",
       "2018-12-28         11.038432\n",
       "2019-01-02         11.474976\n",
       "2019-01-07         11.321593\n",
       "...                      ...\n",
       "2022-12-02         11.077167\n",
       "2022-12-07          9.678174\n",
       "2022-12-17          9.980394\n",
       "2022-12-22         12.020065\n",
       "2022-12-27         11.428755\n",
       "\n",
       "[166 rows x 1 columns]"
      ]
     },
     "execution_count": 59,
     "metadata": {},
     "output_type": "execute_result"
    }
   ],
   "source": [
    "df4"
   ]
  },
  {
   "cell_type": "code",
   "execution_count": 60,
   "id": "a388559d",
   "metadata": {},
   "outputs": [
    {
     "data": {
      "text/html": [
       "<a href='Dissolved Oxygen.csv' target='_blank'>Dissolved Oxygen.csv</a><br>"
      ],
      "text/plain": [
       "C:\\Users\\HP\\Desktop\\Omdena\\Dissolved Oxygen.csv"
      ]
     },
     "execution_count": 60,
     "metadata": {},
     "output_type": "execute_result"
    }
   ],
   "source": [
    "df4.to_csv('Dissolved Oxygen.csv')\n",
    "from IPython.display import FileLink\n",
    "FileLink('Dissolved Oxygen.csv')"
   ]
  },
  {
   "cell_type": "code",
   "execution_count": 61,
   "id": "bd20a4a0",
   "metadata": {},
   "outputs": [
    {
     "data": {
      "image/png": "[encoded data removed]",
      "text/plain": [
       "<Figure size 640x480 with 1 Axes>"
      ]
     },
     "metadata": {},
     "output_type": "display_data"
    }
   ],
   "source": [
    "import matplotlib.pyplot as plt\n",
    "\n",
    "# create line chart\n",
    "plt.plot(df4.index, df4['Dissolved Oxygen'])\n",
    "\n",
    "# set chart title and axis labels\n",
    "plt.title('Dissolved Oxygen Over Time')\n",
    "plt.xlabel('Date')\n",
    "plt.ylabel('Dissolved Oxygen')\n",
    "\n",
    "# display chart\n",
    "plt.show()"
   ]
  },
  {
   "cell_type": "markdown",
   "id": "76015154",
   "metadata": {},
   "source": [
    "# pH\n",
    "### Iterating over all the images"
   ]
  },
  {
   "cell_type": "code",
   "execution_count": 62,
   "id": "c5e96d18",
   "metadata": {},
   "outputs": [],
   "source": [
    "def addpH(image):\n",
    "  ph = ee.Image(8.339).subtract(ee.Image(0.827).multiply(image.select('B1').divide(image.select('B8')))).rename('PH')\n",
    "  return image.addBands(ph)\n",
    "with_pH = sentinel_AOI.map(addpH)"
   ]
  },
  {
   "cell_type": "markdown",
   "id": "e82971b1",
   "metadata": {},
   "source": [
    "## Calculating the Average pH on every image in the image collection"
   ]
  },
  {
   "cell_type": "code",
   "execution_count": 63,
   "id": "3ea26bbc",
   "metadata": {},
   "outputs": [],
   "source": [
    "def meanpH(image):\n",
    "  image = ee.Image(image)\n",
    "  mean = image.reduceRegion(reducer = ee.Reducer.mean().setOutputs(['PH']),\n",
    "                           geometry = BaalUdyan_AOI,\n",
    "                           scale = image.projection().nominalScale().getInfo(),\n",
    "                           maxPixels = 100000,\n",
    "                           bestEffort = True);\n",
    "  return mean.get('PH').getInfo()"
   ]
  },
  {
   "cell_type": "code",
   "execution_count": 64,
   "id": "a44c280f",
   "metadata": {},
   "outputs": [],
   "source": [
    "Images_ph = with_pH.select('PH').toList(with_pH.size())\n",
    "ph_coll= []\n",
    "for i in range(Images_ph.length().getInfo()):\n",
    "  image = ee.Image(Images_ph.get(i-1))\n",
    "  temp_ph = meanpH(image)\n",
    "  ph_coll.append(temp_ph)"
   ]
  },
  {
   "cell_type": "markdown",
   "id": "680b9d04",
   "metadata": {},
   "source": [
    "## Getting Dates from the Image Collection"
   ]
  },
  {
   "cell_type": "code",
   "execution_count": 65,
   "id": "88c09622",
   "metadata": {},
   "outputs": [],
   "source": [
    "dates = np.array(with_pH.aggregate_array(\"system:time_start\").getInfo())\n",
    "day = [datetime.datetime.fromtimestamp(i/1000).strftime('%Y-%m-%d') for i in (dates)]"
   ]
  },
  {
   "cell_type": "code",
   "execution_count": 66,
   "id": "87231dbd",
   "metadata": {},
   "outputs": [],
   "source": [
    "df6 = pd.DataFrame(ph_coll, index = day, columns = ['pH'])\n",
    "df6.index = pd.to_datetime(df6.index, format=\"%Y/%m/%d\")\n",
    "df6.sort_index(ascending = True, inplace = True)"
   ]
  },
  {
   "cell_type": "code",
   "execution_count": 67,
   "id": "8afd7efa",
   "metadata": {},
   "outputs": [
    {
     "data": {
      "text/html": [
       "<div>\n",
       "<style scoped>\n",
       "    .dataframe tbody tr th:only-of-type {\n",
       "        vertical-align: middle;\n",
       "    }\n",
       "\n",
       "    .dataframe tbody tr th {\n",
       "        vertical-align: top;\n",
       "    }\n",
       "\n",
       "    .dataframe thead th {\n",
       "        text-align: right;\n",
       "    }\n",
       "</style>\n",
       "<table border=\"1\" class=\"dataframe\">\n",
       "  <thead>\n",
       "    <tr style=\"text-align: right;\">\n",
       "      <th></th>\n",
       "      <th>pH</th>\n",
       "    </tr>\n",
       "  </thead>\n",
       "  <tbody>\n",
       "    <tr>\n",
       "      <th>2018-12-18</th>\n",
       "      <td>7.762265</td>\n",
       "    </tr>\n",
       "    <tr>\n",
       "      <th>2018-12-23</th>\n",
       "      <td>7.843140</td>\n",
       "    </tr>\n",
       "    <tr>\n",
       "      <th>2018-12-28</th>\n",
       "      <td>7.965211</td>\n",
       "    </tr>\n",
       "    <tr>\n",
       "      <th>2019-01-02</th>\n",
       "      <td>7.865017</td>\n",
       "    </tr>\n",
       "    <tr>\n",
       "      <th>2019-01-07</th>\n",
       "      <td>7.958572</td>\n",
       "    </tr>\n",
       "    <tr>\n",
       "      <th>...</th>\n",
       "      <td>...</td>\n",
       "    </tr>\n",
       "    <tr>\n",
       "      <th>2022-12-02</th>\n",
       "      <td>7.700644</td>\n",
       "    </tr>\n",
       "    <tr>\n",
       "      <th>2022-12-07</th>\n",
       "      <td>7.770612</td>\n",
       "    </tr>\n",
       "    <tr>\n",
       "      <th>2022-12-17</th>\n",
       "      <td>7.783132</td>\n",
       "    </tr>\n",
       "    <tr>\n",
       "      <th>2022-12-22</th>\n",
       "      <td>7.715950</td>\n",
       "    </tr>\n",
       "    <tr>\n",
       "      <th>2022-12-27</th>\n",
       "      <td>7.714071</td>\n",
       "    </tr>\n",
       "  </tbody>\n",
       "</table>\n",
       "<p>166 rows × 1 columns</p>\n",
       "</div>"
      ],
      "text/plain": [
       "                  pH\n",
       "2018-12-18  7.762265\n",
       "2018-12-23  7.843140\n",
       "2018-12-28  7.965211\n",
       "2019-01-02  7.865017\n",
       "2019-01-07  7.958572\n",
       "...              ...\n",
       "2022-12-02  7.700644\n",
       "2022-12-07  7.770612\n",
       "2022-12-17  7.783132\n",
       "2022-12-22  7.715950\n",
       "2022-12-27  7.714071\n",
       "\n",
       "[166 rows x 1 columns]"
      ]
     },
     "execution_count": 67,
     "metadata": {},
     "output_type": "execute_result"
    }
   ],
   "source": [
    "df6"
   ]
  },
  {
   "cell_type": "code",
   "execution_count": 68,
   "id": "cec015ca",
   "metadata": {},
   "outputs": [
    {
     "data": {
      "text/html": [
       "<a href='pH.csv' target='_blank'>pH.csv</a><br>"
      ],
      "text/plain": [
       "C:\\Users\\HP\\Desktop\\Omdena\\pH.csv"
      ]
     },
     "execution_count": 68,
     "metadata": {},
     "output_type": "execute_result"
    }
   ],
   "source": [
    "df6.to_csv('pH.csv')\n",
    "from IPython.display import FileLink\n",
    "FileLink('pH.csv')"
   ]
  },
  {
   "cell_type": "code",
   "execution_count": 69,
   "id": "f2f7670c",
   "metadata": {},
   "outputs": [
    {
     "data": {
      "image/png": "[encoded data removed]",
      "text/plain": [
       "<Figure size 640x480 with 1 Axes>"
      ]
     },
     "metadata": {},
     "output_type": "display_data"
    }
   ],
   "source": [
    "import matplotlib.pyplot as plt\n",
    "\n",
    "# create line chart\n",
    "plt.plot(df6.index, df6['pH'])\n",
    "\n",
    "# set chart title and axis labels\n",
    "plt.title('pH Over Time')\n",
    "plt.xlabel('Date')\n",
    "plt.ylabel('pH')\n",
    "\n",
    "# display chart\n",
    "plt.show()"
   ]
  },
  {
   "cell_type": "markdown",
   "id": "b9721744",
   "metadata": {},
   "source": [
    "# Temperature"
   ]
  },
  {
   "cell_type": "code",
   "execution_count": 70,
   "id": "f16a1ff9",
   "metadata": {},
   "outputs": [],
   "source": [
    "# selecting the satellite \n",
    "landsat = ee.ImageCollection(\"LANDSAT/LC08/C02/T1_L2\").\\\n",
    "              filterDate(\"2016-01-01\",\"2022-01-01\")\n",
    "BaalUdyan_AOI = ee.Geometry.Polygon([[77.42043846354407, 23.22515766027653],\n",
    "          [77.42101245627326, 23.22513301178521],\n",
    "          [77.4216132710926, 23.22511822268824],\n",
    "          [77.42178493246955, 23.225063995985327],\n",
    "          [77.42195122942847, 23.225197097853158],\n",
    "          [77.4222087214939, 23.225571754250232],\n",
    "          [77.42219799265784, 23.225847816185897],\n",
    "          [77.4218493054859, 23.22590697224071],\n",
    "          [77.42164009318275, 23.22578866010488],\n",
    "          [77.42118948206824, 23.225857675530182],\n",
    "          [77.42111974463386, 23.225660488506094],\n",
    "          [77.42067449793738, 23.22557668393267],\n",
    "          [77.42043309912604, 23.22563091042737],\n",
    "          [77.42034190401954, 23.225768941405384],\n",
    "          [77.42017560706061, 23.22578866010488],\n",
    "          [77.42002540335578, 23.225625980746948],\n",
    "          [77.41987519965095, 23.22542386369278],\n",
    "          [77.41981619105262, 23.22522174633265]])\n",
    "\n",
    "landsat_AOI = landsat.filterBounds(BaalUdyan_AOI)"
   ]
  },
  {
   "cell_type": "markdown",
   "id": "5ae17f98",
   "metadata": {},
   "source": [
    "### Printing the total number of images obtained from landsat"
   ]
  },
  {
   "cell_type": "code",
   "execution_count": 71,
   "id": "92141635",
   "metadata": {},
   "outputs": [
    {
     "name": "stdout",
     "output_type": "stream",
     "text": [
      "Total number of images : 227\n"
     ]
    }
   ],
   "source": [
    "print('Total number of images :', landsat_AOI.size().getInfo())"
   ]
  },
  {
   "cell_type": "markdown",
   "id": "e53000b3",
   "metadata": {},
   "source": [
    "### Iterating all over the images"
   ]
  },
  {
   "cell_type": "code",
   "execution_count": 72,
   "id": "a5d72b2a",
   "metadata": {},
   "outputs": [],
   "source": [
    "def addtemp(image):\n",
    "  temp = image.select('ST_B.*').multiply(0.00341802).add(149.0).subtract(273.15).rename('temperature')\n",
    "  return image.addBands(temp)\n",
    "with_temp = landsat_AOI.map(addtemp)"
   ]
  },
  {
   "cell_type": "markdown",
   "id": "9e1e2ae2",
   "metadata": {},
   "source": [
    "### Calculating the Average Temperature on every image in the image collection"
   ]
  },
  {
   "cell_type": "code",
   "execution_count": 73,
   "id": "eff14187",
   "metadata": {},
   "outputs": [],
   "source": [
    "def meantemp(image):\n",
    "  image = ee.Image(image)\n",
    "  mean = image.reduceRegion(reducer = ee.Reducer.mean().setOutputs(['temperature']),\n",
    "                           geometry = BaalUdyan_AOI,\n",
    "                           scale = image.projection().nominalScale().getInfo(),\n",
    "                           maxPixels = 100000,\n",
    "                           bestEffort = True);\n",
    "  return mean.get('temperature').getInfo()"
   ]
  },
  {
   "cell_type": "code",
   "execution_count": 74,
   "id": "1af27136",
   "metadata": {},
   "outputs": [],
   "source": [
    "Images_temp = with_temp.select('temperature').toList(with_temp.size())\n",
    "temp_coll = []\n",
    "for i in range(Images_temp.length().getInfo()):\n",
    "  image = ee.Image(Images_temp.get(i-1))\n",
    "  tempe_temp = meantemp(image)\n",
    "  temp_coll.append(tempe_temp)"
   ]
  },
  {
   "cell_type": "markdown",
   "id": "187579c2",
   "metadata": {},
   "source": [
    "### Getting Dates from the Image Collection"
   ]
  },
  {
   "cell_type": "code",
   "execution_count": 75,
   "id": "6e62aefa",
   "metadata": {},
   "outputs": [],
   "source": [
    "dates = np.array(with_temp.aggregate_array(\"system:time_start\").getInfo())\n",
    "day = [datetime.datetime.fromtimestamp(i/1000).strftime('%Y-%m-%d') for i in (dates)]"
   ]
  },
  {
   "cell_type": "markdown",
   "id": "f190c933",
   "metadata": {},
   "source": [
    "### Creating a Dataframe for temperature "
   ]
  },
  {
   "cell_type": "code",
   "execution_count": 76,
   "id": "941a2b63",
   "metadata": {},
   "outputs": [],
   "source": [
    "df5 = pd.DataFrame(temp_coll, index = day, columns = ['Temperature'])\n",
    "df5.index = pd.to_datetime(df5.index, format=\"%Y/%m/%d\")\n",
    "df5.sort_index(ascending = True, inplace = True)"
   ]
  },
  {
   "cell_type": "code",
   "execution_count": 77,
   "id": "b90440b1",
   "metadata": {},
   "outputs": [
    {
     "data": {
      "text/html": [
       "<div>\n",
       "<style scoped>\n",
       "    .dataframe tbody tr th:only-of-type {\n",
       "        vertical-align: middle;\n",
       "    }\n",
       "\n",
       "    .dataframe tbody tr th {\n",
       "        vertical-align: top;\n",
       "    }\n",
       "\n",
       "    .dataframe thead th {\n",
       "        text-align: right;\n",
       "    }\n",
       "</style>\n",
       "<table border=\"1\" class=\"dataframe\">\n",
       "  <thead>\n",
       "    <tr style=\"text-align: right;\">\n",
       "      <th></th>\n",
       "      <th>Temperature</th>\n",
       "    </tr>\n",
       "  </thead>\n",
       "  <tbody>\n",
       "    <tr>\n",
       "      <th>2016-01-07</th>\n",
       "      <td>17.184291</td>\n",
       "    </tr>\n",
       "    <tr>\n",
       "      <th>2016-01-14</th>\n",
       "      <td>22.511921</td>\n",
       "    </tr>\n",
       "    <tr>\n",
       "      <th>2016-01-23</th>\n",
       "      <td>23.436686</td>\n",
       "    </tr>\n",
       "    <tr>\n",
       "      <th>2016-01-30</th>\n",
       "      <td>23.515442</td>\n",
       "    </tr>\n",
       "    <tr>\n",
       "      <th>2016-02-08</th>\n",
       "      <td>20.719778</td>\n",
       "    </tr>\n",
       "    <tr>\n",
       "      <th>...</th>\n",
       "      <td>...</td>\n",
       "    </tr>\n",
       "    <tr>\n",
       "      <th>2021-11-27</th>\n",
       "      <td>24.716207</td>\n",
       "    </tr>\n",
       "    <tr>\n",
       "      <th>2021-12-06</th>\n",
       "      <td>27.536062</td>\n",
       "    </tr>\n",
       "    <tr>\n",
       "      <th>2021-12-13</th>\n",
       "      <td>26.250454</td>\n",
       "    </tr>\n",
       "    <tr>\n",
       "      <th>2021-12-22</th>\n",
       "      <td>26.260312</td>\n",
       "    </tr>\n",
       "    <tr>\n",
       "      <th>2021-12-29</th>\n",
       "      <td>22.471892</td>\n",
       "    </tr>\n",
       "  </tbody>\n",
       "</table>\n",
       "<p>227 rows × 1 columns</p>\n",
       "</div>"
      ],
      "text/plain": [
       "            Temperature\n",
       "2016-01-07    17.184291\n",
       "2016-01-14    22.511921\n",
       "2016-01-23    23.436686\n",
       "2016-01-30    23.515442\n",
       "2016-02-08    20.719778\n",
       "...                 ...\n",
       "2021-11-27    24.716207\n",
       "2021-12-06    27.536062\n",
       "2021-12-13    26.250454\n",
       "2021-12-22    26.260312\n",
       "2021-12-29    22.471892\n",
       "\n",
       "[227 rows x 1 columns]"
      ]
     },
     "execution_count": 77,
     "metadata": {},
     "output_type": "execute_result"
    }
   ],
   "source": [
    "df5"
   ]
  },
  {
   "cell_type": "code",
   "execution_count": 78,
   "id": "ac76a5a8",
   "metadata": {},
   "outputs": [
    {
     "data": {
      "text/html": [
       "<a href='Temperature.csv' target='_blank'>Temperature.csv</a><br>"
      ],
      "text/plain": [
       "C:\\Users\\HP\\Desktop\\Omdena\\Temperature.csv"
      ]
     },
     "execution_count": 78,
     "metadata": {},
     "output_type": "execute_result"
    }
   ],
   "source": [
    "df5.to_csv('Temperature.csv')\n",
    "from IPython.display import FileLink\n",
    "FileLink('Temperature.csv')"
   ]
  },
  {
   "cell_type": "code",
   "execution_count": 79,
   "id": "f174b279",
   "metadata": {},
   "outputs": [
    {
     "data": {
      "image/png": "[encoded data removed]",
      "text/plain": [
       "<Figure size 640x480 with 1 Axes>"
      ]
     },
     "metadata": {},
     "output_type": "display_data"
    }
   ],
   "source": [
    "import matplotlib.pyplot as plt\n",
    "\n",
    "# create line chart\n",
    "plt.plot(df5.index, df5['Temperature'])\n",
    "\n",
    "# set chart title and axis labels\n",
    "plt.title('Temperature Over Time')\n",
    "plt.xlabel('Date')\n",
    "plt.ylabel('Temperature')\n",
    "\n",
    "# display chart\n",
    "plt.show()"
   ]
  },
  {
   "cell_type": "markdown",
   "id": "ee956e82",
   "metadata": {},
   "source": [
    "# Dissolved Oxygen Matter\n",
    "#### Data collection through this satellite takes too long, try to give dates between short rangs as monthly or quartly"
   ]
  },
  {
   "cell_type": "markdown",
   "id": "5e4dab2a",
   "metadata": {},
   "source": [
    "### Selecting the Satellite"
   ]
  },
  {
   "cell_type": "code",
   "execution_count": 92,
   "id": "6f518e9e",
   "metadata": {},
   "outputs": [],
   "source": [
    "sentinel3 = ee.ImageCollection(\"COPERNICUS/S3/OLCI\").\\\n",
    "              filterDate(\"2018-01-01\",\"2018-05-01\")\n",
    "BaalUdyan_AOI = ee.Geometry.Polygon([[77.42043846354407, 23.22515766027653],\n",
    "          [77.42101245627326, 23.22513301178521],\n",
    "          [77.4216132710926, 23.22511822268824],\n",
    "          [77.42178493246955, 23.225063995985327],\n",
    "          [77.42195122942847, 23.225197097853158],\n",
    "          [77.4222087214939, 23.225571754250232],\n",
    "          [77.42219799265784, 23.225847816185897],\n",
    "          [77.4218493054859, 23.22590697224071],\n",
    "          [77.42164009318275, 23.22578866010488],\n",
    "          [77.42118948206824, 23.225857675530182],\n",
    "          [77.42111974463386, 23.225660488506094],\n",
    "          [77.42067449793738, 23.22557668393267],\n",
    "          [77.42043309912604, 23.22563091042737],\n",
    "          [77.42034190401954, 23.225768941405384],\n",
    "          [77.42017560706061, 23.22578866010488],\n",
    "          [77.42002540335578, 23.225625980746948],\n",
    "          [77.41987519965095, 23.22542386369278],\n",
    "          [77.41981619105262, 23.22522174633265]])\n",
    "sentinel3_AOI = sentinel3.filterBounds(BaalUdyan_AOI)"
   ]
  },
  {
   "cell_type": "code",
   "execution_count": 93,
   "id": "88536623",
   "metadata": {},
   "outputs": [
    {
     "name": "stdout",
     "output_type": "stream",
     "text": [
      "Total number of images : 458\n"
     ]
    }
   ],
   "source": [
    "print('Total number of images :', sentinel3_AOI.size().getInfo())"
   ]
  },
  {
   "cell_type": "code",
   "execution_count": 94,
   "id": "419d7b48",
   "metadata": {},
   "outputs": [],
   "source": [
    "#Iterating over all the images\n",
    "def addDM(image):\n",
    "  rgb = image.select(['Oa08_radiance', 'Oa06_radiance', 'Oa04_radiance'])\\\n",
    "              .multiply(ee.Image([0.00876539, 0.0123538, 0.0115198]))\n",
    "  dm = rgb.select('Oa08_radiance').divide(rgb.select('Oa04_radiance')).rename('dom')\n",
    "  return image.addBands(dm)\n",
    "with_dm = sentinel3_AOI.map(addDM)"
   ]
  },
  {
   "cell_type": "markdown",
   "id": "9ccd2f62",
   "metadata": {},
   "source": [
    "### Calculating the Average Dissolved Oxygen matter on every image in the image collection"
   ]
  },
  {
   "cell_type": "code",
   "execution_count": 99,
   "id": "95f2debb",
   "metadata": {},
   "outputs": [],
   "source": [
    "def meanDM(image):\n",
    "  image = ee.Image(image)\n",
    "  mean = image.reduceRegion(reducer = ee.Reducer.mean().setOutputs(['dom']),\n",
    "                           geometry = BaalUdyan_AOI,\n",
    "                           scale = image.projection().nominalScale().getInfo(),\n",
    "                           maxPixels = 100000,\n",
    "                           bestEffort = True);\n",
    "  return mean.get('dom').getInfo()"
   ]
  },
  {
   "cell_type": "code",
   "execution_count": null,
   "id": "e3e4b8f6",
   "metadata": {},
   "outputs": [],
   "source": [
    "Images_dm = with_dm.select('dom').toList(with_dm.size())\n",
    "dm_coll= []\n",
    "for i in range(Images_dm.length().getInfo()):\n",
    "  image = ee.Image(Images_dm.get(i-1))\n",
    "  temp_dm = meanDM(image)\n",
    "  dm_coll.append(temp_dm)"
   ]
  },
  {
   "cell_type": "markdown",
   "id": "0935cd80",
   "metadata": {},
   "source": [
    "### Getting Dates from the Image Collection"
   ]
  },
  {
   "cell_type": "code",
   "execution_count": null,
   "id": "0e8bdf27",
   "metadata": {},
   "outputs": [],
   "source": [
    "dates = np.array(with_dm.aggregate_array(\"system:time_start\").getInfo())\n",
    "day = [datetime.datetime.fromtimestamp(i/1000).strftime('%Y-%m-%d') for i in (dates)]"
   ]
  },
  {
   "cell_type": "markdown",
   "id": "781009c6",
   "metadata": {},
   "source": [
    "### Creating a Dataframe"
   ]
  },
  {
   "cell_type": "code",
   "execution_count": null,
   "id": "c6a1c822",
   "metadata": {},
   "outputs": [],
   "source": [
    "df3 = pd.DataFrame(dm_coll, index = day, columns = ['Dissolved Oxygen Matter'])\n",
    "df3.index = pd.to_datetime(df3.index, format=\"%Y/%m/%d\")\n",
    "df3.sort_index(ascending = True, inplace = True)"
   ]
  },
  {
   "cell_type": "code",
   "execution_count": null,
   "id": "a6e5960e",
   "metadata": {},
   "outputs": [],
   "source": [
    "df3"
   ]
  },
  {
   "cell_type": "code",
   "execution_count": null,
   "id": "cabeaec5",
   "metadata": {},
   "outputs": [],
   "source": []
  },
  {
   "cell_type": "markdown",
   "id": "98d5725c",
   "metadata": {},
   "source": [
    "# Suspended Matter\n",
    "### Selecting the satellite "
   ]
  },
  {
   "cell_type": "code",
   "execution_count": 5,
   "id": "e58ccfd1",
   "metadata": {},
   "outputs": [],
   "source": [
    "sentinel3 = ee.ImageCollection(\"COPERNICUS/S3/OLCI\").\\\n",
    "              filterDate(\"2018-01-01\",\"2018-05-01\")\n",
    "BaalUdyan_AOI = ee.Geometry.Polygon([[77.42043846354407, 23.22515766027653],\n",
    "          [77.42101245627326, 23.22513301178521],\n",
    "          [77.4216132710926, 23.22511822268824],\n",
    "          [77.42178493246955, 23.225063995985327],\n",
    "          [77.42195122942847, 23.225197097853158],\n",
    "          [77.4222087214939, 23.225571754250232],\n",
    "          [77.42219799265784, 23.225847816185897],\n",
    "          [77.4218493054859, 23.22590697224071],\n",
    "          [77.42164009318275, 23.22578866010488],\n",
    "          [77.42118948206824, 23.225857675530182],\n",
    "          [77.42111974463386, 23.225660488506094],\n",
    "          [77.42067449793738, 23.22557668393267],\n",
    "          [77.42043309912604, 23.22563091042737],\n",
    "          [77.42034190401954, 23.225768941405384],\n",
    "          [77.42017560706061, 23.22578866010488],\n",
    "          [77.42002540335578, 23.225625980746948],\n",
    "          [77.41987519965095, 23.22542386369278],\n",
    "          [77.41981619105262, 23.22522174633265]])\n",
    "sentinel3_AOI = sentinel3.filterBounds(BaalUdyan_AOI)"
   ]
  },
  {
   "cell_type": "code",
   "execution_count": 6,
   "id": "af5e2be0",
   "metadata": {},
   "outputs": [
    {
     "name": "stdout",
     "output_type": "stream",
     "text": [
      "Total number of images : 458\n"
     ]
    }
   ],
   "source": [
    "#Printing the total number of images\n",
    "print('Total number of images :', sentinel3_AOI.size().getInfo())"
   ]
  },
  {
   "cell_type": "code",
   "execution_count": 7,
   "id": "28607a92",
   "metadata": {},
   "outputs": [],
   "source": [
    "# Iterating all over the images \n",
    "def addSM(image):\n",
    "  rgb = image.select(['Oa08_radiance', 'Oa06_radiance', 'Oa04_radiance'])\\\n",
    "              .multiply(ee.Image([0.00876539, 0.0123538, 0.0115198]))\n",
    "  suspended_matter = rgb.select('Oa08_radiance').divide(rgb.select('Oa06_radiance')).rename('suspended_matter')\n",
    "  return image.addBands(suspended_matter)\n",
    "with_sm = sentinel3_AOI.map(addSM)"
   ]
  },
  {
   "cell_type": "markdown",
   "id": "141f9994",
   "metadata": {},
   "source": [
    "## Calculating the Average Suspended Matter on every image in the image collection"
   ]
  },
  {
   "cell_type": "code",
   "execution_count": 10,
   "id": "82ff37a0",
   "metadata": {},
   "outputs": [],
   "source": [
    "def meanSM(image):\n",
    "  image = ee.Image(image)\n",
    "  mean = image.reduceRegion(reducer = ee.Reducer.mean().setOutputs(['suspended_matter']),\n",
    "                           geometry = BaalUdyan_AOI,\n",
    "                           scale = image.projection().nominalScale().getInfo(),\n",
    "                           maxPixels = 100000,\n",
    "                           bestEffort = True);\n",
    "  return mean.get('suspended_matter').getInfo()"
   ]
  },
  {
   "cell_type": "code",
   "execution_count": 11,
   "id": "4ae592d6",
   "metadata": {},
   "outputs": [],
   "source": [
    "Images_sm = with_sm.select('suspended_matter').toList(with_sm.size())\n",
    "sm_coll= []\n",
    "for i in range(Images_sm.length().getInfo()):\n",
    "  image = ee.Image(Images_sm.get(i-1))\n",
    "  temp_sm = meanSM(image)\n",
    "  sm_coll.append(temp_sm)"
   ]
  },
  {
   "cell_type": "markdown",
   "id": "53c1af71",
   "metadata": {},
   "source": [
    "## Getting Dates from the Image Collection"
   ]
  },
  {
   "cell_type": "code",
   "execution_count": 12,
   "id": "fe6deabe",
   "metadata": {},
   "outputs": [],
   "source": [
    "dates = np.array(with_sm.aggregate_array(\"system:time_start\").getInfo())\n",
    "day = [datetime.datetime.fromtimestamp(i/1000).strftime('%Y-%m-%d') for i in (dates)]"
   ]
  },
  {
   "cell_type": "markdown",
   "id": "85305070",
   "metadata": {},
   "source": [
    "## Creating a Dataframe"
   ]
  },
  {
   "cell_type": "code",
   "execution_count": 13,
   "id": "9b49c52e",
   "metadata": {},
   "outputs": [],
   "source": [
    "df7 = pd.DataFrame(sm_coll, index = day, columns = ['Suspended Matter'])\n",
    "df7.index = pd.to_datetime(df7.index, format=\"%Y/%m/%d\")\n",
    "df7.sort_index(ascending = True, inplace = True)"
   ]
  },
  {
   "cell_type": "code",
   "execution_count": 14,
   "id": "a3e7c740",
   "metadata": {},
   "outputs": [
    {
     "data": {
      "text/html": [
       "<div>\n",
       "<style scoped>\n",
       "    .dataframe tbody tr th:only-of-type {\n",
       "        vertical-align: middle;\n",
       "    }\n",
       "\n",
       "    .dataframe tbody tr th {\n",
       "        vertical-align: top;\n",
       "    }\n",
       "\n",
       "    .dataframe thead th {\n",
       "        text-align: right;\n",
       "    }\n",
       "</style>\n",
       "<table border=\"1\" class=\"dataframe\">\n",
       "  <thead>\n",
       "    <tr style=\"text-align: right;\">\n",
       "      <th></th>\n",
       "      <th>Suspended Matter</th>\n",
       "    </tr>\n",
       "  </thead>\n",
       "  <tbody>\n",
       "    <tr>\n",
       "      <th>2018-01-02</th>\n",
       "      <td>NaN</td>\n",
       "    </tr>\n",
       "    <tr>\n",
       "      <th>2018-01-03</th>\n",
       "      <td>0.543888</td>\n",
       "    </tr>\n",
       "    <tr>\n",
       "      <th>2018-01-06</th>\n",
       "      <td>0.532147</td>\n",
       "    </tr>\n",
       "    <tr>\n",
       "      <th>2018-01-07</th>\n",
       "      <td>0.541483</td>\n",
       "    </tr>\n",
       "    <tr>\n",
       "      <th>2018-01-10</th>\n",
       "      <td>0.513277</td>\n",
       "    </tr>\n",
       "    <tr>\n",
       "      <th>...</th>\n",
       "      <td>...</td>\n",
       "    </tr>\n",
       "    <tr>\n",
       "      <th>2018-04-30</th>\n",
       "      <td>NaN</td>\n",
       "    </tr>\n",
       "    <tr>\n",
       "      <th>2018-04-30</th>\n",
       "      <td>NaN</td>\n",
       "    </tr>\n",
       "    <tr>\n",
       "      <th>2018-05-01</th>\n",
       "      <td>NaN</td>\n",
       "    </tr>\n",
       "    <tr>\n",
       "      <th>2018-05-01</th>\n",
       "      <td>NaN</td>\n",
       "    </tr>\n",
       "    <tr>\n",
       "      <th>2018-05-01</th>\n",
       "      <td>NaN</td>\n",
       "    </tr>\n",
       "  </tbody>\n",
       "</table>\n",
       "<p>458 rows × 1 columns</p>\n",
       "</div>"
      ],
      "text/plain": [
       "            Suspended Matter\n",
       "2018-01-02               NaN\n",
       "2018-01-03          0.543888\n",
       "2018-01-06          0.532147\n",
       "2018-01-07          0.541483\n",
       "2018-01-10          0.513277\n",
       "...                      ...\n",
       "2018-04-30               NaN\n",
       "2018-04-30               NaN\n",
       "2018-05-01               NaN\n",
       "2018-05-01               NaN\n",
       "2018-05-01               NaN\n",
       "\n",
       "[458 rows x 1 columns]"
      ]
     },
     "execution_count": 14,
     "metadata": {},
     "output_type": "execute_result"
    }
   ],
   "source": [
    "df7"
   ]
  },
  {
   "cell_type": "code",
   "execution_count": 15,
   "id": "5af9c7e9",
   "metadata": {},
   "outputs": [
    {
     "data": {
      "text/html": [
       "<a href='Suspended Matter.csv' target='_blank'>Suspended Matter.csv</a><br>"
      ],
      "text/plain": [
       "C:\\Users\\HP\\Desktop\\Omdena\\Suspended Matter.csv"
      ]
     },
     "execution_count": 15,
     "metadata": {},
     "output_type": "execute_result"
    }
   ],
   "source": [
    "df7.to_csv('Suspended Matter.csv')\n",
    "from IPython.display import FileLink\n",
    "FileLink('Suspended Matter.csv')"
   ]
  },
  {
   "cell_type": "code",
   "execution_count": 17,
   "id": "5939cc14",
   "metadata": {},
   "outputs": [
    {
     "data": {
      "image/png": "[encoded data removed]",
      "text/plain": [
       "<Figure size 640x480 with 1 Axes>"
      ]
     },
     "metadata": {},
     "output_type": "display_data"
    }
   ],
   "source": [
    "import matplotlib.pyplot as plt\n",
    "\n",
    "# create line chart\n",
    "plt.plot(df7.index, df7['Suspended Matter'])\n",
    "\n",
    "# set chart title and axis labels\n",
    "plt.title('Suspended Matter Over Time')\n",
    "plt.xlabel('Date')\n",
    "plt.ylabel('Suspended Matter')\n",
    "\n",
    "# display chart\n",
    "plt.show()"
   ]
  },
  {
   "cell_type": "code",
   "execution_count": null,
   "id": "e0363007",
   "metadata": {},
   "outputs": [],
   "source": []
  }
 ],
 "metadata": {
  "kernelspec": {
   "display_name": "Python 3 (ipykernel)",
   "language": "python",
   "name": "python3"
  },
  "language_info": {
   "codemirror_mode": {
    "name": "ipython",
    "version": 3
   },
   "file_extension": ".py",
   "mimetype": "text/x-python",
   "name": "python",
   "nbconvert_exporter": "python",
   "pygments_lexer": "ipython3",
   "version": "3.10.1"
  }
 },
 "nbformat": 4,
 "nbformat_minor": 5
}
