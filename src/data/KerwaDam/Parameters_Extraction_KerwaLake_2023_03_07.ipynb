{
  "nbformat": 4,
  "nbformat_minor": 0,
  "metadata": {
    "colab": {
      "provenance": []
    },
    "kernelspec": {
      "name": "python3",
      "display_name": "Python 3"
    },
    "language_info": {
      "name": "python"
    },
    "accelerator": "TPU",
    "gpuClass": "standard"
  },
  "cells": [
    {
      "cell_type": "markdown",
      "source": [
        "# Reference\n",
        "Adapted for Kerwa Lake coordinates and geometry based on the code by Pushpendra Kushwaha\n",
        "\n",
        "https://colab.research.google.com/drive/1A_XxXivyGY4y-ize5adNReYjMEgJgy8Z#scrollTo=0ezYwq74Z9di\n",
        "\n"
      ],
      "metadata": {
        "id": "wRWoSiuzMKAD"
      }
    },
    {
      "cell_type": "code",
      "source": [
        " !pip install geemap"
      ],
      "metadata": {
        "colab": {
          "base_uri": "https://localhost:8080/"
        },
        "id": "UogFxHUz-h1x",
        "outputId": "79fe0520-9b40-4233-cb02-2f13c8723cd8"
      },
      "execution_count": 3,
      "outputs": [
        {
          "output_type": "stream",
          "name": "stdout",
          "text": [
            "Looking in indexes: https://pypi.org/simple, https://us-python.pkg.dev/colab-wheels/public/simple/\n",
            "Requirement already satisfied: geemap in /usr/local/lib/python3.9/dist-packages (0.20.1)\n",
            "Requirement already satisfied: whiteboxgui>=0.6.0 in /usr/local/lib/python3.9/dist-packages (from geemap) (2.2.0)\n",
            "Requirement already satisfied: matplotlib in /usr/local/lib/python3.9/dist-packages (from geemap) (3.5.3)\n",
            "Requirement already satisfied: ipyevents in /usr/local/lib/python3.9/dist-packages (from geemap) (2.0.1)\n",
            "Requirement already satisfied: gdown in /usr/local/lib/python3.9/dist-packages (from geemap) (4.4.0)\n",
            "Requirement already satisfied: ffmpeg-python in /usr/local/lib/python3.9/dist-packages (from geemap) (0.2.0)\n",
            "Requirement already satisfied: pyshp>=2.1.3 in /usr/local/lib/python3.9/dist-packages (from geemap) (2.3.1)\n",
            "Requirement already satisfied: geocoder in /usr/local/lib/python3.9/dist-packages (from geemap) (1.38.1)\n",
            "Requirement already satisfied: scooby in /usr/local/lib/python3.9/dist-packages (from geemap) (0.7.1)\n",
            "Requirement already satisfied: colour in /usr/local/lib/python3.9/dist-packages (from geemap) (0.1.5)\n",
            "Requirement already satisfied: folium>=0.11.0 in /usr/local/lib/python3.9/dist-packages (from geemap) (0.12.1.post1)\n",
            "Requirement already satisfied: earthengine-api>=0.1.304 in /usr/local/lib/python3.9/dist-packages (from geemap) (0.1.343)\n",
            "Requirement already satisfied: geojson in /usr/local/lib/python3.9/dist-packages (from geemap) (3.0.1)\n",
            "Requirement already satisfied: pycrs in /usr/local/lib/python3.9/dist-packages (from geemap) (1.0.2)\n",
            "Requirement already satisfied: ipytree in /usr/local/lib/python3.9/dist-packages (from geemap) (0.2.2)\n",
            "Requirement already satisfied: numpy in /usr/local/lib/python3.9/dist-packages (from geemap) (1.24.2)\n",
            "Requirement already satisfied: sankee>=0.1.0 in /usr/local/lib/python3.9/dist-packages (from geemap) (0.2.1)\n",
            "Requirement already satisfied: xyzservices in /usr/local/lib/python3.9/dist-packages (from geemap) (2023.2.0)\n",
            "Requirement already satisfied: eerepr>=0.0.4 in /usr/local/lib/python3.9/dist-packages (from geemap) (0.0.4)\n",
            "Requirement already satisfied: geeadd>=0.5.1 in /usr/local/lib/python3.9/dist-packages (from geemap) (0.5.6)\n",
            "Requirement already satisfied: python-box in /usr/local/lib/python3.9/dist-packages (from geemap) (7.0.1)\n",
            "Requirement already satisfied: ipyfilechooser>=0.6.0 in /usr/local/lib/python3.9/dist-packages (from geemap) (0.6.0)\n",
            "Requirement already satisfied: pillow in /usr/local/lib/python3.9/dist-packages (from geemap) (8.4.0)\n",
            "Requirement already satisfied: ipywidgets<8.0.0 in /usr/local/lib/python3.9/dist-packages (from geemap) (7.7.1)\n",
            "Requirement already satisfied: pandas in /usr/local/lib/python3.9/dist-packages (from geemap) (1.3.5)\n",
            "Requirement already satisfied: pyperclip in /usr/local/lib/python3.9/dist-packages (from geemap) (1.8.2)\n",
            "Requirement already satisfied: ee-extra>=0.0.10 in /usr/local/lib/python3.9/dist-packages (from geemap) (0.0.15)\n",
            "Requirement already satisfied: bqplot in /usr/local/lib/python3.9/dist-packages (from geemap) (0.12.36)\n",
            "Requirement already satisfied: ipyleaflet>=0.17.0 in /usr/local/lib/python3.9/dist-packages (from geemap) (0.17.2)\n",
            "Requirement already satisfied: google-cloud-storage in /usr/local/lib/python3.9/dist-packages (from earthengine-api>=0.1.304->geemap) (2.7.0)\n",
            "Requirement already satisfied: httplib2<1dev,>=0.9.2 in /usr/local/lib/python3.9/dist-packages (from earthengine-api>=0.1.304->geemap) (0.17.4)\n",
            "Requirement already satisfied: google-auth-httplib2>=0.0.3 in /usr/local/lib/python3.9/dist-packages (from earthengine-api>=0.1.304->geemap) (0.1.0)\n",
            "Requirement already satisfied: google-auth>=1.4.1 in /usr/local/lib/python3.9/dist-packages (from earthengine-api>=0.1.304->geemap) (2.16.2)\n",
            "Requirement already satisfied: requests in /usr/local/lib/python3.9/dist-packages (from earthengine-api>=0.1.304->geemap) (2.25.1)\n",
            "Requirement already satisfied: google-api-python-client>=1.12.1 in /usr/local/lib/python3.9/dist-packages (from earthengine-api>=0.1.304->geemap) (2.70.0)\n",
            "Requirement already satisfied: jinja2>=2.9 in /usr/local/lib/python3.9/dist-packages (from folium>=0.11.0->geemap) (3.1.2)\n",
            "Requirement already satisfied: branca>=0.3.0 in /usr/local/lib/python3.9/dist-packages (from folium>=0.11.0->geemap) (0.6.0)\n",
            "Requirement already satisfied: beautifulsoup4>=4.9.0 in /usr/local/lib/python3.9/dist-packages (from geeadd>=0.5.1->geemap) (4.11.2)\n",
            "Requirement already satisfied: logzero>=1.5.0 in /usr/local/lib/python3.9/dist-packages (from geeadd>=0.5.1->geemap) (1.7.0)\n",
            "Requirement already satisfied: traittypes<3,>=0.2.1 in /usr/local/lib/python3.9/dist-packages (from ipyleaflet>=0.17.0->geemap) (0.2.1)\n",
            "Requirement already satisfied: ipython-genutils~=0.2.0 in /usr/local/lib/python3.9/dist-packages (from ipywidgets<8.0.0->geemap) (0.2.0)\n",
            "Requirement already satisfied: traitlets>=4.3.1 in /usr/local/lib/python3.9/dist-packages (from ipywidgets<8.0.0->geemap) (5.7.1)\n",
            "Requirement already satisfied: widgetsnbextension~=3.6.0 in /usr/local/lib/python3.9/dist-packages (from ipywidgets<8.0.0->geemap) (3.6.2)\n",
            "Requirement already satisfied: ipython>=4.0.0 in /usr/local/lib/python3.9/dist-packages (from ipywidgets<8.0.0->geemap) (7.9.0)\n",
            "Requirement already satisfied: ipykernel>=4.5.1 in /usr/local/lib/python3.9/dist-packages (from ipywidgets<8.0.0->geemap) (5.3.4)\n",
            "Requirement already satisfied: jupyterlab-widgets>=1.0.0 in /usr/local/lib/python3.9/dist-packages (from ipywidgets<8.0.0->geemap) (3.0.5)\n",
            "Requirement already satisfied: plotly>=5.2.2 in /usr/local/lib/python3.9/dist-packages (from sankee>=0.1.0->geemap) (5.5.0)\n",
            "Requirement already satisfied: whitebox in /usr/local/lib/python3.9/dist-packages (from whiteboxgui>=0.6.0->geemap) (2.2.0)\n",
            "Requirement already satisfied: pytz>=2017.3 in /usr/local/lib/python3.9/dist-packages (from pandas->geemap) (2022.7.1)\n",
            "Requirement already satisfied: python-dateutil>=2.7.3 in /usr/local/lib/python3.9/dist-packages (from pandas->geemap) (2.8.2)\n",
            "Requirement already satisfied: future in /usr/local/lib/python3.9/dist-packages (from ffmpeg-python->geemap) (0.16.0)\n",
            "Requirement already satisfied: tqdm in /usr/local/lib/python3.9/dist-packages (from gdown->geemap) (4.65.0)\n",
            "Requirement already satisfied: six in /usr/local/lib/python3.9/dist-packages (from gdown->geemap) (1.15.0)\n",
            "Requirement already satisfied: filelock in /usr/local/lib/python3.9/dist-packages (from gdown->geemap) (3.9.0)\n",
            "Requirement already satisfied: ratelim in /usr/local/lib/python3.9/dist-packages (from geocoder->geemap) (0.1.6)\n",
            "Requirement already satisfied: click in /usr/local/lib/python3.9/dist-packages (from geocoder->geemap) (8.1.3)\n",
            "Requirement already satisfied: cycler>=0.10 in /usr/local/lib/python3.9/dist-packages (from matplotlib->geemap) (0.11.0)\n",
            "Requirement already satisfied: pyparsing>=2.2.1 in /usr/local/lib/python3.9/dist-packages (from matplotlib->geemap) (3.0.9)\n",
            "Requirement already satisfied: kiwisolver>=1.0.1 in /usr/local/lib/python3.9/dist-packages (from matplotlib->geemap) (1.4.4)\n",
            "Requirement already satisfied: packaging>=20.0 in /usr/local/lib/python3.9/dist-packages (from matplotlib->geemap) (23.0)\n",
            "Requirement already satisfied: fonttools>=4.22.0 in /usr/local/lib/python3.9/dist-packages (from matplotlib->geemap) (4.39.0)\n",
            "Requirement already satisfied: soupsieve>1.2 in /usr/local/lib/python3.9/dist-packages (from beautifulsoup4>=4.9.0->geeadd>=0.5.1->geemap) (2.4)\n",
            "Requirement already satisfied: google-api-core!=2.0.*,!=2.1.*,!=2.2.*,!=2.3.0,<3.0.0dev,>=1.31.5 in /usr/local/lib/python3.9/dist-packages (from google-api-python-client>=1.12.1->earthengine-api>=0.1.304->geemap) (2.11.0)\n",
            "Requirement already satisfied: uritemplate<5,>=3.0.1 in /usr/local/lib/python3.9/dist-packages (from google-api-python-client>=1.12.1->earthengine-api>=0.1.304->geemap) (4.1.1)\n",
            "Requirement already satisfied: cachetools<6.0,>=2.0.0 in /usr/local/lib/python3.9/dist-packages (from google-auth>=1.4.1->earthengine-api>=0.1.304->geemap) (5.3.0)\n",
            "Requirement already satisfied: rsa<5,>=3.1.4 in /usr/local/lib/python3.9/dist-packages (from google-auth>=1.4.1->earthengine-api>=0.1.304->geemap) (4.9)\n",
            "Requirement already satisfied: pyasn1-modules>=0.2.1 in /usr/local/lib/python3.9/dist-packages (from google-auth>=1.4.1->earthengine-api>=0.1.304->geemap) (0.2.8)\n",
            "Requirement already satisfied: tornado>=4.2 in /usr/local/lib/python3.9/dist-packages (from ipykernel>=4.5.1->ipywidgets<8.0.0->geemap) (6.2)\n",
            "Requirement already satisfied: jupyter-client in /usr/local/lib/python3.9/dist-packages (from ipykernel>=4.5.1->ipywidgets<8.0.0->geemap) (6.1.12)\n",
            "Requirement already satisfied: decorator in /usr/local/lib/python3.9/dist-packages (from ipython>=4.0.0->ipywidgets<8.0.0->geemap) (4.4.2)\n",
            "Requirement already satisfied: jedi>=0.10 in /usr/local/lib/python3.9/dist-packages (from ipython>=4.0.0->ipywidgets<8.0.0->geemap) (0.18.2)\n",
            "Requirement already satisfied: pexpect in /usr/local/lib/python3.9/dist-packages (from ipython>=4.0.0->ipywidgets<8.0.0->geemap) (4.8.0)\n",
            "Requirement already satisfied: backcall in /usr/local/lib/python3.9/dist-packages (from ipython>=4.0.0->ipywidgets<8.0.0->geemap) (0.2.0)\n",
            "Requirement already satisfied: pickleshare in /usr/local/lib/python3.9/dist-packages (from ipython>=4.0.0->ipywidgets<8.0.0->geemap) (0.7.5)\n",
            "Requirement already satisfied: prompt-toolkit<2.1.0,>=2.0.0 in /usr/local/lib/python3.9/dist-packages (from ipython>=4.0.0->ipywidgets<8.0.0->geemap) (2.0.10)\n",
            "Requirement already satisfied: pygments in /usr/local/lib/python3.9/dist-packages (from ipython>=4.0.0->ipywidgets<8.0.0->geemap) (2.6.1)\n",
            "Requirement already satisfied: setuptools>=18.5 in /usr/local/lib/python3.9/dist-packages (from ipython>=4.0.0->ipywidgets<8.0.0->geemap) (57.4.0)\n",
            "Requirement already satisfied: MarkupSafe>=2.0 in /usr/local/lib/python3.9/dist-packages (from jinja2>=2.9->folium>=0.11.0->geemap) (2.1.2)\n",
            "Requirement already satisfied: tenacity>=6.2.0 in /usr/local/lib/python3.9/dist-packages (from plotly>=5.2.2->sankee>=0.1.0->geemap) (8.2.2)\n",
            "Requirement already satisfied: urllib3<1.27,>=1.21.1 in /usr/local/lib/python3.9/dist-packages (from requests->earthengine-api>=0.1.304->geemap) (1.26.14)\n",
            "Requirement already satisfied: idna<3,>=2.5 in /usr/local/lib/python3.9/dist-packages (from requests->earthengine-api>=0.1.304->geemap) (2.10)\n",
            "Requirement already satisfied: certifi>=2017.4.17 in /usr/local/lib/python3.9/dist-packages (from requests->earthengine-api>=0.1.304->geemap) (2022.12.7)\n",
            "Requirement already satisfied: chardet<5,>=3.0.2 in /usr/local/lib/python3.9/dist-packages (from requests->earthengine-api>=0.1.304->geemap) (4.0.0)\n",
            "Requirement already satisfied: notebook>=4.4.1 in /usr/local/lib/python3.9/dist-packages (from widgetsnbextension~=3.6.0->ipywidgets<8.0.0->geemap) (6.3.0)\n",
            "Requirement already satisfied: google-cloud-core<3.0dev,>=2.3.0 in /usr/local/lib/python3.9/dist-packages (from google-cloud-storage->earthengine-api>=0.1.304->geemap) (2.3.2)\n",
            "Requirement already satisfied: google-resumable-media>=2.3.2 in /usr/local/lib/python3.9/dist-packages (from google-cloud-storage->earthengine-api>=0.1.304->geemap) (2.4.1)\n",
            "Requirement already satisfied: PySocks!=1.5.7,>=1.5.6 in /usr/local/lib/python3.9/dist-packages (from requests->earthengine-api>=0.1.304->geemap) (1.7.1)\n",
            "Requirement already satisfied: protobuf!=3.20.0,!=3.20.1,!=4.21.0,!=4.21.1,!=4.21.2,!=4.21.3,!=4.21.4,!=4.21.5,<5.0.0dev,>=3.19.5 in /usr/local/lib/python3.9/dist-packages (from google-api-core!=2.0.*,!=2.1.*,!=2.2.*,!=2.3.0,<3.0.0dev,>=1.31.5->google-api-python-client>=1.12.1->earthengine-api>=0.1.304->geemap) (3.19.6)\n",
            "Requirement already satisfied: googleapis-common-protos<2.0dev,>=1.56.2 in /usr/local/lib/python3.9/dist-packages (from google-api-core!=2.0.*,!=2.1.*,!=2.2.*,!=2.3.0,<3.0.0dev,>=1.31.5->google-api-python-client>=1.12.1->earthengine-api>=0.1.304->geemap) (1.58.0)\n",
            "Requirement already satisfied: google-crc32c<2.0dev,>=1.0 in /usr/local/lib/python3.9/dist-packages (from google-resumable-media>=2.3.2->google-cloud-storage->earthengine-api>=0.1.304->geemap) (1.5.0)\n",
            "Requirement already satisfied: parso<0.9.0,>=0.8.0 in /usr/local/lib/python3.9/dist-packages (from jedi>=0.10->ipython>=4.0.0->ipywidgets<8.0.0->geemap) (0.8.3)\n",
            "Requirement already satisfied: nbformat in /usr/local/lib/python3.9/dist-packages (from notebook>=4.4.1->widgetsnbextension~=3.6.0->ipywidgets<8.0.0->geemap) (5.7.3)\n",
            "Requirement already satisfied: terminado>=0.8.3 in /usr/local/lib/python3.9/dist-packages (from notebook>=4.4.1->widgetsnbextension~=3.6.0->ipywidgets<8.0.0->geemap) (0.17.1)\n",
            "Requirement already satisfied: jupyter-core>=4.6.1 in /usr/local/lib/python3.9/dist-packages (from notebook>=4.4.1->widgetsnbextension~=3.6.0->ipywidgets<8.0.0->geemap) (5.2.0)\n",
            "Requirement already satisfied: pyzmq>=17 in /usr/local/lib/python3.9/dist-packages (from notebook>=4.4.1->widgetsnbextension~=3.6.0->ipywidgets<8.0.0->geemap) (23.2.1)\n",
            "Requirement already satisfied: argon2-cffi in /usr/local/lib/python3.9/dist-packages (from notebook>=4.4.1->widgetsnbextension~=3.6.0->ipywidgets<8.0.0->geemap) (21.3.0)\n",
            "Requirement already satisfied: nbconvert in /usr/local/lib/python3.9/dist-packages (from notebook>=4.4.1->widgetsnbextension~=3.6.0->ipywidgets<8.0.0->geemap) (6.5.4)\n",
            "Requirement already satisfied: prometheus-client in /usr/local/lib/python3.9/dist-packages (from notebook>=4.4.1->widgetsnbextension~=3.6.0->ipywidgets<8.0.0->geemap) (0.16.0)\n",
            "Requirement already satisfied: Send2Trash>=1.5.0 in /usr/local/lib/python3.9/dist-packages (from notebook>=4.4.1->widgetsnbextension~=3.6.0->ipywidgets<8.0.0->geemap) (1.8.0)\n",
            "Requirement already satisfied: wcwidth in /usr/local/lib/python3.9/dist-packages (from prompt-toolkit<2.1.0,>=2.0.0->ipython>=4.0.0->ipywidgets<8.0.0->geemap) (0.2.6)\n",
            "Requirement already satisfied: pyasn1<0.5.0,>=0.4.6 in /usr/local/lib/python3.9/dist-packages (from pyasn1-modules>=0.2.1->google-auth>=1.4.1->earthengine-api>=0.1.304->geemap) (0.4.8)\n",
            "Requirement already satisfied: ptyprocess>=0.5 in /usr/local/lib/python3.9/dist-packages (from pexpect->ipython>=4.0.0->ipywidgets<8.0.0->geemap) (0.7.0)\n",
            "Requirement already satisfied: platformdirs>=2.5 in /usr/local/lib/python3.9/dist-packages (from jupyter-core>=4.6.1->notebook>=4.4.1->widgetsnbextension~=3.6.0->ipywidgets<8.0.0->geemap) (3.1.0)\n",
            "Requirement already satisfied: argon2-cffi-bindings in /usr/local/lib/python3.9/dist-packages (from argon2-cffi->notebook>=4.4.1->widgetsnbextension~=3.6.0->ipywidgets<8.0.0->geemap) (21.2.0)\n",
            "Requirement already satisfied: bleach in /usr/local/lib/python3.9/dist-packages (from nbconvert->notebook>=4.4.1->widgetsnbextension~=3.6.0->ipywidgets<8.0.0->geemap) (6.0.0)\n",
            "Requirement already satisfied: entrypoints>=0.2.2 in /usr/local/lib/python3.9/dist-packages (from nbconvert->notebook>=4.4.1->widgetsnbextension~=3.6.0->ipywidgets<8.0.0->geemap) (0.4)\n",
            "Requirement already satisfied: mistune<2,>=0.8.1 in /usr/local/lib/python3.9/dist-packages (from nbconvert->notebook>=4.4.1->widgetsnbextension~=3.6.0->ipywidgets<8.0.0->geemap) (0.8.4)\n",
            "Requirement already satisfied: defusedxml in /usr/local/lib/python3.9/dist-packages (from nbconvert->notebook>=4.4.1->widgetsnbextension~=3.6.0->ipywidgets<8.0.0->geemap) (0.7.1)\n",
            "Requirement already satisfied: lxml in /usr/local/lib/python3.9/dist-packages (from nbconvert->notebook>=4.4.1->widgetsnbextension~=3.6.0->ipywidgets<8.0.0->geemap) (4.9.2)\n",
            "Requirement already satisfied: nbclient>=0.5.0 in /usr/local/lib/python3.9/dist-packages (from nbconvert->notebook>=4.4.1->widgetsnbextension~=3.6.0->ipywidgets<8.0.0->geemap) (0.7.2)\n",
            "Requirement already satisfied: pandocfilters>=1.4.1 in /usr/local/lib/python3.9/dist-packages (from nbconvert->notebook>=4.4.1->widgetsnbextension~=3.6.0->ipywidgets<8.0.0->geemap) (1.5.0)\n",
            "Requirement already satisfied: tinycss2 in /usr/local/lib/python3.9/dist-packages (from nbconvert->notebook>=4.4.1->widgetsnbextension~=3.6.0->ipywidgets<8.0.0->geemap) (1.2.1)\n",
            "Requirement already satisfied: jupyterlab-pygments in /usr/local/lib/python3.9/dist-packages (from nbconvert->notebook>=4.4.1->widgetsnbextension~=3.6.0->ipywidgets<8.0.0->geemap) (0.2.2)\n",
            "Requirement already satisfied: jsonschema>=2.6 in /usr/local/lib/python3.9/dist-packages (from nbformat->notebook>=4.4.1->widgetsnbextension~=3.6.0->ipywidgets<8.0.0->geemap) (4.3.3)\n",
            "Requirement already satisfied: fastjsonschema in /usr/local/lib/python3.9/dist-packages (from nbformat->notebook>=4.4.1->widgetsnbextension~=3.6.0->ipywidgets<8.0.0->geemap) (2.16.3)\n",
            "Requirement already satisfied: attrs>=17.4.0 in /usr/local/lib/python3.9/dist-packages (from jsonschema>=2.6->nbformat->notebook>=4.4.1->widgetsnbextension~=3.6.0->ipywidgets<8.0.0->geemap) (22.2.0)\n",
            "Requirement already satisfied: pyrsistent!=0.17.0,!=0.17.1,!=0.17.2,>=0.14.0 in /usr/local/lib/python3.9/dist-packages (from jsonschema>=2.6->nbformat->notebook>=4.4.1->widgetsnbextension~=3.6.0->ipywidgets<8.0.0->geemap) (0.19.3)\n",
            "Requirement already satisfied: cffi>=1.0.1 in /usr/local/lib/python3.9/dist-packages (from argon2-cffi-bindings->argon2-cffi->notebook>=4.4.1->widgetsnbextension~=3.6.0->ipywidgets<8.0.0->geemap) (1.15.1)\n",
            "Requirement already satisfied: webencodings in /usr/local/lib/python3.9/dist-packages (from bleach->nbconvert->notebook>=4.4.1->widgetsnbextension~=3.6.0->ipywidgets<8.0.0->geemap) (0.5.1)\n",
            "Requirement already satisfied: pycparser in /usr/local/lib/python3.9/dist-packages (from cffi>=1.0.1->argon2-cffi-bindings->argon2-cffi->notebook>=4.4.1->widgetsnbextension~=3.6.0->ipywidgets<8.0.0->geemap) (2.21)\n"
          ]
        }
      ]
    },
    {
      "cell_type": "code",
      "source": [
        "!pip install geehydro"
      ],
      "metadata": {
        "colab": {
          "base_uri": "https://localhost:8080/"
        },
        "id": "rYYQvyGZ_bwq",
        "outputId": "7e125be1-96e2-4c39-fc28-75ffb5d71cea"
      },
      "execution_count": 4,
      "outputs": [
        {
          "output_type": "stream",
          "name": "stdout",
          "text": [
            "Looking in indexes: https://pypi.org/simple, https://us-python.pkg.dev/colab-wheels/public/simple/\n",
            "Requirement already satisfied: geehydro in /usr/local/lib/python3.9/dist-packages (0.2.0)\n",
            "Requirement already satisfied: click in /usr/local/lib/python3.9/dist-packages (from geehydro) (8.1.3)\n",
            "Requirement already satisfied: folium in /usr/local/lib/python3.9/dist-packages (from geehydro) (0.12.1.post1)\n",
            "Requirement already satisfied: earthengine-api in /usr/local/lib/python3.9/dist-packages (from geehydro) (0.1.343)\n",
            "Requirement already satisfied: google-cloud-storage in /usr/local/lib/python3.9/dist-packages (from earthengine-api->geehydro) (2.7.0)\n",
            "Requirement already satisfied: google-auth-httplib2>=0.0.3 in /usr/local/lib/python3.9/dist-packages (from earthengine-api->geehydro) (0.1.0)\n",
            "Requirement already satisfied: google-api-python-client>=1.12.1 in /usr/local/lib/python3.9/dist-packages (from earthengine-api->geehydro) (2.70.0)\n",
            "Requirement already satisfied: google-auth>=1.4.1 in /usr/local/lib/python3.9/dist-packages (from earthengine-api->geehydro) (2.16.2)\n",
            "Requirement already satisfied: requests in /usr/local/lib/python3.9/dist-packages (from earthengine-api->geehydro) (2.25.1)\n",
            "Requirement already satisfied: httplib2<1dev,>=0.9.2 in /usr/local/lib/python3.9/dist-packages (from earthengine-api->geehydro) (0.17.4)\n",
            "Requirement already satisfied: jinja2>=2.9 in /usr/local/lib/python3.9/dist-packages (from folium->geehydro) (3.1.2)\n",
            "Requirement already satisfied: branca>=0.3.0 in /usr/local/lib/python3.9/dist-packages (from folium->geehydro) (0.6.0)\n",
            "Requirement already satisfied: numpy in /usr/local/lib/python3.9/dist-packages (from folium->geehydro) (1.24.2)\n",
            "Requirement already satisfied: uritemplate<5,>=3.0.1 in /usr/local/lib/python3.9/dist-packages (from google-api-python-client>=1.12.1->earthengine-api->geehydro) (4.1.1)\n",
            "Requirement already satisfied: google-api-core!=2.0.*,!=2.1.*,!=2.2.*,!=2.3.0,<3.0.0dev,>=1.31.5 in /usr/local/lib/python3.9/dist-packages (from google-api-python-client>=1.12.1->earthengine-api->geehydro) (2.11.0)\n",
            "Requirement already satisfied: cachetools<6.0,>=2.0.0 in /usr/local/lib/python3.9/dist-packages (from google-auth>=1.4.1->earthengine-api->geehydro) (5.3.0)\n",
            "Requirement already satisfied: pyasn1-modules>=0.2.1 in /usr/local/lib/python3.9/dist-packages (from google-auth>=1.4.1->earthengine-api->geehydro) (0.2.8)\n",
            "Requirement already satisfied: rsa<5,>=3.1.4 in /usr/local/lib/python3.9/dist-packages (from google-auth>=1.4.1->earthengine-api->geehydro) (4.9)\n",
            "Requirement already satisfied: six>=1.9.0 in /usr/local/lib/python3.9/dist-packages (from google-auth>=1.4.1->earthengine-api->geehydro) (1.15.0)\n",
            "Requirement already satisfied: MarkupSafe>=2.0 in /usr/local/lib/python3.9/dist-packages (from jinja2>=2.9->folium->geehydro) (2.1.2)\n",
            "Requirement already satisfied: google-cloud-core<3.0dev,>=2.3.0 in /usr/local/lib/python3.9/dist-packages (from google-cloud-storage->earthengine-api->geehydro) (2.3.2)\n",
            "Requirement already satisfied: google-resumable-media>=2.3.2 in /usr/local/lib/python3.9/dist-packages (from google-cloud-storage->earthengine-api->geehydro) (2.4.1)\n",
            "Requirement already satisfied: certifi>=2017.4.17 in /usr/local/lib/python3.9/dist-packages (from requests->earthengine-api->geehydro) (2022.12.7)\n",
            "Requirement already satisfied: idna<3,>=2.5 in /usr/local/lib/python3.9/dist-packages (from requests->earthengine-api->geehydro) (2.10)\n",
            "Requirement already satisfied: urllib3<1.27,>=1.21.1 in /usr/local/lib/python3.9/dist-packages (from requests->earthengine-api->geehydro) (1.26.14)\n",
            "Requirement already satisfied: chardet<5,>=3.0.2 in /usr/local/lib/python3.9/dist-packages (from requests->earthengine-api->geehydro) (4.0.0)\n",
            "Requirement already satisfied: protobuf!=3.20.0,!=3.20.1,!=4.21.0,!=4.21.1,!=4.21.2,!=4.21.3,!=4.21.4,!=4.21.5,<5.0.0dev,>=3.19.5 in /usr/local/lib/python3.9/dist-packages (from google-api-core!=2.0.*,!=2.1.*,!=2.2.*,!=2.3.0,<3.0.0dev,>=1.31.5->google-api-python-client>=1.12.1->earthengine-api->geehydro) (3.19.6)\n",
            "Requirement already satisfied: googleapis-common-protos<2.0dev,>=1.56.2 in /usr/local/lib/python3.9/dist-packages (from google-api-core!=2.0.*,!=2.1.*,!=2.2.*,!=2.3.0,<3.0.0dev,>=1.31.5->google-api-python-client>=1.12.1->earthengine-api->geehydro) (1.58.0)\n",
            "Requirement already satisfied: google-crc32c<2.0dev,>=1.0 in /usr/local/lib/python3.9/dist-packages (from google-resumable-media>=2.3.2->google-cloud-storage->earthengine-api->geehydro) (1.5.0)\n",
            "Requirement already satisfied: pyasn1<0.5.0,>=0.4.6 in /usr/local/lib/python3.9/dist-packages (from pyasn1-modules>=0.2.1->google-auth>=1.4.1->earthengine-api->geehydro) (0.4.8)\n"
          ]
        }
      ]
    },
    {
      "cell_type": "code",
      "source": [
        "import ee, datetime\n",
        "import pandas as pd\n",
        "import numpy as np\n",
        "import folium\n",
        "import geehydro\n",
        "import datetime as dt\n",
        "import IPython.display\n"
      ],
      "metadata": {
        "id": "L5RHI156-0DL"
      },
      "execution_count": 5,
      "outputs": []
    },
    {
      "cell_type": "code",
      "source": [
        "ee.Authenticate()\n"
      ],
      "metadata": {
        "colab": {
          "base_uri": "https://localhost:8080/"
        },
        "id": "kN493at7Dnyr",
        "outputId": "061efb90-d07e-4290-b346-fbeed1682a0a"
      },
      "execution_count": 6,
      "outputs": [
        {
          "output_type": "stream",
          "name": "stdout",
          "text": [
            "To authorize access needed by Earth Engine, open the following URL in a web browser and follow the instructions. If the web browser does not start automatically, please manually browse the URL below.\n",
            "\n",
            "    https://code.earthengine.google.com/client-auth?scopes=https%3A//www.googleapis.com/auth/earthengine%20https%3A//www.googleapis.com/auth/devstorage.full_control&request_id=ufycG8KW1H6HmAP6OBomCJ_EIJ5qljKmzgxlejHgFSg&tc=LpbQSQCKDAEr3fsfatOwyj76amdkwJ6sGOxa1BiPo70&cc=PVjVs_mLKTq9hqo-zzE-sEJQm3AUPXBjkTcmpI6u8_Y\n",
            "\n",
            "The authorization workflow will generate a code, which you should paste in the box below.\n",
            "Enter verification code: 4/1AWtgzh4eW-KtLfKczItkUwLyQqDZHHh5s624Ewm8Uj_AVjwZH7tkfiLUUyQ\n",
            "\n",
            "Successfully saved authorization token.\n"
          ]
        }
      ]
    },
    {
      "cell_type": "markdown",
      "source": [
        "# Selecting the area of Interest"
      ],
      "metadata": {
        "id": "RQVXfObbAJPK"
      }
    },
    {
      "cell_type": "code",
      "source": [
        "ee.Initialize()"
      ],
      "metadata": {
        "id": "6tP79MTEIlFj"
      },
      "execution_count": 7,
      "outputs": []
    },
    {
      "cell_type": "code",
      "source": [
        "kerwa = folium.Map(location=[23.167912,77.372411], zoom_start=10)\n"
      ],
      "metadata": {
        "id": "kOT2BD9HAMkr"
      },
      "execution_count": 8,
      "outputs": []
    },
    {
      "cell_type": "code",
      "source": [
        "kerwa"
      ],
      "metadata": {
        "colab": {
          "base_uri": "https://localhost:8080/",
          "height": 501
        },
        "id": "Szy5CbppAeF1",
        "outputId": "441cba67-3399-4068-c4bc-269a23d58584"
      },
      "execution_count": 10,
      "outputs": [
        {
          "output_type": "execute_result",
          "data": {
            "text/plain": [
              "<folium.folium.Map at 0x7fd60cdbc610>"
            ],
            "text/html": [
              "<div style=\"width:100%;\"><div style=\"position:relative;width:100%;height:0;padding-bottom:60%;\"><span style=\"color:#565656\">Make this Notebook Trusted to load map: File -> Trust Notebook</span><iframe srcdoc=\"&lt;!DOCTYPE html&gt;\n",
              "&lt;html&gt;\n",
              "&lt;head&gt;\n",
              "    \n",
              "    &lt;meta http-equiv=&quot;content-type&quot; content=&quot;text/html; charset=UTF-8&quot; /&gt;\n",
              "    \n",
              "        &lt;script&gt;\n",
              "            L_NO_TOUCH = false;\n",
              "            L_DISABLE_3D = false;\n",
              "        &lt;/script&gt;\n",
              "    \n",
              "    &lt;style&gt;html, body {width: 100%;height: 100%;margin: 0;padding: 0;}&lt;/style&gt;\n",
              "    &lt;style&gt;#map {position:absolute;top:0;bottom:0;right:0;left:0;}&lt;/style&gt;\n",
              "    &lt;script src=&quot;https://cdn.jsdelivr.net/npm/leaflet@1.6.0/dist/leaflet.js&quot;&gt;&lt;/script&gt;\n",
              "    &lt;script src=&quot;https://code.jquery.com/jquery-1.12.4.min.js&quot;&gt;&lt;/script&gt;\n",
              "    &lt;script src=&quot;https://maxcdn.bootstrapcdn.com/bootstrap/3.2.0/js/bootstrap.min.js&quot;&gt;&lt;/script&gt;\n",
              "    &lt;script src=&quot;https://cdnjs.cloudflare.com/ajax/libs/Leaflet.awesome-markers/2.0.2/leaflet.awesome-markers.js&quot;&gt;&lt;/script&gt;\n",
              "    &lt;link rel=&quot;stylesheet&quot; href=&quot;https://cdn.jsdelivr.net/npm/leaflet@1.6.0/dist/leaflet.css&quot;/&gt;\n",
              "    &lt;link rel=&quot;stylesheet&quot; href=&quot;https://maxcdn.bootstrapcdn.com/bootstrap/3.2.0/css/bootstrap.min.css&quot;/&gt;\n",
              "    &lt;link rel=&quot;stylesheet&quot; href=&quot;https://maxcdn.bootstrapcdn.com/bootstrap/3.2.0/css/bootstrap-theme.min.css&quot;/&gt;\n",
              "    &lt;link rel=&quot;stylesheet&quot; href=&quot;https://maxcdn.bootstrapcdn.com/font-awesome/4.6.3/css/font-awesome.min.css&quot;/&gt;\n",
              "    &lt;link rel=&quot;stylesheet&quot; href=&quot;https://cdnjs.cloudflare.com/ajax/libs/Leaflet.awesome-markers/2.0.2/leaflet.awesome-markers.css&quot;/&gt;\n",
              "    &lt;link rel=&quot;stylesheet&quot; href=&quot;https://cdn.jsdelivr.net/gh/python-visualization/folium/folium/templates/leaflet.awesome.rotate.min.css&quot;/&gt;\n",
              "    \n",
              "            &lt;meta name=&quot;viewport&quot; content=&quot;width=device-width,\n",
              "                initial-scale=1.0, maximum-scale=1.0, user-scalable=no&quot; /&gt;\n",
              "            &lt;style&gt;\n",
              "                #map_b99d91daca23dec4442129345536408c {\n",
              "                    position: relative;\n",
              "                    width: 100.0%;\n",
              "                    height: 100.0%;\n",
              "                    left: 0.0%;\n",
              "                    top: 0.0%;\n",
              "                }\n",
              "            &lt;/style&gt;\n",
              "        \n",
              "&lt;/head&gt;\n",
              "&lt;body&gt;\n",
              "    \n",
              "    \n",
              "            &lt;div class=&quot;folium-map&quot; id=&quot;map_b99d91daca23dec4442129345536408c&quot; &gt;&lt;/div&gt;\n",
              "        \n",
              "&lt;/body&gt;\n",
              "&lt;script&gt;\n",
              "    \n",
              "    \n",
              "            var map_b99d91daca23dec4442129345536408c = L.map(\n",
              "                &quot;map_b99d91daca23dec4442129345536408c&quot;,\n",
              "                {\n",
              "                    center: [23.167912, 77.372411],\n",
              "                    crs: L.CRS.EPSG3857,\n",
              "                    zoom: 10,\n",
              "                    zoomControl: true,\n",
              "                    preferCanvas: false,\n",
              "                }\n",
              "            );\n",
              "\n",
              "            \n",
              "\n",
              "        \n",
              "    \n",
              "            var tile_layer_898caa3236c4437388823fd604403783 = L.tileLayer(\n",
              "                &quot;https://{s}.tile.openstreetmap.org/{z}/{x}/{y}.png&quot;,\n",
              "                {&quot;attribution&quot;: &quot;Data by \\u0026copy; \\u003ca href=\\&quot;http://openstreetmap.org\\&quot;\\u003eOpenStreetMap\\u003c/a\\u003e, under \\u003ca href=\\&quot;http://www.openstreetmap.org/copyright\\&quot;\\u003eODbL\\u003c/a\\u003e.&quot;, &quot;detectRetina&quot;: false, &quot;maxNativeZoom&quot;: 18, &quot;maxZoom&quot;: 18, &quot;minZoom&quot;: 0, &quot;noWrap&quot;: false, &quot;opacity&quot;: 1, &quot;subdomains&quot;: &quot;abc&quot;, &quot;tms&quot;: false}\n",
              "            ).addTo(map_b99d91daca23dec4442129345536408c);\n",
              "        \n",
              "&lt;/script&gt;\n",
              "&lt;/html&gt;\" style=\"position:absolute;width:100%;height:100%;left:0;top:0;border:none !important;\" allowfullscreen webkitallowfullscreen mozallowfullscreen></iframe></div></div>"
            ]
          },
          "metadata": {},
          "execution_count": 10
        }
      ]
    },
    {
      "cell_type": "markdown",
      "source": [
        "# Selecting the satellite and AOI"
      ],
      "metadata": {
        "id": "3bRAxN2PEMHa"
      }
    },
    {
      "cell_type": "code",
      "source": [
        "sentinel = ee.ImageCollection(\"COPERNICUS/S2_SR\").\\\n",
        "               filter(ee.Filter.lt('CLOUDY_PIXEL_PERCENTAGE',20)).\\\n",
        "               filterDate(\"2015-01-01\",\"2023-01-01\")\n",
        "kerwa_AOI = ee.FeatureCollection('users/ferreirawg/kerwa_lake_bhopal')\n",
        "\n",
        "sentinel_AOI = sentinel.filterBounds(kerwa_AOI)\n",
        "               "
      ],
      "metadata": {
        "id": "VEZt1YiwB7KL"
      },
      "execution_count": 11,
      "outputs": []
    },
    {
      "cell_type": "markdown",
      "source": [
        "# Total Number of Images in Image Collection"
      ],
      "metadata": {
        "id": "b96mrbrdEG2y"
      }
    },
    {
      "cell_type": "code",
      "source": [
        "print('Total number of images :', sentinel_AOI.size().getInfo())"
      ],
      "metadata": {
        "colab": {
          "base_uri": "https://localhost:8080/"
        },
        "id": "mfaFFbuGDf8O",
        "outputId": "9555837f-2fd0-4bbc-cbc4-2f782fcc73e0"
      },
      "execution_count": 12,
      "outputs": [
        {
          "output_type": "stream",
          "name": "stdout",
          "text": [
            "Total number of images : 167\n"
          ]
        }
      ]
    },
    {
      "cell_type": "markdown",
      "source": [
        "## **NDCI Calculation**"
      ],
      "metadata": {
        "id": "pLgMAHqKF-4S"
      }
    },
    {
      "cell_type": "markdown",
      "source": [
        "## Iterating over all the images"
      ],
      "metadata": {
        "id": "Ga5YZME6hf-N"
      }
    },
    {
      "cell_type": "code",
      "source": [
        "def addNDCI(image):\n",
        "  ndci = image.normalizedDifference(['B5', 'B4']).rename('NDCI')\n",
        "  return image.addBands(ndci)\n",
        "with_ndci = sentinel_AOI.map(addNDCI)  "
      ],
      "metadata": {
        "id": "BKwneNTJGAs0"
      },
      "execution_count": 13,
      "outputs": []
    },
    {
      "cell_type": "markdown",
      "source": [
        "## Calculating the Average NDCI on every image in the image collection"
      ],
      "metadata": {
        "id": "6vGU8v6mGZkf"
      }
    },
    {
      "cell_type": "code",
      "source": [
        "def meanNDCI(image):\n",
        "  image = ee.Image(image)\n",
        "  mean = image.reduceRegion(reducer = ee.Reducer.mean().setOutputs(['NDCI']),\n",
        "                           geometry = kerwa_AOI,\n",
        "                           scale = image.projection().nominalScale().getInfo(),\n",
        "                           maxPixels = 100000,\n",
        "                           bestEffort = True);\n",
        "  return mean.get('NDCI').getInfo()"
      ],
      "metadata": {
        "id": "aXKFDr9zGgvn"
      },
      "execution_count": 14,
      "outputs": []
    },
    {
      "cell_type": "code",
      "source": [
        "Images_ndci = with_ndci.select('NDCI').toList(with_ndci.size())\n",
        "ndci_coll = []\n",
        "for i in range(Images_ndci.length().getInfo()):\n",
        "  image = ee.Image(Images_ndci.get(i-1))\n",
        "  temp_ndci = meanNDCI(image)\n",
        "  ndci_coll.append(temp_ndci)"
      ],
      "metadata": {
        "id": "UyBDdVnrHRkF"
      },
      "execution_count": 15,
      "outputs": []
    },
    {
      "cell_type": "markdown",
      "source": [
        "## Getting Dates from the Image Collection"
      ],
      "metadata": {
        "id": "PAPzIwOlKJEy"
      }
    },
    {
      "cell_type": "code",
      "source": [
        "dates = np.array(with_ndci.aggregate_array(\"system:time_start\").getInfo())\n",
        "day = [datetime.datetime.fromtimestamp(i/1000).strftime('%Y-%m-%d') for i in (dates)]"
      ],
      "metadata": {
        "id": "ZF9sOE_vKNIO"
      },
      "execution_count": 16,
      "outputs": []
    },
    {
      "cell_type": "markdown",
      "source": [
        "## Creating the Dataframe"
      ],
      "metadata": {
        "id": "qs1mtWfkKr7g"
      }
    },
    {
      "cell_type": "code",
      "source": [
        "df = pd.DataFrame(ndci_coll, index = day, columns = ['Chlorophyll'])\n",
        "df.index = pd.to_datetime(df.index, format=\"%Y/%m/%d\")\n",
        "df.sort_index(ascending = True, inplace = True)"
      ],
      "metadata": {
        "id": "bzqkW-blK-bq"
      },
      "execution_count": 17,
      "outputs": []
    },
    {
      "cell_type": "code",
      "source": [
        "df"
      ],
      "metadata": {
        "colab": {
          "base_uri": "https://localhost:8080/",
          "height": 423
        },
        "id": "rt3YUxSXLICd",
        "outputId": "67ac1872-e335-497b-d917-f02450c509f4"
      },
      "execution_count": 18,
      "outputs": [
        {
          "output_type": "execute_result",
          "data": {
            "text/plain": [
              "            Chlorophyll\n",
              "2018-12-18     0.039289\n",
              "2018-12-23     0.028044\n",
              "2018-12-28     0.025008\n",
              "2019-01-02     0.036703\n",
              "2019-01-07     0.062004\n",
              "...                 ...\n",
              "2022-12-02     0.022974\n",
              "2022-12-07     0.024822\n",
              "2022-12-17     0.029978\n",
              "2022-12-22     0.024113\n",
              "2022-12-27     0.018828\n",
              "\n",
              "[167 rows x 1 columns]"
            ],
            "text/html": [
              "\n",
              "  <div id=\"df-914cee22-09ca-4b79-9967-875d54e7daaa\">\n",
              "    <div class=\"colab-df-container\">\n",
              "      <div>\n",
              "<style scoped>\n",
              "    .dataframe tbody tr th:only-of-type {\n",
              "        vertical-align: middle;\n",
              "    }\n",
              "\n",
              "    .dataframe tbody tr th {\n",
              "        vertical-align: top;\n",
              "    }\n",
              "\n",
              "    .dataframe thead th {\n",
              "        text-align: right;\n",
              "    }\n",
              "</style>\n",
              "<table border=\"1\" class=\"dataframe\">\n",
              "  <thead>\n",
              "    <tr style=\"text-align: right;\">\n",
              "      <th></th>\n",
              "      <th>Chlorophyll</th>\n",
              "    </tr>\n",
              "  </thead>\n",
              "  <tbody>\n",
              "    <tr>\n",
              "      <th>2018-12-18</th>\n",
              "      <td>0.039289</td>\n",
              "    </tr>\n",
              "    <tr>\n",
              "      <th>2018-12-23</th>\n",
              "      <td>0.028044</td>\n",
              "    </tr>\n",
              "    <tr>\n",
              "      <th>2018-12-28</th>\n",
              "      <td>0.025008</td>\n",
              "    </tr>\n",
              "    <tr>\n",
              "      <th>2019-01-02</th>\n",
              "      <td>0.036703</td>\n",
              "    </tr>\n",
              "    <tr>\n",
              "      <th>2019-01-07</th>\n",
              "      <td>0.062004</td>\n",
              "    </tr>\n",
              "    <tr>\n",
              "      <th>...</th>\n",
              "      <td>...</td>\n",
              "    </tr>\n",
              "    <tr>\n",
              "      <th>2022-12-02</th>\n",
              "      <td>0.022974</td>\n",
              "    </tr>\n",
              "    <tr>\n",
              "      <th>2022-12-07</th>\n",
              "      <td>0.024822</td>\n",
              "    </tr>\n",
              "    <tr>\n",
              "      <th>2022-12-17</th>\n",
              "      <td>0.029978</td>\n",
              "    </tr>\n",
              "    <tr>\n",
              "      <th>2022-12-22</th>\n",
              "      <td>0.024113</td>\n",
              "    </tr>\n",
              "    <tr>\n",
              "      <th>2022-12-27</th>\n",
              "      <td>0.018828</td>\n",
              "    </tr>\n",
              "  </tbody>\n",
              "</table>\n",
              "<p>167 rows × 1 columns</p>\n",
              "</div>\n",
              "      <button class=\"colab-df-convert\" onclick=\"convertToInteractive('df-914cee22-09ca-4b79-9967-875d54e7daaa')\"\n",
              "              title=\"Convert this dataframe to an interactive table.\"\n",
              "              style=\"display:none;\">\n",
              "        \n",
              "  <svg xmlns=\"http://www.w3.org/2000/svg\" height=\"24px\"viewBox=\"0 0 24 24\"\n",
              "       width=\"24px\">\n",
              "    <path d=\"M0 0h24v24H0V0z\" fill=\"none\"/>\n",
              "    <path d=\"M18.56 5.44l.94 2.06.94-2.06 2.06-.94-2.06-.94-.94-2.06-.94 2.06-2.06.94zm-11 1L8.5 8.5l.94-2.06 2.06-.94-2.06-.94L8.5 2.5l-.94 2.06-2.06.94zm10 10l.94 2.06.94-2.06 2.06-.94-2.06-.94-.94-2.06-.94 2.06-2.06.94z\"/><path d=\"M17.41 7.96l-1.37-1.37c-.4-.4-.92-.59-1.43-.59-.52 0-1.04.2-1.43.59L10.3 9.45l-7.72 7.72c-.78.78-.78 2.05 0 2.83L4 21.41c.39.39.9.59 1.41.59.51 0 1.02-.2 1.41-.59l7.78-7.78 2.81-2.81c.8-.78.8-2.07 0-2.86zM5.41 20L4 18.59l7.72-7.72 1.47 1.35L5.41 20z\"/>\n",
              "  </svg>\n",
              "      </button>\n",
              "      \n",
              "  <style>\n",
              "    .colab-df-container {\n",
              "      display:flex;\n",
              "      flex-wrap:wrap;\n",
              "      gap: 12px;\n",
              "    }\n",
              "\n",
              "    .colab-df-convert {\n",
              "      background-color: #E8F0FE;\n",
              "      border: none;\n",
              "      border-radius: 50%;\n",
              "      cursor: pointer;\n",
              "      display: none;\n",
              "      fill: #1967D2;\n",
              "      height: 32px;\n",
              "      padding: 0 0 0 0;\n",
              "      width: 32px;\n",
              "    }\n",
              "\n",
              "    .colab-df-convert:hover {\n",
              "      background-color: #E2EBFA;\n",
              "      box-shadow: 0px 1px 2px rgba(60, 64, 67, 0.3), 0px 1px 3px 1px rgba(60, 64, 67, 0.15);\n",
              "      fill: #174EA6;\n",
              "    }\n",
              "\n",
              "    [theme=dark] .colab-df-convert {\n",
              "      background-color: #3B4455;\n",
              "      fill: #D2E3FC;\n",
              "    }\n",
              "\n",
              "    [theme=dark] .colab-df-convert:hover {\n",
              "      background-color: #434B5C;\n",
              "      box-shadow: 0px 1px 3px 1px rgba(0, 0, 0, 0.15);\n",
              "      filter: drop-shadow(0px 1px 2px rgba(0, 0, 0, 0.3));\n",
              "      fill: #FFFFFF;\n",
              "    }\n",
              "  </style>\n",
              "\n",
              "      <script>\n",
              "        const buttonEl =\n",
              "          document.querySelector('#df-914cee22-09ca-4b79-9967-875d54e7daaa button.colab-df-convert');\n",
              "        buttonEl.style.display =\n",
              "          google.colab.kernel.accessAllowed ? 'block' : 'none';\n",
              "\n",
              "        async function convertToInteractive(key) {\n",
              "          const element = document.querySelector('#df-914cee22-09ca-4b79-9967-875d54e7daaa');\n",
              "          const dataTable =\n",
              "            await google.colab.kernel.invokeFunction('convertToInteractive',\n",
              "                                                     [key], {});\n",
              "          if (!dataTable) return;\n",
              "\n",
              "          const docLinkHtml = 'Like what you see? Visit the ' +\n",
              "            '<a target=\"_blank\" href=https://colab.research.google.com/notebooks/data_table.ipynb>data table notebook</a>'\n",
              "            + ' to learn more about interactive tables.';\n",
              "          element.innerHTML = '';\n",
              "          dataTable['output_type'] = 'display_data';\n",
              "          await google.colab.output.renderOutput(dataTable, element);\n",
              "          const docLink = document.createElement('div');\n",
              "          docLink.innerHTML = docLinkHtml;\n",
              "          element.appendChild(docLink);\n",
              "        }\n",
              "      </script>\n",
              "    </div>\n",
              "  </div>\n",
              "  "
            ]
          },
          "metadata": {},
          "execution_count": 18
        }
      ]
    },
    {
      "cell_type": "code",
      "source": [
        "df.to_csv('Chlorophyll.csv')"
      ],
      "metadata": {
        "id": "Cq20Z-Yr2sIy"
      },
      "execution_count": 19,
      "outputs": []
    },
    {
      "cell_type": "markdown",
      "source": [
        "## **NDTI Calculation**"
      ],
      "metadata": {
        "id": "RiteokNeMxS5"
      }
    },
    {
      "cell_type": "markdown",
      "source": [
        "## Iterating over all the images"
      ],
      "metadata": {
        "id": "hmBBdxOYhzBG"
      }
    },
    {
      "cell_type": "code",
      "source": [
        "def addNDTI(image):\n",
        "  ndti = image.normalizedDifference(['B4', 'B3']).rename('NDTI')\n",
        "  return image.addBands(ndti)\n",
        "with_ndti = sentinel_AOI.map(addNDTI)"
      ],
      "metadata": {
        "id": "YwkXL8qTLIvS"
      },
      "execution_count": 20,
      "outputs": []
    },
    {
      "cell_type": "markdown",
      "source": [
        "## Calculating the Average NDTI on every image in the image collection"
      ],
      "metadata": {
        "id": "lCG4uVmidad2"
      }
    },
    {
      "cell_type": "code",
      "source": [
        "def meanNDTI(image):\n",
        "  image = ee.Image(image)\n",
        "  mean = image.reduceRegion(reducer = ee.Reducer.mean().setOutputs(['NDTI']),\n",
        "                           geometry = kerwa_AOI,\n",
        "                           scale = image.projection().nominalScale().getInfo(),\n",
        "                           maxPixels = 100000,\n",
        "                           bestEffort = True);\n",
        "  return mean.get('NDTI').getInfo()"
      ],
      "metadata": {
        "id": "8z6d_MdSMtZ5"
      },
      "execution_count": 21,
      "outputs": []
    },
    {
      "cell_type": "code",
      "source": [
        "Images_ndti = with_ndti.select('NDTI').toList(with_ndti.size())\n",
        "ndti_coll = []\n",
        "for i in range(Images_ndti.length().getInfo()):\n",
        "  image = ee.Image(Images_ndti.get(i-1))\n",
        "  temp_ndti = meanNDTI(image)\n",
        "  ndti_coll.append(temp_ndti)"
      ],
      "metadata": {
        "id": "NfLrv-jiNGUu"
      },
      "execution_count": 22,
      "outputs": []
    },
    {
      "cell_type": "markdown",
      "source": [
        "## Getting Dates from the Image Collection"
      ],
      "metadata": {
        "id": "3VdNo099d2Kv"
      }
    },
    {
      "cell_type": "markdown",
      "source": [],
      "metadata": {
        "id": "DJUilWsIMHIs"
      }
    },
    {
      "cell_type": "code",
      "source": [
        "dates = np.array(with_ndti.aggregate_array(\"system:time_start\").getInfo())\n",
        "day = [datetime.datetime.fromtimestamp(i/1000).strftime('%Y-%m-%d') for i in (dates)]"
      ],
      "metadata": {
        "id": "iNOjW_gNNVl8"
      },
      "execution_count": 23,
      "outputs": []
    },
    {
      "cell_type": "markdown",
      "source": [
        "## Creating the Dataframe"
      ],
      "metadata": {
        "id": "Dda-r-D_d7f9"
      }
    },
    {
      "cell_type": "code",
      "source": [
        "df1 = pd.DataFrame(ndti_coll, index = day, columns = ['Turbidity'])\n",
        "df1.index = pd.to_datetime(df1.index, format=\"%Y/%m/%d\")\n",
        "df1.sort_index(ascending = True, inplace = True)"
      ],
      "metadata": {
        "id": "fxtKVdovOgJY"
      },
      "execution_count": 24,
      "outputs": []
    },
    {
      "cell_type": "code",
      "source": [
        "df1"
      ],
      "metadata": {
        "colab": {
          "base_uri": "https://localhost:8080/",
          "height": 423
        },
        "id": "VOENs_fzOkrD",
        "outputId": "9b99334d-d355-4119-dbc4-69498eddd867"
      },
      "execution_count": 25,
      "outputs": [
        {
          "output_type": "execute_result",
          "data": {
            "text/plain": [
              "            Turbidity\n",
              "2018-12-18  -0.033586\n",
              "2018-12-23  -0.086675\n",
              "2018-12-28  -0.081043\n",
              "2019-01-02  -0.063228\n",
              "2019-01-07  -0.083032\n",
              "...               ...\n",
              "2022-12-02  -0.051859\n",
              "2022-12-07  -0.048762\n",
              "2022-12-17  -0.035299\n",
              "2022-12-22  -0.052715\n",
              "2022-12-27  -0.050831\n",
              "\n",
              "[167 rows x 1 columns]"
            ],
            "text/html": [
              "\n",
              "  <div id=\"df-5bb11482-fafb-44aa-a34d-b37178f0ffe5\">\n",
              "    <div class=\"colab-df-container\">\n",
              "      <div>\n",
              "<style scoped>\n",
              "    .dataframe tbody tr th:only-of-type {\n",
              "        vertical-align: middle;\n",
              "    }\n",
              "\n",
              "    .dataframe tbody tr th {\n",
              "        vertical-align: top;\n",
              "    }\n",
              "\n",
              "    .dataframe thead th {\n",
              "        text-align: right;\n",
              "    }\n",
              "</style>\n",
              "<table border=\"1\" class=\"dataframe\">\n",
              "  <thead>\n",
              "    <tr style=\"text-align: right;\">\n",
              "      <th></th>\n",
              "      <th>Turbidity</th>\n",
              "    </tr>\n",
              "  </thead>\n",
              "  <tbody>\n",
              "    <tr>\n",
              "      <th>2018-12-18</th>\n",
              "      <td>-0.033586</td>\n",
              "    </tr>\n",
              "    <tr>\n",
              "      <th>2018-12-23</th>\n",
              "      <td>-0.086675</td>\n",
              "    </tr>\n",
              "    <tr>\n",
              "      <th>2018-12-28</th>\n",
              "      <td>-0.081043</td>\n",
              "    </tr>\n",
              "    <tr>\n",
              "      <th>2019-01-02</th>\n",
              "      <td>-0.063228</td>\n",
              "    </tr>\n",
              "    <tr>\n",
              "      <th>2019-01-07</th>\n",
              "      <td>-0.083032</td>\n",
              "    </tr>\n",
              "    <tr>\n",
              "      <th>...</th>\n",
              "      <td>...</td>\n",
              "    </tr>\n",
              "    <tr>\n",
              "      <th>2022-12-02</th>\n",
              "      <td>-0.051859</td>\n",
              "    </tr>\n",
              "    <tr>\n",
              "      <th>2022-12-07</th>\n",
              "      <td>-0.048762</td>\n",
              "    </tr>\n",
              "    <tr>\n",
              "      <th>2022-12-17</th>\n",
              "      <td>-0.035299</td>\n",
              "    </tr>\n",
              "    <tr>\n",
              "      <th>2022-12-22</th>\n",
              "      <td>-0.052715</td>\n",
              "    </tr>\n",
              "    <tr>\n",
              "      <th>2022-12-27</th>\n",
              "      <td>-0.050831</td>\n",
              "    </tr>\n",
              "  </tbody>\n",
              "</table>\n",
              "<p>167 rows × 1 columns</p>\n",
              "</div>\n",
              "      <button class=\"colab-df-convert\" onclick=\"convertToInteractive('df-5bb11482-fafb-44aa-a34d-b37178f0ffe5')\"\n",
              "              title=\"Convert this dataframe to an interactive table.\"\n",
              "              style=\"display:none;\">\n",
              "        \n",
              "  <svg xmlns=\"http://www.w3.org/2000/svg\" height=\"24px\"viewBox=\"0 0 24 24\"\n",
              "       width=\"24px\">\n",
              "    <path d=\"M0 0h24v24H0V0z\" fill=\"none\"/>\n",
              "    <path d=\"M18.56 5.44l.94 2.06.94-2.06 2.06-.94-2.06-.94-.94-2.06-.94 2.06-2.06.94zm-11 1L8.5 8.5l.94-2.06 2.06-.94-2.06-.94L8.5 2.5l-.94 2.06-2.06.94zm10 10l.94 2.06.94-2.06 2.06-.94-2.06-.94-.94-2.06-.94 2.06-2.06.94z\"/><path d=\"M17.41 7.96l-1.37-1.37c-.4-.4-.92-.59-1.43-.59-.52 0-1.04.2-1.43.59L10.3 9.45l-7.72 7.72c-.78.78-.78 2.05 0 2.83L4 21.41c.39.39.9.59 1.41.59.51 0 1.02-.2 1.41-.59l7.78-7.78 2.81-2.81c.8-.78.8-2.07 0-2.86zM5.41 20L4 18.59l7.72-7.72 1.47 1.35L5.41 20z\"/>\n",
              "  </svg>\n",
              "      </button>\n",
              "      \n",
              "  <style>\n",
              "    .colab-df-container {\n",
              "      display:flex;\n",
              "      flex-wrap:wrap;\n",
              "      gap: 12px;\n",
              "    }\n",
              "\n",
              "    .colab-df-convert {\n",
              "      background-color: #E8F0FE;\n",
              "      border: none;\n",
              "      border-radius: 50%;\n",
              "      cursor: pointer;\n",
              "      display: none;\n",
              "      fill: #1967D2;\n",
              "      height: 32px;\n",
              "      padding: 0 0 0 0;\n",
              "      width: 32px;\n",
              "    }\n",
              "\n",
              "    .colab-df-convert:hover {\n",
              "      background-color: #E2EBFA;\n",
              "      box-shadow: 0px 1px 2px rgba(60, 64, 67, 0.3), 0px 1px 3px 1px rgba(60, 64, 67, 0.15);\n",
              "      fill: #174EA6;\n",
              "    }\n",
              "\n",
              "    [theme=dark] .colab-df-convert {\n",
              "      background-color: #3B4455;\n",
              "      fill: #D2E3FC;\n",
              "    }\n",
              "\n",
              "    [theme=dark] .colab-df-convert:hover {\n",
              "      background-color: #434B5C;\n",
              "      box-shadow: 0px 1px 3px 1px rgba(0, 0, 0, 0.15);\n",
              "      filter: drop-shadow(0px 1px 2px rgba(0, 0, 0, 0.3));\n",
              "      fill: #FFFFFF;\n",
              "    }\n",
              "  </style>\n",
              "\n",
              "      <script>\n",
              "        const buttonEl =\n",
              "          document.querySelector('#df-5bb11482-fafb-44aa-a34d-b37178f0ffe5 button.colab-df-convert');\n",
              "        buttonEl.style.display =\n",
              "          google.colab.kernel.accessAllowed ? 'block' : 'none';\n",
              "\n",
              "        async function convertToInteractive(key) {\n",
              "          const element = document.querySelector('#df-5bb11482-fafb-44aa-a34d-b37178f0ffe5');\n",
              "          const dataTable =\n",
              "            await google.colab.kernel.invokeFunction('convertToInteractive',\n",
              "                                                     [key], {});\n",
              "          if (!dataTable) return;\n",
              "\n",
              "          const docLinkHtml = 'Like what you see? Visit the ' +\n",
              "            '<a target=\"_blank\" href=https://colab.research.google.com/notebooks/data_table.ipynb>data table notebook</a>'\n",
              "            + ' to learn more about interactive tables.';\n",
              "          element.innerHTML = '';\n",
              "          dataTable['output_type'] = 'display_data';\n",
              "          await google.colab.output.renderOutput(dataTable, element);\n",
              "          const docLink = document.createElement('div');\n",
              "          docLink.innerHTML = docLinkHtml;\n",
              "          element.appendChild(docLink);\n",
              "        }\n",
              "      </script>\n",
              "    </div>\n",
              "  </div>\n",
              "  "
            ]
          },
          "metadata": {},
          "execution_count": 25
        }
      ]
    },
    {
      "cell_type": "code",
      "source": [
        "df1.to_csv('Turbidity.csv')"
      ],
      "metadata": {
        "id": "ss-vvrnr3037"
      },
      "execution_count": 26,
      "outputs": []
    },
    {
      "cell_type": "markdown",
      "source": [
        "## **NDSI Calculation**"
      ],
      "metadata": {
        "id": "kP3AI8BhQVBb"
      }
    },
    {
      "cell_type": "markdown",
      "source": [
        "## Iterating over all the images"
      ],
      "metadata": {
        "id": "Y92pd3eOh582"
      }
    },
    {
      "cell_type": "code",
      "source": [
        "def addNDSI(image):\n",
        "  ndsi = image.normalizedDifference(['B11', 'B12']).rename('NDSI')\n",
        "  return image.addBands(ndsi)\n",
        "with_ndsi = sentinel_AOI.map(addNDSI)"
      ],
      "metadata": {
        "id": "xFrSRTjmQWNN"
      },
      "execution_count": 27,
      "outputs": []
    },
    {
      "cell_type": "markdown",
      "source": [
        "## Calculating the Average NDSI on every image in the image collection"
      ],
      "metadata": {
        "id": "P6gfmwR8d_7G"
      }
    },
    {
      "cell_type": "code",
      "source": [
        "def meanNDSI(image):\n",
        "  image = ee.Image(image)\n",
        "  mean = image.reduceRegion(reducer = ee.Reducer.mean().setOutputs(['NDSI']),\n",
        "                           geometry = kerwa_AOI,\n",
        "                           scale = image.projection().nominalScale().getInfo(),\n",
        "                           maxPixels = 100000,\n",
        "                           bestEffort = True);\n",
        "  return mean.get('NDSI').getInfo()"
      ],
      "metadata": {
        "id": "-NB5xGu4QrDz"
      },
      "execution_count": 28,
      "outputs": []
    },
    {
      "cell_type": "code",
      "source": [
        "Images_ndsi = with_ndsi.select('NDSI').toList(with_ndsi.size())\n",
        "ndsi_coll = []\n",
        "for i in range(Images_ndsi.length().getInfo()):\n",
        "  image = ee.Image(Images_ndsi.get(i-1))\n",
        "  temp_ndsi = meanNDSI(image)\n",
        "  ndsi_coll.append(temp_ndsi)"
      ],
      "metadata": {
        "id": "IYlsHYXLQxtT"
      },
      "execution_count": 29,
      "outputs": []
    },
    {
      "cell_type": "markdown",
      "source": [
        "## Getting Dates from the Image Collection"
      ],
      "metadata": {
        "id": "9R0iukSJeCrx"
      }
    },
    {
      "cell_type": "code",
      "source": [
        "dates = np.array(with_ndsi.aggregate_array(\"system:time_start\").getInfo())\n",
        "day = [datetime.datetime.fromtimestamp(i/1000).strftime('%Y-%m-%d') for i in (dates)]"
      ],
      "metadata": {
        "id": "p6ztIC30RYwX"
      },
      "execution_count": 30,
      "outputs": []
    },
    {
      "cell_type": "markdown",
      "source": [
        "## Creating a Dataframe"
      ],
      "metadata": {
        "id": "6a_ow4PreNBl"
      }
    },
    {
      "cell_type": "code",
      "source": [
        "df2 = pd.DataFrame(ndsi_coll, index = day, columns = ['Salinty'])\n",
        "df2.index = pd.to_datetime(df2.index, format=\"%Y/%m/%d\")\n",
        "df2.sort_index(ascending = True, inplace = True)"
      ],
      "metadata": {
        "id": "wYyA6NtURN0k"
      },
      "execution_count": 31,
      "outputs": []
    },
    {
      "cell_type": "code",
      "source": [
        "df2"
      ],
      "metadata": {
        "colab": {
          "base_uri": "https://localhost:8080/",
          "height": 423
        },
        "id": "1Xpl3qh8Sg-C",
        "outputId": "2f63888a-67bb-45b2-afe9-26d214cbd738"
      },
      "execution_count": 32,
      "outputs": [
        {
          "output_type": "execute_result",
          "data": {
            "text/plain": [
              "             Salinty\n",
              "2018-12-18  0.042684\n",
              "2018-12-23  0.135167\n",
              "2018-12-28  0.075882\n",
              "2019-01-02  0.114781\n",
              "2019-01-07  0.095950\n",
              "...              ...\n",
              "2022-12-02  0.018572\n",
              "2022-12-07  0.016829\n",
              "2022-12-17  0.024815\n",
              "2022-12-22  0.021098\n",
              "2022-12-27  0.016779\n",
              "\n",
              "[167 rows x 1 columns]"
            ],
            "text/html": [
              "\n",
              "  <div id=\"df-e2b10de2-5a92-4698-91d7-276bb72b3de4\">\n",
              "    <div class=\"colab-df-container\">\n",
              "      <div>\n",
              "<style scoped>\n",
              "    .dataframe tbody tr th:only-of-type {\n",
              "        vertical-align: middle;\n",
              "    }\n",
              "\n",
              "    .dataframe tbody tr th {\n",
              "        vertical-align: top;\n",
              "    }\n",
              "\n",
              "    .dataframe thead th {\n",
              "        text-align: right;\n",
              "    }\n",
              "</style>\n",
              "<table border=\"1\" class=\"dataframe\">\n",
              "  <thead>\n",
              "    <tr style=\"text-align: right;\">\n",
              "      <th></th>\n",
              "      <th>Salinty</th>\n",
              "    </tr>\n",
              "  </thead>\n",
              "  <tbody>\n",
              "    <tr>\n",
              "      <th>2018-12-18</th>\n",
              "      <td>0.042684</td>\n",
              "    </tr>\n",
              "    <tr>\n",
              "      <th>2018-12-23</th>\n",
              "      <td>0.135167</td>\n",
              "    </tr>\n",
              "    <tr>\n",
              "      <th>2018-12-28</th>\n",
              "      <td>0.075882</td>\n",
              "    </tr>\n",
              "    <tr>\n",
              "      <th>2019-01-02</th>\n",
              "      <td>0.114781</td>\n",
              "    </tr>\n",
              "    <tr>\n",
              "      <th>2019-01-07</th>\n",
              "      <td>0.095950</td>\n",
              "    </tr>\n",
              "    <tr>\n",
              "      <th>...</th>\n",
              "      <td>...</td>\n",
              "    </tr>\n",
              "    <tr>\n",
              "      <th>2022-12-02</th>\n",
              "      <td>0.018572</td>\n",
              "    </tr>\n",
              "    <tr>\n",
              "      <th>2022-12-07</th>\n",
              "      <td>0.016829</td>\n",
              "    </tr>\n",
              "    <tr>\n",
              "      <th>2022-12-17</th>\n",
              "      <td>0.024815</td>\n",
              "    </tr>\n",
              "    <tr>\n",
              "      <th>2022-12-22</th>\n",
              "      <td>0.021098</td>\n",
              "    </tr>\n",
              "    <tr>\n",
              "      <th>2022-12-27</th>\n",
              "      <td>0.016779</td>\n",
              "    </tr>\n",
              "  </tbody>\n",
              "</table>\n",
              "<p>167 rows × 1 columns</p>\n",
              "</div>\n",
              "      <button class=\"colab-df-convert\" onclick=\"convertToInteractive('df-e2b10de2-5a92-4698-91d7-276bb72b3de4')\"\n",
              "              title=\"Convert this dataframe to an interactive table.\"\n",
              "              style=\"display:none;\">\n",
              "        \n",
              "  <svg xmlns=\"http://www.w3.org/2000/svg\" height=\"24px\"viewBox=\"0 0 24 24\"\n",
              "       width=\"24px\">\n",
              "    <path d=\"M0 0h24v24H0V0z\" fill=\"none\"/>\n",
              "    <path d=\"M18.56 5.44l.94 2.06.94-2.06 2.06-.94-2.06-.94-.94-2.06-.94 2.06-2.06.94zm-11 1L8.5 8.5l.94-2.06 2.06-.94-2.06-.94L8.5 2.5l-.94 2.06-2.06.94zm10 10l.94 2.06.94-2.06 2.06-.94-2.06-.94-.94-2.06-.94 2.06-2.06.94z\"/><path d=\"M17.41 7.96l-1.37-1.37c-.4-.4-.92-.59-1.43-.59-.52 0-1.04.2-1.43.59L10.3 9.45l-7.72 7.72c-.78.78-.78 2.05 0 2.83L4 21.41c.39.39.9.59 1.41.59.51 0 1.02-.2 1.41-.59l7.78-7.78 2.81-2.81c.8-.78.8-2.07 0-2.86zM5.41 20L4 18.59l7.72-7.72 1.47 1.35L5.41 20z\"/>\n",
              "  </svg>\n",
              "      </button>\n",
              "      \n",
              "  <style>\n",
              "    .colab-df-container {\n",
              "      display:flex;\n",
              "      flex-wrap:wrap;\n",
              "      gap: 12px;\n",
              "    }\n",
              "\n",
              "    .colab-df-convert {\n",
              "      background-color: #E8F0FE;\n",
              "      border: none;\n",
              "      border-radius: 50%;\n",
              "      cursor: pointer;\n",
              "      display: none;\n",
              "      fill: #1967D2;\n",
              "      height: 32px;\n",
              "      padding: 0 0 0 0;\n",
              "      width: 32px;\n",
              "    }\n",
              "\n",
              "    .colab-df-convert:hover {\n",
              "      background-color: #E2EBFA;\n",
              "      box-shadow: 0px 1px 2px rgba(60, 64, 67, 0.3), 0px 1px 3px 1px rgba(60, 64, 67, 0.15);\n",
              "      fill: #174EA6;\n",
              "    }\n",
              "\n",
              "    [theme=dark] .colab-df-convert {\n",
              "      background-color: #3B4455;\n",
              "      fill: #D2E3FC;\n",
              "    }\n",
              "\n",
              "    [theme=dark] .colab-df-convert:hover {\n",
              "      background-color: #434B5C;\n",
              "      box-shadow: 0px 1px 3px 1px rgba(0, 0, 0, 0.15);\n",
              "      filter: drop-shadow(0px 1px 2px rgba(0, 0, 0, 0.3));\n",
              "      fill: #FFFFFF;\n",
              "    }\n",
              "  </style>\n",
              "\n",
              "      <script>\n",
              "        const buttonEl =\n",
              "          document.querySelector('#df-e2b10de2-5a92-4698-91d7-276bb72b3de4 button.colab-df-convert');\n",
              "        buttonEl.style.display =\n",
              "          google.colab.kernel.accessAllowed ? 'block' : 'none';\n",
              "\n",
              "        async function convertToInteractive(key) {\n",
              "          const element = document.querySelector('#df-e2b10de2-5a92-4698-91d7-276bb72b3de4');\n",
              "          const dataTable =\n",
              "            await google.colab.kernel.invokeFunction('convertToInteractive',\n",
              "                                                     [key], {});\n",
              "          if (!dataTable) return;\n",
              "\n",
              "          const docLinkHtml = 'Like what you see? Visit the ' +\n",
              "            '<a target=\"_blank\" href=https://colab.research.google.com/notebooks/data_table.ipynb>data table notebook</a>'\n",
              "            + ' to learn more about interactive tables.';\n",
              "          element.innerHTML = '';\n",
              "          dataTable['output_type'] = 'display_data';\n",
              "          await google.colab.output.renderOutput(dataTable, element);\n",
              "          const docLink = document.createElement('div');\n",
              "          docLink.innerHTML = docLinkHtml;\n",
              "          element.appendChild(docLink);\n",
              "        }\n",
              "      </script>\n",
              "    </div>\n",
              "  </div>\n",
              "  "
            ]
          },
          "metadata": {},
          "execution_count": 32
        }
      ]
    },
    {
      "cell_type": "code",
      "source": [
        "df2.to_csv('Salinty.csv')"
      ],
      "metadata": {
        "id": "peJL79O46_oi"
      },
      "execution_count": 33,
      "outputs": []
    },
    {
      "cell_type": "markdown",
      "source": [
        "# **Dissloved Oxygen Calculation**"
      ],
      "metadata": {
        "id": "ox-1424nXqak"
      }
    },
    {
      "cell_type": "markdown",
      "source": [
        "## Iterating over all the images"
      ],
      "metadata": {
        "id": "iaXqVmZvh-av"
      }
    },
    {
      "cell_type": "code",
      "source": [
        "def addDO(image):\n",
        "  do = image.normalizedDifference(['B4', 'B5']).rename('DO')\n",
        "  return image.addBands(do)\n",
        "with_do = sentinel_AOI.map(addDO)"
      ],
      "metadata": {
        "id": "72r3aemuYoP8"
      },
      "execution_count": 34,
      "outputs": []
    },
    {
      "cell_type": "markdown",
      "source": [
        "## Calculating the Average Dissolved Oxygen Calculation on every image in the image collection"
      ],
      "metadata": {
        "id": "1Z7Wbv2Gekm9"
      }
    },
    {
      "cell_type": "code",
      "source": [
        "def meanDO(image):\n",
        "  image = ee.Image(image)\n",
        "  mean = image.reduceRegion(reducer = ee.Reducer.mean().setOutputs(['DO']),\n",
        "                           geometry = kerwa_AOI,\n",
        "                           scale = image.projection().nominalScale().getInfo(),\n",
        "                           maxPixels = 100000,\n",
        "                           bestEffort = True);\n",
        "  return mean.get('DO').getInfo()"
      ],
      "metadata": {
        "id": "JSjReHUMNL-g"
      },
      "execution_count": 35,
      "outputs": []
    },
    {
      "cell_type": "code",
      "source": [
        "Images_do = with_do.select('DO').toList(with_do.size())\n",
        "do_coll = []\n",
        "for i in range(Images_do.length().getInfo()):\n",
        "  image = ee.Image(Images_do.get(i-1))\n",
        "  temp_do = meanDO(image)\n",
        "  do_coll.append(temp_do)"
      ],
      "metadata": {
        "id": "I8xt50bKNTJX"
      },
      "execution_count": 36,
      "outputs": []
    },
    {
      "cell_type": "markdown",
      "source": [
        "## Getting Dates from the Image Collection"
      ],
      "metadata": {
        "id": "PdJJTW78fzgM"
      }
    },
    {
      "cell_type": "code",
      "source": [
        "dates = np.array(with_do.aggregate_array(\"system:time_start\").getInfo())\n",
        "day = [datetime.datetime.fromtimestamp(i/1000).strftime('%Y-%m-%d') for i in (dates)]"
      ],
      "metadata": {
        "id": "2BF-Mz7WNxqr"
      },
      "execution_count": 37,
      "outputs": []
    },
    {
      "cell_type": "markdown",
      "source": [
        "## Creating a Dataframe"
      ],
      "metadata": {
        "id": "1n_6I6laf3fD"
      }
    },
    {
      "cell_type": "code",
      "source": [
        "df4 = pd.DataFrame(do_coll, index = day, columns = ['Dissolved Oxygen'])\n",
        "df4.index = pd.to_datetime(df4.index, format=\"%Y/%m/%d\")\n",
        "df4.sort_index(ascending = True, inplace = True)"
      ],
      "metadata": {
        "id": "pIstxRBDN3rr"
      },
      "execution_count": 38,
      "outputs": []
    },
    {
      "cell_type": "code",
      "source": [
        "df4"
      ],
      "metadata": {
        "colab": {
          "base_uri": "https://localhost:8080/",
          "height": 423
        },
        "id": "AUMy-d2YPw6a",
        "outputId": "8b9e3f10-9edc-4145-b997-7d6d4eadadd4"
      },
      "execution_count": 39,
      "outputs": [
        {
          "output_type": "execute_result",
          "data": {
            "text/plain": [
              "            Dissolved Oxygen\n",
              "2018-12-18         -0.039604\n",
              "2018-12-23         -0.029041\n",
              "2018-12-28         -0.026281\n",
              "2019-01-02         -0.037898\n",
              "2019-01-07         -0.063354\n",
              "...                      ...\n",
              "2022-12-02         -0.023392\n",
              "2022-12-07         -0.025251\n",
              "2022-12-17         -0.030414\n",
              "2022-12-22         -0.024570\n",
              "2022-12-27         -0.019263\n",
              "\n",
              "[167 rows x 1 columns]"
            ],
            "text/html": [
              "\n",
              "  <div id=\"df-e0d5600d-07cc-405b-8ad4-7f27155e7b17\">\n",
              "    <div class=\"colab-df-container\">\n",
              "      <div>\n",
              "<style scoped>\n",
              "    .dataframe tbody tr th:only-of-type {\n",
              "        vertical-align: middle;\n",
              "    }\n",
              "\n",
              "    .dataframe tbody tr th {\n",
              "        vertical-align: top;\n",
              "    }\n",
              "\n",
              "    .dataframe thead th {\n",
              "        text-align: right;\n",
              "    }\n",
              "</style>\n",
              "<table border=\"1\" class=\"dataframe\">\n",
              "  <thead>\n",
              "    <tr style=\"text-align: right;\">\n",
              "      <th></th>\n",
              "      <th>Dissolved Oxygen</th>\n",
              "    </tr>\n",
              "  </thead>\n",
              "  <tbody>\n",
              "    <tr>\n",
              "      <th>2018-12-18</th>\n",
              "      <td>-0.039604</td>\n",
              "    </tr>\n",
              "    <tr>\n",
              "      <th>2018-12-23</th>\n",
              "      <td>-0.029041</td>\n",
              "    </tr>\n",
              "    <tr>\n",
              "      <th>2018-12-28</th>\n",
              "      <td>-0.026281</td>\n",
              "    </tr>\n",
              "    <tr>\n",
              "      <th>2019-01-02</th>\n",
              "      <td>-0.037898</td>\n",
              "    </tr>\n",
              "    <tr>\n",
              "      <th>2019-01-07</th>\n",
              "      <td>-0.063354</td>\n",
              "    </tr>\n",
              "    <tr>\n",
              "      <th>...</th>\n",
              "      <td>...</td>\n",
              "    </tr>\n",
              "    <tr>\n",
              "      <th>2022-12-02</th>\n",
              "      <td>-0.023392</td>\n",
              "    </tr>\n",
              "    <tr>\n",
              "      <th>2022-12-07</th>\n",
              "      <td>-0.025251</td>\n",
              "    </tr>\n",
              "    <tr>\n",
              "      <th>2022-12-17</th>\n",
              "      <td>-0.030414</td>\n",
              "    </tr>\n",
              "    <tr>\n",
              "      <th>2022-12-22</th>\n",
              "      <td>-0.024570</td>\n",
              "    </tr>\n",
              "    <tr>\n",
              "      <th>2022-12-27</th>\n",
              "      <td>-0.019263</td>\n",
              "    </tr>\n",
              "  </tbody>\n",
              "</table>\n",
              "<p>167 rows × 1 columns</p>\n",
              "</div>\n",
              "      <button class=\"colab-df-convert\" onclick=\"convertToInteractive('df-e0d5600d-07cc-405b-8ad4-7f27155e7b17')\"\n",
              "              title=\"Convert this dataframe to an interactive table.\"\n",
              "              style=\"display:none;\">\n",
              "        \n",
              "  <svg xmlns=\"http://www.w3.org/2000/svg\" height=\"24px\"viewBox=\"0 0 24 24\"\n",
              "       width=\"24px\">\n",
              "    <path d=\"M0 0h24v24H0V0z\" fill=\"none\"/>\n",
              "    <path d=\"M18.56 5.44l.94 2.06.94-2.06 2.06-.94-2.06-.94-.94-2.06-.94 2.06-2.06.94zm-11 1L8.5 8.5l.94-2.06 2.06-.94-2.06-.94L8.5 2.5l-.94 2.06-2.06.94zm10 10l.94 2.06.94-2.06 2.06-.94-2.06-.94-.94-2.06-.94 2.06-2.06.94z\"/><path d=\"M17.41 7.96l-1.37-1.37c-.4-.4-.92-.59-1.43-.59-.52 0-1.04.2-1.43.59L10.3 9.45l-7.72 7.72c-.78.78-.78 2.05 0 2.83L4 21.41c.39.39.9.59 1.41.59.51 0 1.02-.2 1.41-.59l7.78-7.78 2.81-2.81c.8-.78.8-2.07 0-2.86zM5.41 20L4 18.59l7.72-7.72 1.47 1.35L5.41 20z\"/>\n",
              "  </svg>\n",
              "      </button>\n",
              "      \n",
              "  <style>\n",
              "    .colab-df-container {\n",
              "      display:flex;\n",
              "      flex-wrap:wrap;\n",
              "      gap: 12px;\n",
              "    }\n",
              "\n",
              "    .colab-df-convert {\n",
              "      background-color: #E8F0FE;\n",
              "      border: none;\n",
              "      border-radius: 50%;\n",
              "      cursor: pointer;\n",
              "      display: none;\n",
              "      fill: #1967D2;\n",
              "      height: 32px;\n",
              "      padding: 0 0 0 0;\n",
              "      width: 32px;\n",
              "    }\n",
              "\n",
              "    .colab-df-convert:hover {\n",
              "      background-color: #E2EBFA;\n",
              "      box-shadow: 0px 1px 2px rgba(60, 64, 67, 0.3), 0px 1px 3px 1px rgba(60, 64, 67, 0.15);\n",
              "      fill: #174EA6;\n",
              "    }\n",
              "\n",
              "    [theme=dark] .colab-df-convert {\n",
              "      background-color: #3B4455;\n",
              "      fill: #D2E3FC;\n",
              "    }\n",
              "\n",
              "    [theme=dark] .colab-df-convert:hover {\n",
              "      background-color: #434B5C;\n",
              "      box-shadow: 0px 1px 3px 1px rgba(0, 0, 0, 0.15);\n",
              "      filter: drop-shadow(0px 1px 2px rgba(0, 0, 0, 0.3));\n",
              "      fill: #FFFFFF;\n",
              "    }\n",
              "  </style>\n",
              "\n",
              "      <script>\n",
              "        const buttonEl =\n",
              "          document.querySelector('#df-e0d5600d-07cc-405b-8ad4-7f27155e7b17 button.colab-df-convert');\n",
              "        buttonEl.style.display =\n",
              "          google.colab.kernel.accessAllowed ? 'block' : 'none';\n",
              "\n",
              "        async function convertToInteractive(key) {\n",
              "          const element = document.querySelector('#df-e0d5600d-07cc-405b-8ad4-7f27155e7b17');\n",
              "          const dataTable =\n",
              "            await google.colab.kernel.invokeFunction('convertToInteractive',\n",
              "                                                     [key], {});\n",
              "          if (!dataTable) return;\n",
              "\n",
              "          const docLinkHtml = 'Like what you see? Visit the ' +\n",
              "            '<a target=\"_blank\" href=https://colab.research.google.com/notebooks/data_table.ipynb>data table notebook</a>'\n",
              "            + ' to learn more about interactive tables.';\n",
              "          element.innerHTML = '';\n",
              "          dataTable['output_type'] = 'display_data';\n",
              "          await google.colab.output.renderOutput(dataTable, element);\n",
              "          const docLink = document.createElement('div');\n",
              "          docLink.innerHTML = docLinkHtml;\n",
              "          element.appendChild(docLink);\n",
              "        }\n",
              "      </script>\n",
              "    </div>\n",
              "  </div>\n",
              "  "
            ]
          },
          "metadata": {},
          "execution_count": 39
        }
      ]
    },
    {
      "cell_type": "code",
      "source": [
        "df4.to_csv('Dissolved Oxygen.csv')"
      ],
      "metadata": {
        "id": "BhuBkMKH9FZy"
      },
      "execution_count": 40,
      "outputs": []
    },
    {
      "cell_type": "markdown",
      "source": [
        "# **pH**"
      ],
      "metadata": {
        "id": "rFq6kW0mEbWs"
      }
    },
    {
      "cell_type": "markdown",
      "source": [
        "## Iterating over all the images"
      ],
      "metadata": {
        "id": "q2b054riiB1n"
      }
    },
    {
      "cell_type": "code",
      "source": [
        "def addpH(image):\n",
        "  ph = ee.Image(8.339).subtract(ee.Image(0.827).multiply(image.select('B1').divide(image.select('B8')))).rename('PH')\n",
        "  return image.addBands(ph)\n",
        "with_pH = sentinel_AOI.map(addpH)"
      ],
      "metadata": {
        "id": "Cd0tVe4UEbWt"
      },
      "execution_count": 41,
      "outputs": []
    },
    {
      "cell_type": "markdown",
      "source": [
        "## Calculating the Average pH on every image in the image collection"
      ],
      "metadata": {
        "id": "3lMRgxQlf_X2"
      }
    },
    {
      "cell_type": "code",
      "source": [
        "def meanpH(image):\n",
        "  image = ee.Image(image)\n",
        "  mean = image.reduceRegion(reducer = ee.Reducer.mean().setOutputs(['PH']),\n",
        "                           geometry = kerwa_AOI,\n",
        "                           scale = image.projection().nominalScale().getInfo(),\n",
        "                           maxPixels = 100000,\n",
        "                           bestEffort = True);\n",
        "  return mean.get('PH').getInfo()"
      ],
      "metadata": {
        "id": "5K9w3yvwEbWt"
      },
      "execution_count": 42,
      "outputs": []
    },
    {
      "cell_type": "code",
      "source": [
        "Images_ph = with_pH.select('PH').toList(with_pH.size())\n",
        "ph_coll= []\n",
        "for i in range(Images_ph.length().getInfo()):\n",
        "  image = ee.Image(Images_ph.get(i-1))\n",
        "  temp_ph = meanpH(image)\n",
        "  ph_coll.append(temp_ph)"
      ],
      "metadata": {
        "id": "VswLcrkIEbWt",
        "colab": {
          "base_uri": "https://localhost:8080/"
        },
        "outputId": "38b104e1-e329-4113-aa13-f5325bdd0323"
      },
      "execution_count": 43,
      "outputs": [
        {
          "output_type": "stream",
          "name": "stderr",
          "text": [
            "WARNING:googleapiclient.http:Sleeping 0.50 seconds before retry 1 of 5 for request: POST https://earthengine.googleapis.com/v1alpha/projects/earthengine-legacy/value:compute?prettyPrint=false&alt=json, after 503\n"
          ]
        }
      ]
    },
    {
      "cell_type": "markdown",
      "source": [
        "## Getting Dates from the Image Collection"
      ],
      "metadata": {
        "id": "3iRkA8ZBgFsx"
      }
    },
    {
      "cell_type": "code",
      "source": [
        "dates = np.array(with_pH.aggregate_array(\"system:time_start\").getInfo())\n",
        "day = [datetime.datetime.fromtimestamp(i/1000).strftime('%Y-%m-%d') for i in (dates)]"
      ],
      "metadata": {
        "id": "DiPJQU6EEbWt"
      },
      "execution_count": 44,
      "outputs": []
    },
    {
      "cell_type": "markdown",
      "source": [
        "## Creating a Dataframe"
      ],
      "metadata": {
        "id": "omln5RlvgJh2"
      }
    },
    {
      "cell_type": "code",
      "source": [
        "df6 = pd.DataFrame(ph_coll, index = day, columns = ['pH'])\n",
        "df6.index = pd.to_datetime(df6.index, format=\"%Y/%m/%d\")\n",
        "df6.sort_index(ascending = True, inplace = True)"
      ],
      "metadata": {
        "id": "iGd-MKU8EbWt"
      },
      "execution_count": 45,
      "outputs": []
    },
    {
      "cell_type": "code",
      "source": [
        "df6"
      ],
      "metadata": {
        "colab": {
          "base_uri": "https://localhost:8080/",
          "height": 423
        },
        "outputId": "7e89450f-f8c2-41ea-f93d-eed2544020a6",
        "id": "2OBaVVDgEbWu"
      },
      "execution_count": 46,
      "outputs": [
        {
          "output_type": "execute_result",
          "data": {
            "text/plain": [
              "                  pH\n",
              "2018-12-18  7.533663\n",
              "2018-12-23  7.054899\n",
              "2018-12-28  7.232856\n",
              "2019-01-02  7.386054\n",
              "2019-01-07  7.533278\n",
              "...              ...\n",
              "2022-12-02  7.455745\n",
              "2022-12-07  7.500948\n",
              "2022-12-17  7.567418\n",
              "2022-12-22  7.492178\n",
              "2022-12-27  7.480509\n",
              "\n",
              "[167 rows x 1 columns]"
            ],
            "text/html": [
              "\n",
              "  <div id=\"df-e9537041-bd5f-46ce-a194-90b75ea03f93\">\n",
              "    <div class=\"colab-df-container\">\n",
              "      <div>\n",
              "<style scoped>\n",
              "    .dataframe tbody tr th:only-of-type {\n",
              "        vertical-align: middle;\n",
              "    }\n",
              "\n",
              "    .dataframe tbody tr th {\n",
              "        vertical-align: top;\n",
              "    }\n",
              "\n",
              "    .dataframe thead th {\n",
              "        text-align: right;\n",
              "    }\n",
              "</style>\n",
              "<table border=\"1\" class=\"dataframe\">\n",
              "  <thead>\n",
              "    <tr style=\"text-align: right;\">\n",
              "      <th></th>\n",
              "      <th>pH</th>\n",
              "    </tr>\n",
              "  </thead>\n",
              "  <tbody>\n",
              "    <tr>\n",
              "      <th>2018-12-18</th>\n",
              "      <td>7.533663</td>\n",
              "    </tr>\n",
              "    <tr>\n",
              "      <th>2018-12-23</th>\n",
              "      <td>7.054899</td>\n",
              "    </tr>\n",
              "    <tr>\n",
              "      <th>2018-12-28</th>\n",
              "      <td>7.232856</td>\n",
              "    </tr>\n",
              "    <tr>\n",
              "      <th>2019-01-02</th>\n",
              "      <td>7.386054</td>\n",
              "    </tr>\n",
              "    <tr>\n",
              "      <th>2019-01-07</th>\n",
              "      <td>7.533278</td>\n",
              "    </tr>\n",
              "    <tr>\n",
              "      <th>...</th>\n",
              "      <td>...</td>\n",
              "    </tr>\n",
              "    <tr>\n",
              "      <th>2022-12-02</th>\n",
              "      <td>7.455745</td>\n",
              "    </tr>\n",
              "    <tr>\n",
              "      <th>2022-12-07</th>\n",
              "      <td>7.500948</td>\n",
              "    </tr>\n",
              "    <tr>\n",
              "      <th>2022-12-17</th>\n",
              "      <td>7.567418</td>\n",
              "    </tr>\n",
              "    <tr>\n",
              "      <th>2022-12-22</th>\n",
              "      <td>7.492178</td>\n",
              "    </tr>\n",
              "    <tr>\n",
              "      <th>2022-12-27</th>\n",
              "      <td>7.480509</td>\n",
              "    </tr>\n",
              "  </tbody>\n",
              "</table>\n",
              "<p>167 rows × 1 columns</p>\n",
              "</div>\n",
              "      <button class=\"colab-df-convert\" onclick=\"convertToInteractive('df-e9537041-bd5f-46ce-a194-90b75ea03f93')\"\n",
              "              title=\"Convert this dataframe to an interactive table.\"\n",
              "              style=\"display:none;\">\n",
              "        \n",
              "  <svg xmlns=\"http://www.w3.org/2000/svg\" height=\"24px\"viewBox=\"0 0 24 24\"\n",
              "       width=\"24px\">\n",
              "    <path d=\"M0 0h24v24H0V0z\" fill=\"none\"/>\n",
              "    <path d=\"M18.56 5.44l.94 2.06.94-2.06 2.06-.94-2.06-.94-.94-2.06-.94 2.06-2.06.94zm-11 1L8.5 8.5l.94-2.06 2.06-.94-2.06-.94L8.5 2.5l-.94 2.06-2.06.94zm10 10l.94 2.06.94-2.06 2.06-.94-2.06-.94-.94-2.06-.94 2.06-2.06.94z\"/><path d=\"M17.41 7.96l-1.37-1.37c-.4-.4-.92-.59-1.43-.59-.52 0-1.04.2-1.43.59L10.3 9.45l-7.72 7.72c-.78.78-.78 2.05 0 2.83L4 21.41c.39.39.9.59 1.41.59.51 0 1.02-.2 1.41-.59l7.78-7.78 2.81-2.81c.8-.78.8-2.07 0-2.86zM5.41 20L4 18.59l7.72-7.72 1.47 1.35L5.41 20z\"/>\n",
              "  </svg>\n",
              "      </button>\n",
              "      \n",
              "  <style>\n",
              "    .colab-df-container {\n",
              "      display:flex;\n",
              "      flex-wrap:wrap;\n",
              "      gap: 12px;\n",
              "    }\n",
              "\n",
              "    .colab-df-convert {\n",
              "      background-color: #E8F0FE;\n",
              "      border: none;\n",
              "      border-radius: 50%;\n",
              "      cursor: pointer;\n",
              "      display: none;\n",
              "      fill: #1967D2;\n",
              "      height: 32px;\n",
              "      padding: 0 0 0 0;\n",
              "      width: 32px;\n",
              "    }\n",
              "\n",
              "    .colab-df-convert:hover {\n",
              "      background-color: #E2EBFA;\n",
              "      box-shadow: 0px 1px 2px rgba(60, 64, 67, 0.3), 0px 1px 3px 1px rgba(60, 64, 67, 0.15);\n",
              "      fill: #174EA6;\n",
              "    }\n",
              "\n",
              "    [theme=dark] .colab-df-convert {\n",
              "      background-color: #3B4455;\n",
              "      fill: #D2E3FC;\n",
              "    }\n",
              "\n",
              "    [theme=dark] .colab-df-convert:hover {\n",
              "      background-color: #434B5C;\n",
              "      box-shadow: 0px 1px 3px 1px rgba(0, 0, 0, 0.15);\n",
              "      filter: drop-shadow(0px 1px 2px rgba(0, 0, 0, 0.3));\n",
              "      fill: #FFFFFF;\n",
              "    }\n",
              "  </style>\n",
              "\n",
              "      <script>\n",
              "        const buttonEl =\n",
              "          document.querySelector('#df-e9537041-bd5f-46ce-a194-90b75ea03f93 button.colab-df-convert');\n",
              "        buttonEl.style.display =\n",
              "          google.colab.kernel.accessAllowed ? 'block' : 'none';\n",
              "\n",
              "        async function convertToInteractive(key) {\n",
              "          const element = document.querySelector('#df-e9537041-bd5f-46ce-a194-90b75ea03f93');\n",
              "          const dataTable =\n",
              "            await google.colab.kernel.invokeFunction('convertToInteractive',\n",
              "                                                     [key], {});\n",
              "          if (!dataTable) return;\n",
              "\n",
              "          const docLinkHtml = 'Like what you see? Visit the ' +\n",
              "            '<a target=\"_blank\" href=https://colab.research.google.com/notebooks/data_table.ipynb>data table notebook</a>'\n",
              "            + ' to learn more about interactive tables.';\n",
              "          element.innerHTML = '';\n",
              "          dataTable['output_type'] = 'display_data';\n",
              "          await google.colab.output.renderOutput(dataTable, element);\n",
              "          const docLink = document.createElement('div');\n",
              "          docLink.innerHTML = docLinkHtml;\n",
              "          element.appendChild(docLink);\n",
              "        }\n",
              "      </script>\n",
              "    </div>\n",
              "  </div>\n",
              "  "
            ]
          },
          "metadata": {},
          "execution_count": 46
        }
      ]
    },
    {
      "cell_type": "code",
      "source": [
        "df6.to_csv('pH.csv')"
      ],
      "metadata": {
        "id": "4wcnH4MjKeox"
      },
      "execution_count": 47,
      "outputs": []
    },
    {
      "cell_type": "markdown",
      "source": [
        "# **Temperature**"
      ],
      "metadata": {
        "id": "W60-GpncYzZT"
      }
    },
    {
      "cell_type": "markdown",
      "source": [
        "\n",
        "## Selecting the Satellite\n",
        "\n"
      ],
      "metadata": {
        "id": "gvhFV18CZCrE"
      }
    },
    {
      "cell_type": "code",
      "source": [
        "landsat = ee.ImageCollection(\"LANDSAT/LC08/C02/T1_L2\").\\\n",
        "              filterDate(\"2016-01-01\",\"2022-01-01\")\n",
        "\n",
        "landsat_AOI = landsat.filterBounds(kerwa_AOI)"
      ],
      "metadata": {
        "id": "fFMPGgPNZBzt"
      },
      "execution_count": 48,
      "outputs": []
    },
    {
      "cell_type": "code",
      "source": [
        "print('Total number of images :', landsat_AOI.size().getInfo())"
      ],
      "metadata": {
        "colab": {
          "base_uri": "https://localhost:8080/"
        },
        "id": "W36zNf-yc5t0",
        "outputId": "5e5e2843-264e-4449-c00d-9ded1259b753"
      },
      "execution_count": 49,
      "outputs": [
        {
          "output_type": "stream",
          "name": "stdout",
          "text": [
            "Total number of images : 230\n"
          ]
        }
      ]
    },
    {
      "cell_type": "markdown",
      "source": [
        "## Iterating over all the images"
      ],
      "metadata": {
        "id": "LBo9UpWyiG27"
      }
    },
    {
      "cell_type": "code",
      "source": [
        "def addtemp(image):\n",
        "  temp = image.select('ST_B.*').multiply(0.00341802).add(149.0).subtract(273.15).rename('temperature')\n",
        "  return image.addBands(temp)\n",
        "with_temp = landsat_AOI.map(addtemp)\n"
      ],
      "metadata": {
        "id": "ycE2QZJCZSwd"
      },
      "execution_count": 50,
      "outputs": []
    },
    {
      "cell_type": "markdown",
      "source": [
        "## Calculating the Average Temperature on every image in the image collection"
      ],
      "metadata": {
        "id": "nPzmkYVMgL3V"
      }
    },
    {
      "cell_type": "code",
      "source": [
        "def meantemp(image):\n",
        "  image = ee.Image(image)\n",
        "  mean = image.reduceRegion(reducer = ee.Reducer.mean().setOutputs(['temperature']),\n",
        "                           geometry = kerwa_AOI,\n",
        "                           scale = image.projection().nominalScale().getInfo(),\n",
        "                           maxPixels = 100000,\n",
        "                           bestEffort = True);\n",
        "  return mean.get('temperature').getInfo()"
      ],
      "metadata": {
        "id": "xOfG61oaZyKo"
      },
      "execution_count": 51,
      "outputs": []
    },
    {
      "cell_type": "code",
      "source": [
        "Images_temp = with_temp.select('temperature').toList(with_temp.size())\n",
        "temp_coll = []\n",
        "for i in range(Images_temp.length().getInfo()):\n",
        "  image = ee.Image(Images_temp.get(i-1))\n",
        "  tempe_temp = meantemp(image)\n",
        "  temp_coll.append(tempe_temp)"
      ],
      "metadata": {
        "id": "bldmSHJve5wS"
      },
      "execution_count": 52,
      "outputs": []
    },
    {
      "cell_type": "markdown",
      "source": [
        "# Getting Dates from the Image Collection"
      ],
      "metadata": {
        "id": "oUodvEPFgQwe"
      }
    },
    {
      "cell_type": "code",
      "source": [
        "dates = np.array(with_temp.aggregate_array(\"system:time_start\").getInfo())\n",
        "day = [datetime.datetime.fromtimestamp(i/1000).strftime('%Y-%m-%d') for i in (dates)]"
      ],
      "metadata": {
        "id": "YH1eqrnBlp0p"
      },
      "execution_count": 53,
      "outputs": []
    },
    {
      "cell_type": "markdown",
      "source": [
        "## Creating a Dataframe"
      ],
      "metadata": {
        "id": "8yG-jwJLgS-d"
      }
    },
    {
      "cell_type": "code",
      "source": [
        "df5 = pd.DataFrame(temp_coll, index = day, columns = ['Temperature'])\n",
        "df5.index = pd.to_datetime(df5.index, format=\"%Y/%m/%d\")\n",
        "df5.sort_index(ascending = True, inplace = True)"
      ],
      "metadata": {
        "id": "6C4A_zLTGIA6"
      },
      "execution_count": 54,
      "outputs": []
    },
    {
      "cell_type": "code",
      "source": [
        "df5"
      ],
      "metadata": {
        "colab": {
          "base_uri": "https://localhost:8080/",
          "height": 423
        },
        "id": "fIgFt4uEGLIb",
        "outputId": "49c14bc2-1604-4163-bfdb-b9d5498706da"
      },
      "execution_count": 55,
      "outputs": [
        {
          "output_type": "execute_result",
          "data": {
            "text/plain": [
              "            Temperature\n",
              "2016-01-07    13.566692\n",
              "2016-01-14    21.774917\n",
              "2016-01-23    24.049661\n",
              "2016-01-30    24.262205\n",
              "2016-02-08    22.965972\n",
              "...                 ...\n",
              "2021-11-27    23.658826\n",
              "2021-12-06    25.975839\n",
              "2021-12-13    24.656689\n",
              "2021-12-22    24.440486\n",
              "2021-12-29    21.445387\n",
              "\n",
              "[230 rows x 1 columns]"
            ],
            "text/html": [
              "\n",
              "  <div id=\"df-85076983-80f8-4d37-8826-f0f0c3d5c24b\">\n",
              "    <div class=\"colab-df-container\">\n",
              "      <div>\n",
              "<style scoped>\n",
              "    .dataframe tbody tr th:only-of-type {\n",
              "        vertical-align: middle;\n",
              "    }\n",
              "\n",
              "    .dataframe tbody tr th {\n",
              "        vertical-align: top;\n",
              "    }\n",
              "\n",
              "    .dataframe thead th {\n",
              "        text-align: right;\n",
              "    }\n",
              "</style>\n",
              "<table border=\"1\" class=\"dataframe\">\n",
              "  <thead>\n",
              "    <tr style=\"text-align: right;\">\n",
              "      <th></th>\n",
              "      <th>Temperature</th>\n",
              "    </tr>\n",
              "  </thead>\n",
              "  <tbody>\n",
              "    <tr>\n",
              "      <th>2016-01-07</th>\n",
              "      <td>13.566692</td>\n",
              "    </tr>\n",
              "    <tr>\n",
              "      <th>2016-01-14</th>\n",
              "      <td>21.774917</td>\n",
              "    </tr>\n",
              "    <tr>\n",
              "      <th>2016-01-23</th>\n",
              "      <td>24.049661</td>\n",
              "    </tr>\n",
              "    <tr>\n",
              "      <th>2016-01-30</th>\n",
              "      <td>24.262205</td>\n",
              "    </tr>\n",
              "    <tr>\n",
              "      <th>2016-02-08</th>\n",
              "      <td>22.965972</td>\n",
              "    </tr>\n",
              "    <tr>\n",
              "      <th>...</th>\n",
              "      <td>...</td>\n",
              "    </tr>\n",
              "    <tr>\n",
              "      <th>2021-11-27</th>\n",
              "      <td>23.658826</td>\n",
              "    </tr>\n",
              "    <tr>\n",
              "      <th>2021-12-06</th>\n",
              "      <td>25.975839</td>\n",
              "    </tr>\n",
              "    <tr>\n",
              "      <th>2021-12-13</th>\n",
              "      <td>24.656689</td>\n",
              "    </tr>\n",
              "    <tr>\n",
              "      <th>2021-12-22</th>\n",
              "      <td>24.440486</td>\n",
              "    </tr>\n",
              "    <tr>\n",
              "      <th>2021-12-29</th>\n",
              "      <td>21.445387</td>\n",
              "    </tr>\n",
              "  </tbody>\n",
              "</table>\n",
              "<p>230 rows × 1 columns</p>\n",
              "</div>\n",
              "      <button class=\"colab-df-convert\" onclick=\"convertToInteractive('df-85076983-80f8-4d37-8826-f0f0c3d5c24b')\"\n",
              "              title=\"Convert this dataframe to an interactive table.\"\n",
              "              style=\"display:none;\">\n",
              "        \n",
              "  <svg xmlns=\"http://www.w3.org/2000/svg\" height=\"24px\"viewBox=\"0 0 24 24\"\n",
              "       width=\"24px\">\n",
              "    <path d=\"M0 0h24v24H0V0z\" fill=\"none\"/>\n",
              "    <path d=\"M18.56 5.44l.94 2.06.94-2.06 2.06-.94-2.06-.94-.94-2.06-.94 2.06-2.06.94zm-11 1L8.5 8.5l.94-2.06 2.06-.94-2.06-.94L8.5 2.5l-.94 2.06-2.06.94zm10 10l.94 2.06.94-2.06 2.06-.94-2.06-.94-.94-2.06-.94 2.06-2.06.94z\"/><path d=\"M17.41 7.96l-1.37-1.37c-.4-.4-.92-.59-1.43-.59-.52 0-1.04.2-1.43.59L10.3 9.45l-7.72 7.72c-.78.78-.78 2.05 0 2.83L4 21.41c.39.39.9.59 1.41.59.51 0 1.02-.2 1.41-.59l7.78-7.78 2.81-2.81c.8-.78.8-2.07 0-2.86zM5.41 20L4 18.59l7.72-7.72 1.47 1.35L5.41 20z\"/>\n",
              "  </svg>\n",
              "      </button>\n",
              "      \n",
              "  <style>\n",
              "    .colab-df-container {\n",
              "      display:flex;\n",
              "      flex-wrap:wrap;\n",
              "      gap: 12px;\n",
              "    }\n",
              "\n",
              "    .colab-df-convert {\n",
              "      background-color: #E8F0FE;\n",
              "      border: none;\n",
              "      border-radius: 50%;\n",
              "      cursor: pointer;\n",
              "      display: none;\n",
              "      fill: #1967D2;\n",
              "      height: 32px;\n",
              "      padding: 0 0 0 0;\n",
              "      width: 32px;\n",
              "    }\n",
              "\n",
              "    .colab-df-convert:hover {\n",
              "      background-color: #E2EBFA;\n",
              "      box-shadow: 0px 1px 2px rgba(60, 64, 67, 0.3), 0px 1px 3px 1px rgba(60, 64, 67, 0.15);\n",
              "      fill: #174EA6;\n",
              "    }\n",
              "\n",
              "    [theme=dark] .colab-df-convert {\n",
              "      background-color: #3B4455;\n",
              "      fill: #D2E3FC;\n",
              "    }\n",
              "\n",
              "    [theme=dark] .colab-df-convert:hover {\n",
              "      background-color: #434B5C;\n",
              "      box-shadow: 0px 1px 3px 1px rgba(0, 0, 0, 0.15);\n",
              "      filter: drop-shadow(0px 1px 2px rgba(0, 0, 0, 0.3));\n",
              "      fill: #FFFFFF;\n",
              "    }\n",
              "  </style>\n",
              "\n",
              "      <script>\n",
              "        const buttonEl =\n",
              "          document.querySelector('#df-85076983-80f8-4d37-8826-f0f0c3d5c24b button.colab-df-convert');\n",
              "        buttonEl.style.display =\n",
              "          google.colab.kernel.accessAllowed ? 'block' : 'none';\n",
              "\n",
              "        async function convertToInteractive(key) {\n",
              "          const element = document.querySelector('#df-85076983-80f8-4d37-8826-f0f0c3d5c24b');\n",
              "          const dataTable =\n",
              "            await google.colab.kernel.invokeFunction('convertToInteractive',\n",
              "                                                     [key], {});\n",
              "          if (!dataTable) return;\n",
              "\n",
              "          const docLinkHtml = 'Like what you see? Visit the ' +\n",
              "            '<a target=\"_blank\" href=https://colab.research.google.com/notebooks/data_table.ipynb>data table notebook</a>'\n",
              "            + ' to learn more about interactive tables.';\n",
              "          element.innerHTML = '';\n",
              "          dataTable['output_type'] = 'display_data';\n",
              "          await google.colab.output.renderOutput(dataTable, element);\n",
              "          const docLink = document.createElement('div');\n",
              "          docLink.innerHTML = docLinkHtml;\n",
              "          element.appendChild(docLink);\n",
              "        }\n",
              "      </script>\n",
              "    </div>\n",
              "  </div>\n",
              "  "
            ]
          },
          "metadata": {},
          "execution_count": 55
        }
      ]
    },
    {
      "cell_type": "code",
      "source": [
        "df5.to_csv('Temperature.csv')"
      ],
      "metadata": {
        "id": "aLtgmkH_hRq3"
      },
      "execution_count": 56,
      "outputs": []
    },
    {
      "cell_type": "markdown",
      "source": [
        "# **Dissolved Oxygen Matter**"
      ],
      "metadata": {
        "id": "zz4JIC0MArUJ"
      }
    },
    {
      "cell_type": "markdown",
      "source": [
        "## Selecting the Satellite"
      ],
      "metadata": {
        "id": "CAaqVMKSESki"
      }
    },
    {
      "cell_type": "markdown",
      "source": [
        "**Data collection through this satellite takes too long, try to give dates between short rangs as monthly or quartly**"
      ],
      "metadata": {
        "id": "Nha5f6asgh4n"
      }
    },
    {
      "cell_type": "code",
      "source": [
        "sentinel3 = ee.ImageCollection(\"COPERNICUS/S3/OLCI\").\\\n",
        "              filterDate(\"2018-01-01\",\"2023-01-01\")\n",
        "sentinel3_AOI = sentinel3.filterBounds(kerwa_AOI)"
      ],
      "metadata": {
        "id": "QRbh0TVSBDxp"
      },
      "execution_count": 57,
      "outputs": []
    },
    {
      "cell_type": "code",
      "source": [
        "print('Total number of images :', sentinel3_AOI.size().getInfo())"
      ],
      "metadata": {
        "colab": {
          "base_uri": "https://localhost:8080/"
        },
        "id": "DPK26BVEloHu",
        "outputId": "3e631257-7c37-4bbb-98d3-72d2e60b526a"
      },
      "execution_count": 58,
      "outputs": [
        {
          "output_type": "stream",
          "name": "stdout",
          "text": [
            "Total number of images : 4504\n"
          ]
        }
      ]
    },
    {
      "cell_type": "markdown",
      "source": [
        "## Iterating over all the images"
      ],
      "metadata": {
        "id": "0v-WA5nQiLJW"
      }
    },
    {
      "cell_type": "code",
      "source": [
        "def addDM(image):\n",
        "  rgb = image.select(['Oa08_radiance', 'Oa06_radiance', 'Oa04_radiance'])\\\n",
        "              .multiply(ee.Image([0.00876539, 0.0123538, 0.0115198]))\n",
        "  dm = rgb.select('Oa08_radiance').divide(rgb.select('Oa04_radiance')).rename('dom')\n",
        "  return image.addBands(dm)\n",
        "with_dm = sentinel3_AOI.map(addDM)"
      ],
      "metadata": {
        "id": "BG6nD7kXCkOL"
      },
      "execution_count": 59,
      "outputs": []
    },
    {
      "cell_type": "markdown",
      "source": [
        "## Calculating the Average Dissolved Oxygen matter on every image in the image collection"
      ],
      "metadata": {
        "id": "1aqlTH8Lg45m"
      }
    },
    {
      "cell_type": "code",
      "source": [
        "def meanDM(image):\n",
        "  image = ee.Image(image)\n",
        "  mean = image.reduceRegion(reducer = ee.Reducer.mean().setOutputs(['dom']),\n",
        "                           geometry = kerwa_AOI,\n",
        "                           scale = image.projection().nominalScale().getInfo(),\n",
        "                           maxPixels = 100000,\n",
        "                           bestEffort = True);\n",
        "  return mean.get('dom').getInfo()"
      ],
      "metadata": {
        "id": "de4OnIR4Dcdu"
      },
      "execution_count": 60,
      "outputs": []
    },
    {
      "cell_type": "code",
      "source": [
        "Images_dm = with_dm.select('dom').toList(with_dm.size())\n",
        "dm_coll= []\n",
        "for i in range(Images_dm.length().getInfo()):\n",
        "  image = ee.Image(Images_dm.get(i-1))\n",
        "  temp_dm = meanDM(image)\n",
        "  dm_coll.append(temp_dm)"
      ],
      "metadata": {
        "id": "AmGIp4x7DnRt"
      },
      "execution_count": null,
      "outputs": []
    },
    {
      "cell_type": "markdown",
      "source": [
        "## Getting Dates from the Image Collection"
      ],
      "metadata": {
        "id": "zbXQXvh4g-pG"
      }
    },
    {
      "cell_type": "code",
      "source": [
        "dates = np.array(with_dm.aggregate_array(\"system:time_start\").getInfo())\n",
        "day = [datetime.datetime.fromtimestamp(i/1000).strftime('%Y-%m-%d') for i in (dates)]"
      ],
      "metadata": {
        "id": "Kgh8ZHUqD2iH"
      },
      "execution_count": null,
      "outputs": []
    },
    {
      "cell_type": "markdown",
      "source": [
        "## Creating a Dataframe"
      ],
      "metadata": {
        "id": "maJmyWHOhBL-"
      }
    },
    {
      "cell_type": "code",
      "source": [
        "df6 = pd.DataFrame(dm_coll, index = day, columns = ['Dissolved Oxygen Matter'])\n",
        "df6.index = pd.to_datetime(df6.index, format=\"%Y/%m/%d\")\n",
        "df6.sort_index(ascending = True, inplace = True)"
      ],
      "metadata": {
        "id": "X-_Q0EwmT5yv"
      },
      "execution_count": null,
      "outputs": []
    },
    {
      "cell_type": "code",
      "source": [
        "df6"
      ],
      "metadata": {
        "id": "_X4NJBdgFXsS",
        "colab": {
          "base_uri": "https://localhost:8080/",
          "height": 423
        },
        "outputId": "90006410-e8e6-4d06-d5da-f9f28a769386"
      },
      "execution_count": null,
      "outputs": [
        {
          "output_type": "execute_result",
          "data": {
            "text/plain": [
              "            Dissolved Oxygen Matter\n",
              "2020-12-02                 0.466159\n",
              "2020-12-03                 0.466518\n",
              "2020-12-04                 0.560359\n",
              "2020-12-05                 0.488783\n",
              "2020-12-06                 0.394080\n",
              "...                             ...\n",
              "2021-11-27                 0.453826\n",
              "2021-11-28                 0.454178\n",
              "2021-11-29                 0.448767\n",
              "2021-11-29                 0.381007\n",
              "2021-11-30                 0.474854\n",
              "\n",
              "[417 rows x 1 columns]"
            ],
            "text/html": [
              "\n",
              "  <div id=\"df-8b1629db-82fb-40af-bcd1-de50b373b1e0\">\n",
              "    <div class=\"colab-df-container\">\n",
              "      <div>\n",
              "<style scoped>\n",
              "    .dataframe tbody tr th:only-of-type {\n",
              "        vertical-align: middle;\n",
              "    }\n",
              "\n",
              "    .dataframe tbody tr th {\n",
              "        vertical-align: top;\n",
              "    }\n",
              "\n",
              "    .dataframe thead th {\n",
              "        text-align: right;\n",
              "    }\n",
              "</style>\n",
              "<table border=\"1\" class=\"dataframe\">\n",
              "  <thead>\n",
              "    <tr style=\"text-align: right;\">\n",
              "      <th></th>\n",
              "      <th>Dissolved Oxygen Matter</th>\n",
              "    </tr>\n",
              "  </thead>\n",
              "  <tbody>\n",
              "    <tr>\n",
              "      <th>2020-12-02</th>\n",
              "      <td>0.466159</td>\n",
              "    </tr>\n",
              "    <tr>\n",
              "      <th>2020-12-03</th>\n",
              "      <td>0.466518</td>\n",
              "    </tr>\n",
              "    <tr>\n",
              "      <th>2020-12-04</th>\n",
              "      <td>0.560359</td>\n",
              "    </tr>\n",
              "    <tr>\n",
              "      <th>2020-12-05</th>\n",
              "      <td>0.488783</td>\n",
              "    </tr>\n",
              "    <tr>\n",
              "      <th>2020-12-06</th>\n",
              "      <td>0.394080</td>\n",
              "    </tr>\n",
              "    <tr>\n",
              "      <th>...</th>\n",
              "      <td>...</td>\n",
              "    </tr>\n",
              "    <tr>\n",
              "      <th>2021-11-27</th>\n",
              "      <td>0.453826</td>\n",
              "    </tr>\n",
              "    <tr>\n",
              "      <th>2021-11-28</th>\n",
              "      <td>0.454178</td>\n",
              "    </tr>\n",
              "    <tr>\n",
              "      <th>2021-11-29</th>\n",
              "      <td>0.448767</td>\n",
              "    </tr>\n",
              "    <tr>\n",
              "      <th>2021-11-29</th>\n",
              "      <td>0.381007</td>\n",
              "    </tr>\n",
              "    <tr>\n",
              "      <th>2021-11-30</th>\n",
              "      <td>0.474854</td>\n",
              "    </tr>\n",
              "  </tbody>\n",
              "</table>\n",
              "<p>417 rows × 1 columns</p>\n",
              "</div>\n",
              "      <button class=\"colab-df-convert\" onclick=\"convertToInteractive('df-8b1629db-82fb-40af-bcd1-de50b373b1e0')\"\n",
              "              title=\"Convert this dataframe to an interactive table.\"\n",
              "              style=\"display:none;\">\n",
              "        \n",
              "  <svg xmlns=\"http://www.w3.org/2000/svg\" height=\"24px\"viewBox=\"0 0 24 24\"\n",
              "       width=\"24px\">\n",
              "    <path d=\"M0 0h24v24H0V0z\" fill=\"none\"/>\n",
              "    <path d=\"M18.56 5.44l.94 2.06.94-2.06 2.06-.94-2.06-.94-.94-2.06-.94 2.06-2.06.94zm-11 1L8.5 8.5l.94-2.06 2.06-.94-2.06-.94L8.5 2.5l-.94 2.06-2.06.94zm10 10l.94 2.06.94-2.06 2.06-.94-2.06-.94-.94-2.06-.94 2.06-2.06.94z\"/><path d=\"M17.41 7.96l-1.37-1.37c-.4-.4-.92-.59-1.43-.59-.52 0-1.04.2-1.43.59L10.3 9.45l-7.72 7.72c-.78.78-.78 2.05 0 2.83L4 21.41c.39.39.9.59 1.41.59.51 0 1.02-.2 1.41-.59l7.78-7.78 2.81-2.81c.8-.78.8-2.07 0-2.86zM5.41 20L4 18.59l7.72-7.72 1.47 1.35L5.41 20z\"/>\n",
              "  </svg>\n",
              "      </button>\n",
              "      \n",
              "  <style>\n",
              "    .colab-df-container {\n",
              "      display:flex;\n",
              "      flex-wrap:wrap;\n",
              "      gap: 12px;\n",
              "    }\n",
              "\n",
              "    .colab-df-convert {\n",
              "      background-color: #E8F0FE;\n",
              "      border: none;\n",
              "      border-radius: 50%;\n",
              "      cursor: pointer;\n",
              "      display: none;\n",
              "      fill: #1967D2;\n",
              "      height: 32px;\n",
              "      padding: 0 0 0 0;\n",
              "      width: 32px;\n",
              "    }\n",
              "\n",
              "    .colab-df-convert:hover {\n",
              "      background-color: #E2EBFA;\n",
              "      box-shadow: 0px 1px 2px rgba(60, 64, 67, 0.3), 0px 1px 3px 1px rgba(60, 64, 67, 0.15);\n",
              "      fill: #174EA6;\n",
              "    }\n",
              "\n",
              "    [theme=dark] .colab-df-convert {\n",
              "      background-color: #3B4455;\n",
              "      fill: #D2E3FC;\n",
              "    }\n",
              "\n",
              "    [theme=dark] .colab-df-convert:hover {\n",
              "      background-color: #434B5C;\n",
              "      box-shadow: 0px 1px 3px 1px rgba(0, 0, 0, 0.15);\n",
              "      filter: drop-shadow(0px 1px 2px rgba(0, 0, 0, 0.3));\n",
              "      fill: #FFFFFF;\n",
              "    }\n",
              "  </style>\n",
              "\n",
              "      <script>\n",
              "        const buttonEl =\n",
              "          document.querySelector('#df-8b1629db-82fb-40af-bcd1-de50b373b1e0 button.colab-df-convert');\n",
              "        buttonEl.style.display =\n",
              "          google.colab.kernel.accessAllowed ? 'block' : 'none';\n",
              "\n",
              "        async function convertToInteractive(key) {\n",
              "          const element = document.querySelector('#df-8b1629db-82fb-40af-bcd1-de50b373b1e0');\n",
              "          const dataTable =\n",
              "            await google.colab.kernel.invokeFunction('convertToInteractive',\n",
              "                                                     [key], {});\n",
              "          if (!dataTable) return;\n",
              "\n",
              "          const docLinkHtml = 'Like what you see? Visit the ' +\n",
              "            '<a target=\"_blank\" href=https://colab.research.google.com/notebooks/data_table.ipynb>data table notebook</a>'\n",
              "            + ' to learn more about interactive tables.';\n",
              "          element.innerHTML = '';\n",
              "          dataTable['output_type'] = 'display_data';\n",
              "          await google.colab.output.renderOutput(dataTable, element);\n",
              "          const docLink = document.createElement('div');\n",
              "          docLink.innerHTML = docLinkHtml;\n",
              "          element.appendChild(docLink);\n",
              "        }\n",
              "      </script>\n",
              "    </div>\n",
              "  </div>\n",
              "  "
            ]
          },
          "metadata": {},
          "execution_count": 76
        }
      ]
    },
    {
      "cell_type": "code",
      "source": [
        "df6.to_csv('Dissolved Oxygen Matter.csv')"
      ],
      "metadata": {
        "id": "KCzyFC3vCGy3"
      },
      "execution_count": null,
      "outputs": []
    },
    {
      "cell_type": "markdown",
      "source": [
        "# **Suspended Matter**"
      ],
      "metadata": {
        "id": "-_zpfSPOZ56i"
      }
    },
    {
      "cell_type": "markdown",
      "source": [
        "Selecting the Satellite"
      ],
      "metadata": {
        "id": "xowkF3uAhFcG"
      }
    },
    {
      "cell_type": "markdown",
      "source": [
        "**Data collection through this satellite takes too long, try to give dates between short rangs as monthly or quartly** "
      ],
      "metadata": {
        "id": "IknCE9PRhHnQ"
      }
    },
    {
      "cell_type": "code",
      "source": [
        "sentinel3 = ee.ImageCollection(\"COPERNICUS/S3/OLCI\").\\\n",
        "              filterDate(\"2018-01-01\",\"2023-01-01\")\n",
        "sentinel3_AOI = sentinel3.filterBounds(kerwa_AOI)"
      ],
      "metadata": {
        "id": "MoONpfz9cGZV"
      },
      "execution_count": null,
      "outputs": []
    },
    {
      "cell_type": "code",
      "source": [
        "print('Total number of images :', sentinel3_AOI.size().getInfo())"
      ],
      "metadata": {
        "colab": {
          "base_uri": "https://localhost:8080/"
        },
        "id": "A8CgYS7BcIkP",
        "outputId": "74eb2476-5897-493c-9961-cc38f6f4cafe"
      },
      "execution_count": null,
      "outputs": [
        {
          "output_type": "stream",
          "name": "stdout",
          "text": [
            "Total number of images : 407\n"
          ]
        }
      ]
    },
    {
      "cell_type": "markdown",
      "source": [
        "## Iterating over all the images"
      ],
      "metadata": {
        "id": "apAoRsY9iVMW"
      }
    },
    {
      "cell_type": "code",
      "source": [
        "def addSM(image):\n",
        "  rgb = image.select(['Oa08_radiance', 'Oa06_radiance', 'Oa04_radiance'])\\\n",
        "              .multiply(ee.Image([0.00876539, 0.0123538, 0.0115198]))\n",
        "  suspended_matter = rgb.select('Oa08_radiance').divide(rgb.select('Oa06_radiance')).rename('suspended_matter')\n",
        "  return image.addBands(suspended_matter)\n",
        "with_sm = sentinel3_AOI.map(addSM)"
      ],
      "metadata": {
        "id": "0ezYwq74Z9di"
      },
      "execution_count": null,
      "outputs": []
    },
    {
      "cell_type": "markdown",
      "source": [
        "## Calculating the Average Suspended Matter on every image in the image collection"
      ],
      "metadata": {
        "id": "PXxg99n0hRv3"
      }
    },
    {
      "cell_type": "code",
      "source": [
        "def meanSM(image):\n",
        "  image = ee.Image(image)\n",
        "  mean = image.reduceRegion(reducer = ee.Reducer.mean().setOutputs(['suspended_matter']),\n",
        "                           geometry = kerwa_AOI,\n",
        "                           scale = image.projection().nominalScale().getInfo(),\n",
        "                           maxPixels = 100000,\n",
        "                           bestEffort = True);\n",
        "  return mean.get('suspended_matter').getInfo()"
      ],
      "metadata": {
        "id": "LVK07bAaaVg1"
      },
      "execution_count": null,
      "outputs": []
    },
    {
      "cell_type": "code",
      "source": [
        "Images_sm = with_sm.select('suspended_matter').toList(with_sm.size())\n",
        "sm_coll= []\n",
        "for i in range(Images_sm.length().getInfo()):\n",
        "  image = ee.Image(Images_sm.get(i-1))\n",
        "  temp_sm = meanSM(image)\n",
        "  sm_coll.append(temp_sm)"
      ],
      "metadata": {
        "id": "Efd-ZKWabC0P"
      },
      "execution_count": null,
      "outputs": []
    },
    {
      "cell_type": "markdown",
      "source": [
        "## Getting Dates from the Image Collection"
      ],
      "metadata": {
        "id": "95Anfrb-hW_9"
      }
    },
    {
      "cell_type": "code",
      "source": [
        "dates = np.array(with_sm.aggregate_array(\"system:time_start\").getInfo())\n",
        "day = [datetime.datetime.fromtimestamp(i/1000).strftime('%Y-%m-%d') for i in (dates)]"
      ],
      "metadata": {
        "id": "56g46Ny9npjW"
      },
      "execution_count": null,
      "outputs": []
    },
    {
      "cell_type": "markdown",
      "source": [
        "## Creating a Dataframe"
      ],
      "metadata": {
        "id": "odbOHsRAhY1-"
      }
    },
    {
      "cell_type": "code",
      "source": [
        "df7 = pd.DataFrame(sm_coll, index = day, columns = ['Suspended Matter'])\n",
        "df7.index = pd.to_datetime(df7.index, format=\"%Y/%m/%d\")\n",
        "df7.sort_index(ascending = True, inplace = True)"
      ],
      "metadata": {
        "id": "qL7vxwaHnu5M"
      },
      "execution_count": null,
      "outputs": []
    },
    {
      "cell_type": "code",
      "source": [
        "df7"
      ],
      "metadata": {
        "colab": {
          "base_uri": "https://localhost:8080/",
          "height": 423
        },
        "id": "THHUxzX_cVEd",
        "outputId": "a4069441-971a-4b38-a012-c917a0427617"
      },
      "execution_count": null,
      "outputs": [
        {
          "output_type": "execute_result",
          "data": {
            "text/plain": [
              "            Suspended Matter\n",
              "2018-04-02               NaN\n",
              "2018-04-03          0.601059\n",
              "2018-04-03               NaN\n",
              "2018-04-03               NaN\n",
              "2018-04-03               NaN\n",
              "...                      ...\n",
              "2018-04-30               NaN\n",
              "2018-04-30               NaN\n",
              "2018-04-30               NaN\n",
              "2018-04-30               NaN\n",
              "2018-04-30               NaN\n",
              "\n",
              "[407 rows x 1 columns]"
            ],
            "text/html": [
              "\n",
              "  <div id=\"df-6f666131-ca1f-4a80-aa5f-7e4f2655d95b\">\n",
              "    <div class=\"colab-df-container\">\n",
              "      <div>\n",
              "<style scoped>\n",
              "    .dataframe tbody tr th:only-of-type {\n",
              "        vertical-align: middle;\n",
              "    }\n",
              "\n",
              "    .dataframe tbody tr th {\n",
              "        vertical-align: top;\n",
              "    }\n",
              "\n",
              "    .dataframe thead th {\n",
              "        text-align: right;\n",
              "    }\n",
              "</style>\n",
              "<table border=\"1\" class=\"dataframe\">\n",
              "  <thead>\n",
              "    <tr style=\"text-align: right;\">\n",
              "      <th></th>\n",
              "      <th>Suspended Matter</th>\n",
              "    </tr>\n",
              "  </thead>\n",
              "  <tbody>\n",
              "    <tr>\n",
              "      <th>2018-04-02</th>\n",
              "      <td>NaN</td>\n",
              "    </tr>\n",
              "    <tr>\n",
              "      <th>2018-04-03</th>\n",
              "      <td>0.601059</td>\n",
              "    </tr>\n",
              "    <tr>\n",
              "      <th>2018-04-03</th>\n",
              "      <td>NaN</td>\n",
              "    </tr>\n",
              "    <tr>\n",
              "      <th>2018-04-03</th>\n",
              "      <td>NaN</td>\n",
              "    </tr>\n",
              "    <tr>\n",
              "      <th>2018-04-03</th>\n",
              "      <td>NaN</td>\n",
              "    </tr>\n",
              "    <tr>\n",
              "      <th>...</th>\n",
              "      <td>...</td>\n",
              "    </tr>\n",
              "    <tr>\n",
              "      <th>2018-04-30</th>\n",
              "      <td>NaN</td>\n",
              "    </tr>\n",
              "    <tr>\n",
              "      <th>2018-04-30</th>\n",
              "      <td>NaN</td>\n",
              "    </tr>\n",
              "    <tr>\n",
              "      <th>2018-04-30</th>\n",
              "      <td>NaN</td>\n",
              "    </tr>\n",
              "    <tr>\n",
              "      <th>2018-04-30</th>\n",
              "      <td>NaN</td>\n",
              "    </tr>\n",
              "    <tr>\n",
              "      <th>2018-04-30</th>\n",
              "      <td>NaN</td>\n",
              "    </tr>\n",
              "  </tbody>\n",
              "</table>\n",
              "<p>407 rows × 1 columns</p>\n",
              "</div>\n",
              "      <button class=\"colab-df-convert\" onclick=\"convertToInteractive('df-6f666131-ca1f-4a80-aa5f-7e4f2655d95b')\"\n",
              "              title=\"Convert this dataframe to an interactive table.\"\n",
              "              style=\"display:none;\">\n",
              "        \n",
              "  <svg xmlns=\"http://www.w3.org/2000/svg\" height=\"24px\"viewBox=\"0 0 24 24\"\n",
              "       width=\"24px\">\n",
              "    <path d=\"M0 0h24v24H0V0z\" fill=\"none\"/>\n",
              "    <path d=\"M18.56 5.44l.94 2.06.94-2.06 2.06-.94-2.06-.94-.94-2.06-.94 2.06-2.06.94zm-11 1L8.5 8.5l.94-2.06 2.06-.94-2.06-.94L8.5 2.5l-.94 2.06-2.06.94zm10 10l.94 2.06.94-2.06 2.06-.94-2.06-.94-.94-2.06-.94 2.06-2.06.94z\"/><path d=\"M17.41 7.96l-1.37-1.37c-.4-.4-.92-.59-1.43-.59-.52 0-1.04.2-1.43.59L10.3 9.45l-7.72 7.72c-.78.78-.78 2.05 0 2.83L4 21.41c.39.39.9.59 1.41.59.51 0 1.02-.2 1.41-.59l7.78-7.78 2.81-2.81c.8-.78.8-2.07 0-2.86zM5.41 20L4 18.59l7.72-7.72 1.47 1.35L5.41 20z\"/>\n",
              "  </svg>\n",
              "      </button>\n",
              "      \n",
              "  <style>\n",
              "    .colab-df-container {\n",
              "      display:flex;\n",
              "      flex-wrap:wrap;\n",
              "      gap: 12px;\n",
              "    }\n",
              "\n",
              "    .colab-df-convert {\n",
              "      background-color: #E8F0FE;\n",
              "      border: none;\n",
              "      border-radius: 50%;\n",
              "      cursor: pointer;\n",
              "      display: none;\n",
              "      fill: #1967D2;\n",
              "      height: 32px;\n",
              "      padding: 0 0 0 0;\n",
              "      width: 32px;\n",
              "    }\n",
              "\n",
              "    .colab-df-convert:hover {\n",
              "      background-color: #E2EBFA;\n",
              "      box-shadow: 0px 1px 2px rgba(60, 64, 67, 0.3), 0px 1px 3px 1px rgba(60, 64, 67, 0.15);\n",
              "      fill: #174EA6;\n",
              "    }\n",
              "\n",
              "    [theme=dark] .colab-df-convert {\n",
              "      background-color: #3B4455;\n",
              "      fill: #D2E3FC;\n",
              "    }\n",
              "\n",
              "    [theme=dark] .colab-df-convert:hover {\n",
              "      background-color: #434B5C;\n",
              "      box-shadow: 0px 1px 3px 1px rgba(0, 0, 0, 0.15);\n",
              "      filter: drop-shadow(0px 1px 2px rgba(0, 0, 0, 0.3));\n",
              "      fill: #FFFFFF;\n",
              "    }\n",
              "  </style>\n",
              "\n",
              "      <script>\n",
              "        const buttonEl =\n",
              "          document.querySelector('#df-6f666131-ca1f-4a80-aa5f-7e4f2655d95b button.colab-df-convert');\n",
              "        buttonEl.style.display =\n",
              "          google.colab.kernel.accessAllowed ? 'block' : 'none';\n",
              "\n",
              "        async function convertToInteractive(key) {\n",
              "          const element = document.querySelector('#df-6f666131-ca1f-4a80-aa5f-7e4f2655d95b');\n",
              "          const dataTable =\n",
              "            await google.colab.kernel.invokeFunction('convertToInteractive',\n",
              "                                                     [key], {});\n",
              "          if (!dataTable) return;\n",
              "\n",
              "          const docLinkHtml = 'Like what you see? Visit the ' +\n",
              "            '<a target=\"_blank\" href=https://colab.research.google.com/notebooks/data_table.ipynb>data table notebook</a>'\n",
              "            + ' to learn more about interactive tables.';\n",
              "          element.innerHTML = '';\n",
              "          dataTable['output_type'] = 'display_data';\n",
              "          await google.colab.output.renderOutput(dataTable, element);\n",
              "          const docLink = document.createElement('div');\n",
              "          docLink.innerHTML = docLinkHtml;\n",
              "          element.appendChild(docLink);\n",
              "        }\n",
              "      </script>\n",
              "    </div>\n",
              "  </div>\n",
              "  "
            ]
          },
          "metadata": {},
          "execution_count": 30
        }
      ]
    },
    {
      "cell_type": "code",
      "source": [
        "df7.to_csv('Suspended Matter.csv')"
      ],
      "metadata": {
        "id": "LTfZwmomc1U9"
      },
      "execution_count": null,
      "outputs": []
    }
  ]
}